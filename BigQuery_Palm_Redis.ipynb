{
  "cells": [
    {
      "cell_type": "markdown",
      "metadata": {
        "id": "rK2rWODkw-kX"
      },
      "source": [
        "## Install required libraries"
      ]
    },
    {
      "cell_type": "markdown",
      "metadata": {
        "id": "hCZDpXss4XpR"
      },
      "source": [
        "<a href=\"https://colab.research.google.com/github/RedisVentures/redis-google-llms/blob/main/BigQuery_Palm_Redis.ipynb\" target=\"_parent\"><img src=\"https://colab.research.google.com/assets/colab-badge.svg\" alt=\"Open In Colab\"/></a>"
      ]
    },
    {
      "cell_type": "code",
      "execution_count": 49,
      "metadata": {
        "colab": {
          "base_uri": "https://localhost:8080/"
        },
        "id": "pc-IxYu3wnQm",
        "outputId": "889e9aba-44fb-4faf-f566-25fc49061dae"
      },
      "outputs": [
        {
          "output_type": "stream",
          "name": "stdout",
          "text": [
            "Requirement already satisfied: redis in /root/.local/lib/python3.10/site-packages (4.6.0)\n",
            "Requirement already satisfied: google-cloud-aiplatform==1.25.0 in /root/.local/lib/python3.10/site-packages (1.25.0)\n",
            "Requirement already satisfied: google-api-core[grpc]!=2.0.*,!=2.1.*,!=2.2.*,!=2.3.*,!=2.4.*,!=2.5.*,!=2.6.*,!=2.7.*,<3.0.0dev,>=1.32.0 in /usr/local/lib/python3.10/dist-packages (from google-cloud-aiplatform==1.25.0) (2.11.1)\n",
            "Requirement already satisfied: proto-plus<2.0.0dev,>=1.22.0 in /usr/local/lib/python3.10/dist-packages (from google-cloud-aiplatform==1.25.0) (1.22.3)\n",
            "Requirement already satisfied: protobuf!=3.20.0,!=3.20.1,!=4.21.0,!=4.21.1,!=4.21.2,!=4.21.3,!=4.21.4,!=4.21.5,<5.0.0dev,>=3.19.5 in /usr/local/lib/python3.10/dist-packages (from google-cloud-aiplatform==1.25.0) (3.20.3)\n",
            "Requirement already satisfied: packaging>=14.3 in /usr/local/lib/python3.10/dist-packages (from google-cloud-aiplatform==1.25.0) (23.1)\n",
            "Requirement already satisfied: google-cloud-storage<3.0.0dev,>=1.32.0 in /usr/local/lib/python3.10/dist-packages (from google-cloud-aiplatform==1.25.0) (2.8.0)\n",
            "Requirement already satisfied: google-cloud-bigquery<4.0.0dev,>=1.15.0 in /usr/local/lib/python3.10/dist-packages (from google-cloud-aiplatform==1.25.0) (3.10.0)\n",
            "Requirement already satisfied: google-cloud-resource-manager<3.0.0dev,>=1.3.3 in /root/.local/lib/python3.10/site-packages (from google-cloud-aiplatform==1.25.0) (1.10.1)\n",
            "Requirement already satisfied: shapely<2.0.0 in /root/.local/lib/python3.10/site-packages (from google-cloud-aiplatform==1.25.0) (1.8.5.post1)\n",
            "Requirement already satisfied: async-timeout>=4.0.2 in /usr/local/lib/python3.10/dist-packages (from redis) (4.0.2)\n",
            "Requirement already satisfied: googleapis-common-protos<2.0.dev0,>=1.56.2 in /usr/local/lib/python3.10/dist-packages (from google-api-core[grpc]!=2.0.*,!=2.1.*,!=2.2.*,!=2.3.*,!=2.4.*,!=2.5.*,!=2.6.*,!=2.7.*,<3.0.0dev,>=1.32.0->google-cloud-aiplatform==1.25.0) (1.59.1)\n",
            "Requirement already satisfied: google-auth<3.0.dev0,>=2.14.1 in /usr/local/lib/python3.10/dist-packages (from google-api-core[grpc]!=2.0.*,!=2.1.*,!=2.2.*,!=2.3.*,!=2.4.*,!=2.5.*,!=2.6.*,!=2.7.*,<3.0.0dev,>=1.32.0->google-cloud-aiplatform==1.25.0) (2.17.3)\n",
            "Requirement already satisfied: requests<3.0.0.dev0,>=2.18.0 in /usr/local/lib/python3.10/dist-packages (from google-api-core[grpc]!=2.0.*,!=2.1.*,!=2.2.*,!=2.3.*,!=2.4.*,!=2.5.*,!=2.6.*,!=2.7.*,<3.0.0dev,>=1.32.0->google-cloud-aiplatform==1.25.0) (2.27.1)\n",
            "Requirement already satisfied: grpcio<2.0dev,>=1.33.2 in /usr/local/lib/python3.10/dist-packages (from google-api-core[grpc]!=2.0.*,!=2.1.*,!=2.2.*,!=2.3.*,!=2.4.*,!=2.5.*,!=2.6.*,!=2.7.*,<3.0.0dev,>=1.32.0->google-cloud-aiplatform==1.25.0) (1.56.0)\n",
            "Requirement already satisfied: grpcio-status<2.0.dev0,>=1.33.2 in /usr/local/lib/python3.10/dist-packages (from google-api-core[grpc]!=2.0.*,!=2.1.*,!=2.2.*,!=2.3.*,!=2.4.*,!=2.5.*,!=2.6.*,!=2.7.*,<3.0.0dev,>=1.32.0->google-cloud-aiplatform==1.25.0) (1.48.2)\n",
            "Requirement already satisfied: google-cloud-core<3.0.0dev,>=1.6.0 in /usr/local/lib/python3.10/dist-packages (from google-cloud-bigquery<4.0.0dev,>=1.15.0->google-cloud-aiplatform==1.25.0) (2.3.2)\n",
            "Requirement already satisfied: google-resumable-media<3.0dev,>=0.6.0 in /usr/local/lib/python3.10/dist-packages (from google-cloud-bigquery<4.0.0dev,>=1.15.0->google-cloud-aiplatform==1.25.0) (2.5.0)\n",
            "Requirement already satisfied: python-dateutil<3.0dev,>=2.7.2 in /usr/local/lib/python3.10/dist-packages (from google-cloud-bigquery<4.0.0dev,>=1.15.0->google-cloud-aiplatform==1.25.0) (2.8.2)\n",
            "Requirement already satisfied: grpc-google-iam-v1<1.0.0dev,>=0.12.4 in /usr/local/lib/python3.10/dist-packages (from google-cloud-resource-manager<3.0.0dev,>=1.3.3->google-cloud-aiplatform==1.25.0) (0.12.6)\n",
            "Requirement already satisfied: cachetools<6.0,>=2.0.0 in /usr/local/lib/python3.10/dist-packages (from google-auth<3.0.dev0,>=2.14.1->google-api-core[grpc]!=2.0.*,!=2.1.*,!=2.2.*,!=2.3.*,!=2.4.*,!=2.5.*,!=2.6.*,!=2.7.*,<3.0.0dev,>=1.32.0->google-cloud-aiplatform==1.25.0) (5.3.1)\n",
            "Requirement already satisfied: pyasn1-modules>=0.2.1 in /usr/local/lib/python3.10/dist-packages (from google-auth<3.0.dev0,>=2.14.1->google-api-core[grpc]!=2.0.*,!=2.1.*,!=2.2.*,!=2.3.*,!=2.4.*,!=2.5.*,!=2.6.*,!=2.7.*,<3.0.0dev,>=1.32.0->google-cloud-aiplatform==1.25.0) (0.3.0)\n",
            "Requirement already satisfied: six>=1.9.0 in /usr/local/lib/python3.10/dist-packages (from google-auth<3.0.dev0,>=2.14.1->google-api-core[grpc]!=2.0.*,!=2.1.*,!=2.2.*,!=2.3.*,!=2.4.*,!=2.5.*,!=2.6.*,!=2.7.*,<3.0.0dev,>=1.32.0->google-cloud-aiplatform==1.25.0) (1.16.0)\n",
            "Requirement already satisfied: rsa<5,>=3.1.4 in /usr/local/lib/python3.10/dist-packages (from google-auth<3.0.dev0,>=2.14.1->google-api-core[grpc]!=2.0.*,!=2.1.*,!=2.2.*,!=2.3.*,!=2.4.*,!=2.5.*,!=2.6.*,!=2.7.*,<3.0.0dev,>=1.32.0->google-cloud-aiplatform==1.25.0) (4.9)\n",
            "Requirement already satisfied: google-crc32c<2.0dev,>=1.0 in /usr/local/lib/python3.10/dist-packages (from google-resumable-media<3.0dev,>=0.6.0->google-cloud-bigquery<4.0.0dev,>=1.15.0->google-cloud-aiplatform==1.25.0) (1.5.0)\n",
            "Requirement already satisfied: urllib3<1.27,>=1.21.1 in /usr/local/lib/python3.10/dist-packages (from requests<3.0.0.dev0,>=2.18.0->google-api-core[grpc]!=2.0.*,!=2.1.*,!=2.2.*,!=2.3.*,!=2.4.*,!=2.5.*,!=2.6.*,!=2.7.*,<3.0.0dev,>=1.32.0->google-cloud-aiplatform==1.25.0) (1.26.16)\n",
            "Requirement already satisfied: certifi>=2017.4.17 in /usr/local/lib/python3.10/dist-packages (from requests<3.0.0.dev0,>=2.18.0->google-api-core[grpc]!=2.0.*,!=2.1.*,!=2.2.*,!=2.3.*,!=2.4.*,!=2.5.*,!=2.6.*,!=2.7.*,<3.0.0dev,>=1.32.0->google-cloud-aiplatform==1.25.0) (2023.5.7)\n",
            "Requirement already satisfied: charset-normalizer~=2.0.0 in /usr/local/lib/python3.10/dist-packages (from requests<3.0.0.dev0,>=2.18.0->google-api-core[grpc]!=2.0.*,!=2.1.*,!=2.2.*,!=2.3.*,!=2.4.*,!=2.5.*,!=2.6.*,!=2.7.*,<3.0.0dev,>=1.32.0->google-cloud-aiplatform==1.25.0) (2.0.12)\n",
            "Requirement already satisfied: idna<4,>=2.5 in /usr/local/lib/python3.10/dist-packages (from requests<3.0.0.dev0,>=2.18.0->google-api-core[grpc]!=2.0.*,!=2.1.*,!=2.2.*,!=2.3.*,!=2.4.*,!=2.5.*,!=2.6.*,!=2.7.*,<3.0.0dev,>=1.32.0->google-cloud-aiplatform==1.25.0) (3.4)\n",
            "Requirement already satisfied: pyasn1<0.6.0,>=0.4.6 in /usr/local/lib/python3.10/dist-packages (from pyasn1-modules>=0.2.1->google-auth<3.0.dev0,>=2.14.1->google-api-core[grpc]!=2.0.*,!=2.1.*,!=2.2.*,!=2.3.*,!=2.4.*,!=2.5.*,!=2.6.*,!=2.7.*,<3.0.0dev,>=1.32.0->google-cloud-aiplatform==1.25.0) (0.5.0)\n"
          ]
        }
      ],
      "source": [
        "!pip install redis \"google-cloud-aiplatform==1.25.0\" --upgrade --user"
      ]
    },
    {
      "cell_type": "markdown",
      "metadata": {
        "id": "p5kx9ePDwwp6"
      },
      "source": [
        "^^^ If prompted press the Restart button to restart the kernel. ^^^"
      ]
    },
    {
      "cell_type": "code",
      "execution_count": 50,
      "metadata": {
        "colab": {
          "base_uri": "https://localhost:8080/"
        },
        "id": "vs4KZURX4XpT",
        "outputId": "272f8210-c8fe-4f2c-ac82-6f792e35b92e"
      },
      "outputs": [
        {
          "output_type": "stream",
          "name": "stdout",
          "text": [
            "deb [signed-by=/usr/share/keyrings/redis-archive-keyring.gpg] https://packages.redis.io/deb focal main\n",
            "Starting redis-stack-server, database path /var/lib/redis-stack\n"
          ]
        },
        {
          "output_type": "stream",
          "name": "stderr",
          "text": [
            "gpg: cannot open '/dev/tty': No such device or address\n",
            "(23) Failed writing body\n"
          ]
        }
      ],
      "source": [
        "%%sh\n",
        "curl -fsSL https://packages.redis.io/gpg | sudo gpg --dearmor -o /usr/share/keyrings/redis-archive-keyring.gpg\n",
        "echo \"deb [signed-by=/usr/share/keyrings/redis-archive-keyring.gpg] https://packages.redis.io/deb $(lsb_release -cs) main\" | sudo tee /etc/apt/sources.list.d/redis.list\n",
        "sudo apt-get update  > /dev/null 2>&1\n",
        "sudo apt-get install redis-stack-server  > /dev/null 2>&1\n",
        "redis-stack-server --daemonize yes"
      ]
    },
    {
      "cell_type": "markdown",
      "metadata": {
        "id": "zvDp8WNz4XpU"
      },
      "source": [
        "## Connect to Redis server"
      ]
    },
    {
      "cell_type": "code",
      "execution_count": 66,
      "metadata": {
        "colab": {
          "base_uri": "https://localhost:8080/"
        },
        "id": "duCyNgfZ4XpU",
        "outputId": "d9e79904-a58c-40f8-b627-250b7ec268cd"
      },
      "outputs": [
        {
          "output_type": "execute_result",
          "data": {
            "text/plain": [
              "True"
            ]
          },
          "metadata": {},
          "execution_count": 66
        }
      ],
      "source": [
        "import os\n",
        "import redis\n",
        "REDIS_HOST = os.getenv(\"REDIS_HOST\", \"localhost\")\n",
        "REDIS_PORT = os.getenv(\"REDIS_PORT\", \"6379\")\n",
        "REDIS_PASSWORD = os.getenv(\"REDIS_PASSWORD\", \"\")\n",
        "#Replace values above with your own if using Redis Cloud instance\n",
        "#REDIS_HOST=\"redis-12110.c82.us-east-1-2.ec2.cloud.redislabs.com\"\n",
        "#REDIS_PORT=12110\n",
        "#REDIS_PASSWORD=\"pobhBJP7Psicp2gV0iqa2ZOc1WdXXXXX\"\n",
        "\n",
        "#shortcut for redis-cli $REDIS_CONN command\n",
        "if REDIS_PASSWORD!=\"\":\n",
        "  os.environ[\"REDIS_CONN\"]=f\"-h {REDIS_HOST} -p {REDIS_PORT} -a {REDIS_PASSWORD} --no-auth-warning\"\n",
        "else:\n",
        "  os.environ[\"REDIS_CONN\"]=f\"-h {REDIS_HOST} -p {REDIS_PORT}\"\n",
        "redis = redis.Redis(\n",
        "  host=REDIS_HOST,\n",
        "  port=REDIS_PORT,\n",
        "  password=REDIS_PASSWORD)\n",
        "redis.ping()"
      ]
    },
    {
      "cell_type": "markdown",
      "metadata": {
        "id": "BpjxW-kou-FY"
      },
      "source": [
        "## Authenticate to Google Cloud"
      ]
    },
    {
      "cell_type": "code",
      "execution_count": 52,
      "metadata": {
        "colab": {
          "base_uri": "https://localhost:8080/"
        },
        "id": "SeTJb51SKs_W",
        "outputId": "3440f954-985b-4f85-d45f-43f06dfb818e"
      },
      "outputs": [
        {
          "output_type": "stream",
          "name": "stdout",
          "text": [
            "Authenticated\n"
          ]
        }
      ],
      "source": [
        "from google.colab import auth\n",
        "auth.authenticate_user()\n",
        "print('Authenticated')"
      ]
    },
    {
      "cell_type": "code",
      "execution_count": 53,
      "metadata": {
        "id": "8Yil6twAvIuH"
      },
      "outputs": [],
      "source": [
        "project_id = 'central-beach-194106'"
      ]
    },
    {
      "cell_type": "markdown",
      "metadata": {
        "id": "ky0pPyMiwDk3"
      },
      "source": [
        "## Big Query SQL to Datafame"
      ]
    },
    {
      "cell_type": "code",
      "execution_count": 54,
      "metadata": {
        "colab": {
          "base_uri": "https://localhost:8080/",
          "height": 1000
        },
        "id": "Yh7cxtmSvJgq",
        "outputId": "6cd4ca3c-eba4-41f5-c7ca-b45a4e100aad"
      },
      "outputs": [
        {
          "output_type": "display_data",
          "data": {
            "text/plain": [
              "                                                 title  \\\n",
              "0    Ask HN: Why is engagement on Twitter so unbeli...   \n",
              "1                Ask HN: Was the U.S. election hacked?   \n",
              "2                        Ask HN: How often do you WFH?   \n",
              "3    Ask HN: Engineers, how do you share code with ...   \n",
              "4    Off-topic: Why do people put [scribd] in a pos...   \n",
              "..                                                 ...   \n",
              "995  Computer Technical Support to Fix Windows 7 Di...   \n",
              "996  Eco-friendly Sony Ericsson Xperia Neo V for so...   \n",
              "997                                        Lift Tables   \n",
              "998                                        Summer camp   \n",
              "999                          Sales | Artsoft Solutions   \n",
              "\n",
              "                                                   url  \\\n",
              "0                                                 None   \n",
              "1                                                 None   \n",
              "2                                                 None   \n",
              "3                                                 None   \n",
              "4                                                 None   \n",
              "..                                                 ...   \n",
              "995  http://www.amazingarticles.com/computer-techni...   \n",
              "996                               http://bit.ly/x8lsHi   \n",
              "997          http://www.pentalift.com/scissor-lift.htm   \n",
              "998              http://www.hiddenbayleadershipcamp.ca   \n",
              "999                 http://sales.artsoftsolutions.net/   \n",
              "\n",
              "                                                  text  dead            by  \\\n",
              "0    Example: Ycombinator has 1 million followers. ...  <NA>        TekMol   \n",
              "1    I haven&#x27;t seen any discussion on this at ...  <NA>      awatlits   \n",
              "2    Working as a software engineer in London I fin...  <NA>        _ao789   \n",
              "3    My team and I are all frustrated by the curren...  <NA>       aismail   \n",
              "4    Wouldn't putting \"[pdf]\" in the title be more ...  <NA>      ncarlson   \n",
              "..                                                 ...   ...           ...   \n",
              "995  There can be varied problems on the background...  True  kellymarion6   \n",
              "996  Sony Ericsson Xperia Neo V is an eco-friendly ...  True     catjohnes   \n",
              "997  Pentalift designs, engineers, and manufactures...  True  charlenellsm   \n",
              "998  Ontario Summer Camp, Hidden Bay Leadership Cam...  True  charlenellsm   \n",
              "999  An Outsourcing Company founded in the Philippi...  True    linkerzseo   \n",
              "\n",
              "     score        time                 timestamp   type        id  parent  \\\n",
              "0        1  1541794502 2018-11-09 20:15:02+00:00  story  18417552    <NA>   \n",
              "1        1  1478788916 2016-11-10 14:41:56+00:00  story  12920705    <NA>   \n",
              "2        1  1498810013 2017-06-30 08:06:53+00:00  story  14669261    <NA>   \n",
              "3        1  1467301075 2016-06-30 15:37:55+00:00  story  12009280    <NA>   \n",
              "4        1  1247864664 2009-07-17 21:04:24+00:00  story    710788    <NA>   \n",
              "..     ...         ...                       ...    ...       ...     ...   \n",
              "995      1  1329729889 2012-02-20 09:24:49+00:00  story   3611848    <NA>   \n",
              "996      1  1328104291 2012-02-01 13:51:31+00:00  story   3537883    <NA>   \n",
              "997      1  1240793864 2009-04-27 00:57:44+00:00  story    580660    <NA>   \n",
              "998      1  1240793878 2009-04-27 00:57:58+00:00  story    580662    <NA>   \n",
              "999      1  1336134035 2012-05-04 12:20:35+00:00  story   3928042    <NA>   \n",
              "\n",
              "     descendants  ranking  deleted  \n",
              "0              6     <NA>     <NA>  \n",
              "1              7     <NA>     <NA>  \n",
              "2              6     <NA>     <NA>  \n",
              "3              6     <NA>     <NA>  \n",
              "4             12     <NA>     <NA>  \n",
              "..           ...      ...      ...  \n",
              "995           -1     <NA>     <NA>  \n",
              "996           -1     <NA>     <NA>  \n",
              "997           -1     <NA>     <NA>  \n",
              "998           -1     <NA>     <NA>  \n",
              "999           -1     <NA>     <NA>  \n",
              "\n",
              "[1000 rows x 14 columns]"
            ],
            "text/html": [
              "\n",
              "  <div id=\"df-8dafab69-69bb-426b-a93c-f19af8d92071\">\n",
              "    <div class=\"colab-df-container\">\n",
              "      <div>\n",
              "<style scoped>\n",
              "    .dataframe tbody tr th:only-of-type {\n",
              "        vertical-align: middle;\n",
              "    }\n",
              "\n",
              "    .dataframe tbody tr th {\n",
              "        vertical-align: top;\n",
              "    }\n",
              "\n",
              "    .dataframe thead th {\n",
              "        text-align: right;\n",
              "    }\n",
              "</style>\n",
              "<table border=\"1\" class=\"dataframe\">\n",
              "  <thead>\n",
              "    <tr style=\"text-align: right;\">\n",
              "      <th></th>\n",
              "      <th>title</th>\n",
              "      <th>url</th>\n",
              "      <th>text</th>\n",
              "      <th>dead</th>\n",
              "      <th>by</th>\n",
              "      <th>score</th>\n",
              "      <th>time</th>\n",
              "      <th>timestamp</th>\n",
              "      <th>type</th>\n",
              "      <th>id</th>\n",
              "      <th>parent</th>\n",
              "      <th>descendants</th>\n",
              "      <th>ranking</th>\n",
              "      <th>deleted</th>\n",
              "    </tr>\n",
              "  </thead>\n",
              "  <tbody>\n",
              "    <tr>\n",
              "      <th>0</th>\n",
              "      <td>Ask HN: Why is engagement on Twitter so unbeli...</td>\n",
              "      <td>None</td>\n",
              "      <td>Example: Ycombinator has 1 million followers. ...</td>\n",
              "      <td>&lt;NA&gt;</td>\n",
              "      <td>TekMol</td>\n",
              "      <td>1</td>\n",
              "      <td>1541794502</td>\n",
              "      <td>2018-11-09 20:15:02+00:00</td>\n",
              "      <td>story</td>\n",
              "      <td>18417552</td>\n",
              "      <td>&lt;NA&gt;</td>\n",
              "      <td>6</td>\n",
              "      <td>&lt;NA&gt;</td>\n",
              "      <td>&lt;NA&gt;</td>\n",
              "    </tr>\n",
              "    <tr>\n",
              "      <th>1</th>\n",
              "      <td>Ask HN: Was the U.S. election hacked?</td>\n",
              "      <td>None</td>\n",
              "      <td>I haven&amp;#x27;t seen any discussion on this at ...</td>\n",
              "      <td>&lt;NA&gt;</td>\n",
              "      <td>awatlits</td>\n",
              "      <td>1</td>\n",
              "      <td>1478788916</td>\n",
              "      <td>2016-11-10 14:41:56+00:00</td>\n",
              "      <td>story</td>\n",
              "      <td>12920705</td>\n",
              "      <td>&lt;NA&gt;</td>\n",
              "      <td>7</td>\n",
              "      <td>&lt;NA&gt;</td>\n",
              "      <td>&lt;NA&gt;</td>\n",
              "    </tr>\n",
              "    <tr>\n",
              "      <th>2</th>\n",
              "      <td>Ask HN: How often do you WFH?</td>\n",
              "      <td>None</td>\n",
              "      <td>Working as a software engineer in London I fin...</td>\n",
              "      <td>&lt;NA&gt;</td>\n",
              "      <td>_ao789</td>\n",
              "      <td>1</td>\n",
              "      <td>1498810013</td>\n",
              "      <td>2017-06-30 08:06:53+00:00</td>\n",
              "      <td>story</td>\n",
              "      <td>14669261</td>\n",
              "      <td>&lt;NA&gt;</td>\n",
              "      <td>6</td>\n",
              "      <td>&lt;NA&gt;</td>\n",
              "      <td>&lt;NA&gt;</td>\n",
              "    </tr>\n",
              "    <tr>\n",
              "      <th>3</th>\n",
              "      <td>Ask HN: Engineers, how do you share code with ...</td>\n",
              "      <td>None</td>\n",
              "      <td>My team and I are all frustrated by the curren...</td>\n",
              "      <td>&lt;NA&gt;</td>\n",
              "      <td>aismail</td>\n",
              "      <td>1</td>\n",
              "      <td>1467301075</td>\n",
              "      <td>2016-06-30 15:37:55+00:00</td>\n",
              "      <td>story</td>\n",
              "      <td>12009280</td>\n",
              "      <td>&lt;NA&gt;</td>\n",
              "      <td>6</td>\n",
              "      <td>&lt;NA&gt;</td>\n",
              "      <td>&lt;NA&gt;</td>\n",
              "    </tr>\n",
              "    <tr>\n",
              "      <th>4</th>\n",
              "      <td>Off-topic: Why do people put [scribd] in a pos...</td>\n",
              "      <td>None</td>\n",
              "      <td>Wouldn't putting \"[pdf]\" in the title be more ...</td>\n",
              "      <td>&lt;NA&gt;</td>\n",
              "      <td>ncarlson</td>\n",
              "      <td>1</td>\n",
              "      <td>1247864664</td>\n",
              "      <td>2009-07-17 21:04:24+00:00</td>\n",
              "      <td>story</td>\n",
              "      <td>710788</td>\n",
              "      <td>&lt;NA&gt;</td>\n",
              "      <td>12</td>\n",
              "      <td>&lt;NA&gt;</td>\n",
              "      <td>&lt;NA&gt;</td>\n",
              "    </tr>\n",
              "    <tr>\n",
              "      <th>...</th>\n",
              "      <td>...</td>\n",
              "      <td>...</td>\n",
              "      <td>...</td>\n",
              "      <td>...</td>\n",
              "      <td>...</td>\n",
              "      <td>...</td>\n",
              "      <td>...</td>\n",
              "      <td>...</td>\n",
              "      <td>...</td>\n",
              "      <td>...</td>\n",
              "      <td>...</td>\n",
              "      <td>...</td>\n",
              "      <td>...</td>\n",
              "      <td>...</td>\n",
              "    </tr>\n",
              "    <tr>\n",
              "      <th>995</th>\n",
              "      <td>Computer Technical Support to Fix Windows 7 Di...</td>\n",
              "      <td>http://www.amazingarticles.com/computer-techni...</td>\n",
              "      <td>There can be varied problems on the background...</td>\n",
              "      <td>True</td>\n",
              "      <td>kellymarion6</td>\n",
              "      <td>1</td>\n",
              "      <td>1329729889</td>\n",
              "      <td>2012-02-20 09:24:49+00:00</td>\n",
              "      <td>story</td>\n",
              "      <td>3611848</td>\n",
              "      <td>&lt;NA&gt;</td>\n",
              "      <td>-1</td>\n",
              "      <td>&lt;NA&gt;</td>\n",
              "      <td>&lt;NA&gt;</td>\n",
              "    </tr>\n",
              "    <tr>\n",
              "      <th>996</th>\n",
              "      <td>Eco-friendly Sony Ericsson Xperia Neo V for so...</td>\n",
              "      <td>http://bit.ly/x8lsHi</td>\n",
              "      <td>Sony Ericsson Xperia Neo V is an eco-friendly ...</td>\n",
              "      <td>True</td>\n",
              "      <td>catjohnes</td>\n",
              "      <td>1</td>\n",
              "      <td>1328104291</td>\n",
              "      <td>2012-02-01 13:51:31+00:00</td>\n",
              "      <td>story</td>\n",
              "      <td>3537883</td>\n",
              "      <td>&lt;NA&gt;</td>\n",
              "      <td>-1</td>\n",
              "      <td>&lt;NA&gt;</td>\n",
              "      <td>&lt;NA&gt;</td>\n",
              "    </tr>\n",
              "    <tr>\n",
              "      <th>997</th>\n",
              "      <td>Lift Tables</td>\n",
              "      <td>http://www.pentalift.com/scissor-lift.htm</td>\n",
              "      <td>Pentalift designs, engineers, and manufactures...</td>\n",
              "      <td>True</td>\n",
              "      <td>charlenellsm</td>\n",
              "      <td>1</td>\n",
              "      <td>1240793864</td>\n",
              "      <td>2009-04-27 00:57:44+00:00</td>\n",
              "      <td>story</td>\n",
              "      <td>580660</td>\n",
              "      <td>&lt;NA&gt;</td>\n",
              "      <td>-1</td>\n",
              "      <td>&lt;NA&gt;</td>\n",
              "      <td>&lt;NA&gt;</td>\n",
              "    </tr>\n",
              "    <tr>\n",
              "      <th>998</th>\n",
              "      <td>Summer camp</td>\n",
              "      <td>http://www.hiddenbayleadershipcamp.ca</td>\n",
              "      <td>Ontario Summer Camp, Hidden Bay Leadership Cam...</td>\n",
              "      <td>True</td>\n",
              "      <td>charlenellsm</td>\n",
              "      <td>1</td>\n",
              "      <td>1240793878</td>\n",
              "      <td>2009-04-27 00:57:58+00:00</td>\n",
              "      <td>story</td>\n",
              "      <td>580662</td>\n",
              "      <td>&lt;NA&gt;</td>\n",
              "      <td>-1</td>\n",
              "      <td>&lt;NA&gt;</td>\n",
              "      <td>&lt;NA&gt;</td>\n",
              "    </tr>\n",
              "    <tr>\n",
              "      <th>999</th>\n",
              "      <td>Sales | Artsoft Solutions</td>\n",
              "      <td>http://sales.artsoftsolutions.net/</td>\n",
              "      <td>An Outsourcing Company founded in the Philippi...</td>\n",
              "      <td>True</td>\n",
              "      <td>linkerzseo</td>\n",
              "      <td>1</td>\n",
              "      <td>1336134035</td>\n",
              "      <td>2012-05-04 12:20:35+00:00</td>\n",
              "      <td>story</td>\n",
              "      <td>3928042</td>\n",
              "      <td>&lt;NA&gt;</td>\n",
              "      <td>-1</td>\n",
              "      <td>&lt;NA&gt;</td>\n",
              "      <td>&lt;NA&gt;</td>\n",
              "    </tr>\n",
              "  </tbody>\n",
              "</table>\n",
              "<p>1000 rows × 14 columns</p>\n",
              "</div>\n",
              "      <button class=\"colab-df-convert\" onclick=\"convertToInteractive('df-8dafab69-69bb-426b-a93c-f19af8d92071')\"\n",
              "              title=\"Convert this dataframe to an interactive table.\"\n",
              "              style=\"display:none;\">\n",
              "        \n",
              "  <svg xmlns=\"http://www.w3.org/2000/svg\" height=\"24px\"viewBox=\"0 0 24 24\"\n",
              "       width=\"24px\">\n",
              "    <path d=\"M0 0h24v24H0V0z\" fill=\"none\"/>\n",
              "    <path d=\"M18.56 5.44l.94 2.06.94-2.06 2.06-.94-2.06-.94-.94-2.06-.94 2.06-2.06.94zm-11 1L8.5 8.5l.94-2.06 2.06-.94-2.06-.94L8.5 2.5l-.94 2.06-2.06.94zm10 10l.94 2.06.94-2.06 2.06-.94-2.06-.94-.94-2.06-.94 2.06-2.06.94z\"/><path d=\"M17.41 7.96l-1.37-1.37c-.4-.4-.92-.59-1.43-.59-.52 0-1.04.2-1.43.59L10.3 9.45l-7.72 7.72c-.78.78-.78 2.05 0 2.83L4 21.41c.39.39.9.59 1.41.59.51 0 1.02-.2 1.41-.59l7.78-7.78 2.81-2.81c.8-.78.8-2.07 0-2.86zM5.41 20L4 18.59l7.72-7.72 1.47 1.35L5.41 20z\"/>\n",
              "  </svg>\n",
              "      </button>\n",
              "      \n",
              "  <style>\n",
              "    .colab-df-container {\n",
              "      display:flex;\n",
              "      flex-wrap:wrap;\n",
              "      gap: 12px;\n",
              "    }\n",
              "\n",
              "    .colab-df-convert {\n",
              "      background-color: #E8F0FE;\n",
              "      border: none;\n",
              "      border-radius: 50%;\n",
              "      cursor: pointer;\n",
              "      display: none;\n",
              "      fill: #1967D2;\n",
              "      height: 32px;\n",
              "      padding: 0 0 0 0;\n",
              "      width: 32px;\n",
              "    }\n",
              "\n",
              "    .colab-df-convert:hover {\n",
              "      background-color: #E2EBFA;\n",
              "      box-shadow: 0px 1px 2px rgba(60, 64, 67, 0.3), 0px 1px 3px 1px rgba(60, 64, 67, 0.15);\n",
              "      fill: #174EA6;\n",
              "    }\n",
              "\n",
              "    [theme=dark] .colab-df-convert {\n",
              "      background-color: #3B4455;\n",
              "      fill: #D2E3FC;\n",
              "    }\n",
              "\n",
              "    [theme=dark] .colab-df-convert:hover {\n",
              "      background-color: #434B5C;\n",
              "      box-shadow: 0px 1px 3px 1px rgba(0, 0, 0, 0.15);\n",
              "      filter: drop-shadow(0px 1px 2px rgba(0, 0, 0, 0.3));\n",
              "      fill: #FFFFFF;\n",
              "    }\n",
              "  </style>\n",
              "\n",
              "      <script>\n",
              "        const buttonEl =\n",
              "          document.querySelector('#df-8dafab69-69bb-426b-a93c-f19af8d92071 button.colab-df-convert');\n",
              "        buttonEl.style.display =\n",
              "          google.colab.kernel.accessAllowed ? 'block' : 'none';\n",
              "\n",
              "        async function convertToInteractive(key) {\n",
              "          const element = document.querySelector('#df-8dafab69-69bb-426b-a93c-f19af8d92071');\n",
              "          const dataTable =\n",
              "            await google.colab.kernel.invokeFunction('convertToInteractive',\n",
              "                                                     [key], {});\n",
              "          if (!dataTable) return;\n",
              "\n",
              "          const docLinkHtml = 'Like what you see? Visit the ' +\n",
              "            '<a target=\"_blank\" href=https://colab.research.google.com/notebooks/data_table.ipynb>data table notebook</a>'\n",
              "            + ' to learn more about interactive tables.';\n",
              "          element.innerHTML = '';\n",
              "          dataTable['output_type'] = 'display_data';\n",
              "          await google.colab.output.renderOutput(dataTable, element);\n",
              "          const docLink = document.createElement('div');\n",
              "          docLink.innerHTML = docLinkHtml;\n",
              "          element.appendChild(docLink);\n",
              "        }\n",
              "      </script>\n",
              "    </div>\n",
              "  </div>\n",
              "  "
            ]
          },
          "metadata": {}
        }
      ],
      "source": [
        "from google.cloud import bigquery\n",
        "\n",
        "client = bigquery.Client(project=project_id)\n",
        "\n",
        "df = client.query('''\n",
        "SELECT * FROM `bigquery-public-data.hacker_news.full`\n",
        "where type !='comment' LIMIT 1000\n",
        "''').to_dataframe()\n",
        "\n",
        "display(df)"
      ]
    },
    {
      "cell_type": "markdown",
      "metadata": {
        "id": "DpdX5iiF4XpX"
      },
      "source": [
        "## Redis Helper functions"
      ]
    },
    {
      "cell_type": "code",
      "execution_count": 80,
      "metadata": {
        "id": "9mNa5LNn4XpX"
      },
      "outputs": [],
      "source": [
        "from tqdm.auto import tqdm\n",
        "import numpy as np\n",
        "import pandas as pd\n",
        "tqdm.pandas()\n",
        "\n",
        "def load_dataframe(redis, df, key_prefix=\"tweet\", id_column=\"id\", pipe_size=100):\n",
        "    records = df.to_dict(orient=\"records\")\n",
        "    pipe = redis.pipeline()\n",
        "    i=1\n",
        "    for record in tqdm(records):\n",
        "        #print(record)\n",
        "        # Convert <NA> values to an empty string, timestamp, bool to string representation\n",
        "        # Nnot sure if it belons here or in df API, but the problem it addresses is specific to redis-py\n",
        "        converted_record = {\n",
        "            key: '' if pd.isna(value) else str(value) if isinstance(value, (pd.Timestamp, bool)) else value\n",
        "            for key, value in record.items()\n",
        "        }\n",
        "        #print(converted_record)\n",
        "        record=converted_record\n",
        "        i=i+1\n",
        "        key = f\"{key_prefix}:{record[id_column]}\"\n",
        "        pipe.hset(key, mapping=record)\n",
        "        if (i+1) % pipe_size == 0:\n",
        "          res=pipe.execute()\n",
        "    pipe.execute()"
      ]
    },
    {
      "cell_type": "markdown",
      "metadata": {
        "id": "JYzgmEG54XpX"
      },
      "source": [
        "## Load Dataframe to Redis"
      ]
    },
    {
      "cell_type": "code",
      "execution_count": 81,
      "metadata": {
        "id": "K2LRQzJn4XpX",
        "colab": {
          "base_uri": "https://localhost:8080/",
          "height": 49,
          "referenced_widgets": [
            "288422fca118499388646c6d9903ee79",
            "e9ba366af54b4ea78a06256abe9c44c9",
            "02b3ee8192d84f9c9d5592932ecb23e2",
            "3e534ea5d1cb4506b2e8a317e530ec23",
            "ccf42747aae04d1293a17adf50e4085f",
            "a870a58b0aea47a2a539a00d90e5c5a9",
            "6ab142fa163a44ae90fb0c47af16daff",
            "17f99043e09a463aa227a6e1d37dd717",
            "29173797e43f4bbc89763479fee4dfda",
            "51d18c7a5c6a4a6dbe7838dd4ecd91ec",
            "09b377c8d0c64c1486958ec6be36cb54"
          ]
        },
        "outputId": "37fde522-3666-441b-c06f-539a99d63eda"
      },
      "outputs": [
        {
          "output_type": "display_data",
          "data": {
            "text/plain": [
              "  0%|          | 0/1000 [00:00<?, ?it/s]"
            ],
            "application/vnd.jupyter.widget-view+json": {
              "version_major": 2,
              "version_minor": 0,
              "model_id": "288422fca118499388646c6d9903ee79"
            }
          },
          "metadata": {}
        }
      ],
      "source": [
        "# clear Redis database (optional)\n",
        "redis.flushdb()\n",
        "\n",
        "# load data from Dataframe to Redis HASH\n",
        "load_dataframe(redis,df,key_prefix=\"google\", id_column=\"id\", pipe_size=100)"
      ]
    },
    {
      "cell_type": "code",
      "source": [
        "#!redis-cli $REDIS_CONN KEYS \"*\""
      ],
      "metadata": {
        "id": "_Tf3OXMDi-fk"
      },
      "execution_count": 83,
      "outputs": []
    },
    {
      "cell_type": "code",
      "source": [
        "#retreive single HASH from Redis\n",
        "redis.hgetall(f\"google:{df.loc[1, 'id']}\")"
      ],
      "metadata": {
        "colab": {
          "base_uri": "https://localhost:8080/"
        },
        "id": "4sPe1ZgQkTbX",
        "outputId": "b7b8369e-4a80-4ded-bff1-2ba29b1ef6bc"
      },
      "execution_count": 86,
      "outputs": [
        {
          "output_type": "execute_result",
          "data": {
            "text/plain": [
              "{b'title': b'Ask HN: Was the U.S. election hacked?',\n",
              " b'url': b'',\n",
              " b'text': b'I haven&#x27;t seen any discussion on this at all.',\n",
              " b'dead': b'',\n",
              " b'by': b'awatlits',\n",
              " b'score': b'1',\n",
              " b'time': b'1478788916',\n",
              " b'timestamp': b'2016-11-10 14:41:56+00:00',\n",
              " b'type': b'story',\n",
              " b'id': b'12920705',\n",
              " b'parent': b'',\n",
              " b'descendants': b'7',\n",
              " b'ranking': b'',\n",
              " b'deleted': b''}"
            ]
          },
          "metadata": {},
          "execution_count": 86
        }
      ]
    },
    {
      "cell_type": "markdown",
      "metadata": {
        "id": "0Kh0ObD4xZtK"
      },
      "source": [
        "## Init Vertex AI"
      ]
    },
    {
      "cell_type": "code",
      "execution_count": 57,
      "metadata": {
        "id": "F3D6JUHFxNDO"
      },
      "outputs": [],
      "source": [
        "import vertexai\n",
        "\n",
        "PROJECT_ID = project_id\n",
        "vertexai.init(project=PROJECT_ID, location=\"us-central1\")"
      ]
    },
    {
      "cell_type": "code",
      "execution_count": 58,
      "metadata": {
        "id": "zrpKY4W5yb0M"
      },
      "outputs": [],
      "source": [
        "from vertexai.preview.language_models import (ChatModel, InputOutputTextPair,\n",
        "                                              TextEmbeddingModel,\n",
        "                                              TextGenerationModel)"
      ]
    },
    {
      "cell_type": "code",
      "execution_count": 58,
      "metadata": {
        "id": "E0i_naHkxiSH"
      },
      "outputs": [],
      "source": []
    },
    {
      "cell_type": "markdown",
      "metadata": {
        "id": "z-qm_sJZxmly"
      },
      "source": [
        "## Hello Palm!"
      ]
    },
    {
      "cell_type": "code",
      "execution_count": 59,
      "metadata": {
        "colab": {
          "base_uri": "https://localhost:8080/"
        },
        "id": "vPtzbxzLxqB5",
        "outputId": "b4eb8387-ab54-4fbb-aed8-fcf2c2554db8"
      },
      "outputs": [
        {
          "output_type": "stream",
          "name": "stdout",
          "text": [
            "A large language model (LLM) is a type of artificial intelligence (AI) model that can understand and generate human language. LLMs are trained on massive datasets of text and code, and they can learn to perform a wide variety of tasks, such as translating languages, writing different kinds of creative content, and answering your questions in an informative way.\n",
            "\n",
            "LLMs are still under development, but they have the potential to revolutionize many industries. For example, LLMs could be used to create more accurate and personalized customer service experiences, to help doctors diagnose and treat diseases, and to even write entire books and movies.\n",
            "\n",
            "\n"
          ]
        }
      ],
      "source": [
        "generation_model = TextGenerationModel.from_pretrained(\"text-bison@001\")\n",
        "\n",
        "prompt = \"What is a large language model?\"\n",
        "\n",
        "response = generation_model.predict(prompt=prompt)\n",
        "\n",
        "print(response.text)"
      ]
    },
    {
      "cell_type": "markdown",
      "metadata": {
        "id": "brVjDaqRx6Aw"
      },
      "source": [
        "## Hello Chat!"
      ]
    },
    {
      "cell_type": "code",
      "execution_count": 60,
      "metadata": {
        "colab": {
          "base_uri": "https://localhost:8080/"
        },
        "id": "wc7cr9-Yx8xx",
        "outputId": "c8a4161c-6fe9-40d2-f5bc-ae90b9e7652c"
      },
      "outputs": [
        {
          "output_type": "stream",
          "name": "stdout",
          "text": [
            "Generative AI (GAN) is a type of machine learning that uses artificial neural networks to create new, original content. This can include text, images, audio, and video. GANs have the potential to revolutionize many industries, from healthcare to advertising. However, there are also concerns about the potential negative impacts of GANs, such as the creation of fake news and deepfakes.\n",
            "\n",
            "In this paper, we explore the potential impact of GANs on society. We first discuss the benefits of GANs, such as their ability to create new and original content, to solve complex problems, and to personalize experiences. We then discuss\n",
            "The Impact of Generative AI on Society\n"
          ]
        }
      ],
      "source": [
        "\n",
        "chat_model = ChatModel.from_pretrained(\"chat-bison@001\")\n",
        "\n",
        "chat = chat_model.start_chat()\n",
        "\n",
        "print(\n",
        "    chat.send_message(\n",
        "        \"\"\"\n",
        "Hello! Can you write a 300 word abstract for a research paper I need to write about the impact of generative AI on society?\n",
        "\"\"\"\n",
        "    )\n",
        ")\n",
        "\n",
        "\n",
        "print(\n",
        "    chat.send_message(\n",
        "        \"\"\"\n",
        "Could you give me a catchy title for the paper?\n",
        "\"\"\"\n",
        "    )\n",
        ")"
      ]
    }
  ],
  "metadata": {
    "colab": {
      "provenance": []
    },
    "kernelspec": {
      "display_name": "Python 3",
      "name": "python3"
    },
    "language_info": {
      "name": "python"
    },
    "widgets": {
      "application/vnd.jupyter.widget-state+json": {
        "288422fca118499388646c6d9903ee79": {
          "model_module": "@jupyter-widgets/controls",
          "model_name": "HBoxModel",
          "model_module_version": "1.5.0",
          "state": {
            "_dom_classes": [],
            "_model_module": "@jupyter-widgets/controls",
            "_model_module_version": "1.5.0",
            "_model_name": "HBoxModel",
            "_view_count": null,
            "_view_module": "@jupyter-widgets/controls",
            "_view_module_version": "1.5.0",
            "_view_name": "HBoxView",
            "box_style": "",
            "children": [
              "IPY_MODEL_e9ba366af54b4ea78a06256abe9c44c9",
              "IPY_MODEL_02b3ee8192d84f9c9d5592932ecb23e2",
              "IPY_MODEL_3e534ea5d1cb4506b2e8a317e530ec23"
            ],
            "layout": "IPY_MODEL_ccf42747aae04d1293a17adf50e4085f"
          }
        },
        "e9ba366af54b4ea78a06256abe9c44c9": {
          "model_module": "@jupyter-widgets/controls",
          "model_name": "HTMLModel",
          "model_module_version": "1.5.0",
          "state": {
            "_dom_classes": [],
            "_model_module": "@jupyter-widgets/controls",
            "_model_module_version": "1.5.0",
            "_model_name": "HTMLModel",
            "_view_count": null,
            "_view_module": "@jupyter-widgets/controls",
            "_view_module_version": "1.5.0",
            "_view_name": "HTMLView",
            "description": "",
            "description_tooltip": null,
            "layout": "IPY_MODEL_a870a58b0aea47a2a539a00d90e5c5a9",
            "placeholder": "​",
            "style": "IPY_MODEL_6ab142fa163a44ae90fb0c47af16daff",
            "value": "100%"
          }
        },
        "02b3ee8192d84f9c9d5592932ecb23e2": {
          "model_module": "@jupyter-widgets/controls",
          "model_name": "FloatProgressModel",
          "model_module_version": "1.5.0",
          "state": {
            "_dom_classes": [],
            "_model_module": "@jupyter-widgets/controls",
            "_model_module_version": "1.5.0",
            "_model_name": "FloatProgressModel",
            "_view_count": null,
            "_view_module": "@jupyter-widgets/controls",
            "_view_module_version": "1.5.0",
            "_view_name": "ProgressView",
            "bar_style": "success",
            "description": "",
            "description_tooltip": null,
            "layout": "IPY_MODEL_17f99043e09a463aa227a6e1d37dd717",
            "max": 1000,
            "min": 0,
            "orientation": "horizontal",
            "style": "IPY_MODEL_29173797e43f4bbc89763479fee4dfda",
            "value": 1000
          }
        },
        "3e534ea5d1cb4506b2e8a317e530ec23": {
          "model_module": "@jupyter-widgets/controls",
          "model_name": "HTMLModel",
          "model_module_version": "1.5.0",
          "state": {
            "_dom_classes": [],
            "_model_module": "@jupyter-widgets/controls",
            "_model_module_version": "1.5.0",
            "_model_name": "HTMLModel",
            "_view_count": null,
            "_view_module": "@jupyter-widgets/controls",
            "_view_module_version": "1.5.0",
            "_view_name": "HTMLView",
            "description": "",
            "description_tooltip": null,
            "layout": "IPY_MODEL_51d18c7a5c6a4a6dbe7838dd4ecd91ec",
            "placeholder": "​",
            "style": "IPY_MODEL_09b377c8d0c64c1486958ec6be36cb54",
            "value": " 1000/1000 [00:00&lt;00:00, 4944.03it/s]"
          }
        },
        "ccf42747aae04d1293a17adf50e4085f": {
          "model_module": "@jupyter-widgets/base",
          "model_name": "LayoutModel",
          "model_module_version": "1.2.0",
          "state": {
            "_model_module": "@jupyter-widgets/base",
            "_model_module_version": "1.2.0",
            "_model_name": "LayoutModel",
            "_view_count": null,
            "_view_module": "@jupyter-widgets/base",
            "_view_module_version": "1.2.0",
            "_view_name": "LayoutView",
            "align_content": null,
            "align_items": null,
            "align_self": null,
            "border": null,
            "bottom": null,
            "display": null,
            "flex": null,
            "flex_flow": null,
            "grid_area": null,
            "grid_auto_columns": null,
            "grid_auto_flow": null,
            "grid_auto_rows": null,
            "grid_column": null,
            "grid_gap": null,
            "grid_row": null,
            "grid_template_areas": null,
            "grid_template_columns": null,
            "grid_template_rows": null,
            "height": null,
            "justify_content": null,
            "justify_items": null,
            "left": null,
            "margin": null,
            "max_height": null,
            "max_width": null,
            "min_height": null,
            "min_width": null,
            "object_fit": null,
            "object_position": null,
            "order": null,
            "overflow": null,
            "overflow_x": null,
            "overflow_y": null,
            "padding": null,
            "right": null,
            "top": null,
            "visibility": null,
            "width": null
          }
        },
        "a870a58b0aea47a2a539a00d90e5c5a9": {
          "model_module": "@jupyter-widgets/base",
          "model_name": "LayoutModel",
          "model_module_version": "1.2.0",
          "state": {
            "_model_module": "@jupyter-widgets/base",
            "_model_module_version": "1.2.0",
            "_model_name": "LayoutModel",
            "_view_count": null,
            "_view_module": "@jupyter-widgets/base",
            "_view_module_version": "1.2.0",
            "_view_name": "LayoutView",
            "align_content": null,
            "align_items": null,
            "align_self": null,
            "border": null,
            "bottom": null,
            "display": null,
            "flex": null,
            "flex_flow": null,
            "grid_area": null,
            "grid_auto_columns": null,
            "grid_auto_flow": null,
            "grid_auto_rows": null,
            "grid_column": null,
            "grid_gap": null,
            "grid_row": null,
            "grid_template_areas": null,
            "grid_template_columns": null,
            "grid_template_rows": null,
            "height": null,
            "justify_content": null,
            "justify_items": null,
            "left": null,
            "margin": null,
            "max_height": null,
            "max_width": null,
            "min_height": null,
            "min_width": null,
            "object_fit": null,
            "object_position": null,
            "order": null,
            "overflow": null,
            "overflow_x": null,
            "overflow_y": null,
            "padding": null,
            "right": null,
            "top": null,
            "visibility": null,
            "width": null
          }
        },
        "6ab142fa163a44ae90fb0c47af16daff": {
          "model_module": "@jupyter-widgets/controls",
          "model_name": "DescriptionStyleModel",
          "model_module_version": "1.5.0",
          "state": {
            "_model_module": "@jupyter-widgets/controls",
            "_model_module_version": "1.5.0",
            "_model_name": "DescriptionStyleModel",
            "_view_count": null,
            "_view_module": "@jupyter-widgets/base",
            "_view_module_version": "1.2.0",
            "_view_name": "StyleView",
            "description_width": ""
          }
        },
        "17f99043e09a463aa227a6e1d37dd717": {
          "model_module": "@jupyter-widgets/base",
          "model_name": "LayoutModel",
          "model_module_version": "1.2.0",
          "state": {
            "_model_module": "@jupyter-widgets/base",
            "_model_module_version": "1.2.0",
            "_model_name": "LayoutModel",
            "_view_count": null,
            "_view_module": "@jupyter-widgets/base",
            "_view_module_version": "1.2.0",
            "_view_name": "LayoutView",
            "align_content": null,
            "align_items": null,
            "align_self": null,
            "border": null,
            "bottom": null,
            "display": null,
            "flex": null,
            "flex_flow": null,
            "grid_area": null,
            "grid_auto_columns": null,
            "grid_auto_flow": null,
            "grid_auto_rows": null,
            "grid_column": null,
            "grid_gap": null,
            "grid_row": null,
            "grid_template_areas": null,
            "grid_template_columns": null,
            "grid_template_rows": null,
            "height": null,
            "justify_content": null,
            "justify_items": null,
            "left": null,
            "margin": null,
            "max_height": null,
            "max_width": null,
            "min_height": null,
            "min_width": null,
            "object_fit": null,
            "object_position": null,
            "order": null,
            "overflow": null,
            "overflow_x": null,
            "overflow_y": null,
            "padding": null,
            "right": null,
            "top": null,
            "visibility": null,
            "width": null
          }
        },
        "29173797e43f4bbc89763479fee4dfda": {
          "model_module": "@jupyter-widgets/controls",
          "model_name": "ProgressStyleModel",
          "model_module_version": "1.5.0",
          "state": {
            "_model_module": "@jupyter-widgets/controls",
            "_model_module_version": "1.5.0",
            "_model_name": "ProgressStyleModel",
            "_view_count": null,
            "_view_module": "@jupyter-widgets/base",
            "_view_module_version": "1.2.0",
            "_view_name": "StyleView",
            "bar_color": null,
            "description_width": ""
          }
        },
        "51d18c7a5c6a4a6dbe7838dd4ecd91ec": {
          "model_module": "@jupyter-widgets/base",
          "model_name": "LayoutModel",
          "model_module_version": "1.2.0",
          "state": {
            "_model_module": "@jupyter-widgets/base",
            "_model_module_version": "1.2.0",
            "_model_name": "LayoutModel",
            "_view_count": null,
            "_view_module": "@jupyter-widgets/base",
            "_view_module_version": "1.2.0",
            "_view_name": "LayoutView",
            "align_content": null,
            "align_items": null,
            "align_self": null,
            "border": null,
            "bottom": null,
            "display": null,
            "flex": null,
            "flex_flow": null,
            "grid_area": null,
            "grid_auto_columns": null,
            "grid_auto_flow": null,
            "grid_auto_rows": null,
            "grid_column": null,
            "grid_gap": null,
            "grid_row": null,
            "grid_template_areas": null,
            "grid_template_columns": null,
            "grid_template_rows": null,
            "height": null,
            "justify_content": null,
            "justify_items": null,
            "left": null,
            "margin": null,
            "max_height": null,
            "max_width": null,
            "min_height": null,
            "min_width": null,
            "object_fit": null,
            "object_position": null,
            "order": null,
            "overflow": null,
            "overflow_x": null,
            "overflow_y": null,
            "padding": null,
            "right": null,
            "top": null,
            "visibility": null,
            "width": null
          }
        },
        "09b377c8d0c64c1486958ec6be36cb54": {
          "model_module": "@jupyter-widgets/controls",
          "model_name": "DescriptionStyleModel",
          "model_module_version": "1.5.0",
          "state": {
            "_model_module": "@jupyter-widgets/controls",
            "_model_module_version": "1.5.0",
            "_model_name": "DescriptionStyleModel",
            "_view_count": null,
            "_view_module": "@jupyter-widgets/base",
            "_view_module_version": "1.2.0",
            "_view_name": "StyleView",
            "description_width": ""
          }
        }
      }
    }
  },
  "nbformat": 4,
  "nbformat_minor": 0
}