{
  "cells": [
    {
      "cell_type": "markdown",
      "source": [
        "# Google LLMs Reference Architecture with Redis Enterprise\n",
        "\n",
        "<a href=\"https://colab.research.google.com/github/RedisVentures/redis-google-llms/blob/main/BigQuery_Palm_Redis.ipynb\" target=\"_parent\"><img src=\"https://colab.research.google.com/assets/colab-badge.svg\" alt=\"Open In Colab\"/></a>\n",
        "\n",
        "This notebook serves as a getting started guide for working with LLMs on Google Cloud Platform with Redis Enterprise.\n",
        "\n",
        "## Intro\n",
        "Google's Vertex AI has expanded its capabilities by introducing [Generative AI](https://cloud.google.com/vertex-ai/docs/generative-ai/learn/overview). This advanced technology comes with a specialized [in-console studio experience](https://cloud.google.com/vertex-ai/docs/generative-ai/start/quickstarts/quickstart), a [dedicated API](https://cloud.google.com/vertex-ai/docs/generative-ai/start/quickstarts/api-quickstart) and [Python SDK](https://cloud.google.com/vertex-ai/docs/python-sdk/use-vertex-ai-python-sdk) designed for deploying and managing instances of Google's powerful PaLM language models (more sample code). With a distinct focus on text generation, summarization, chat completion, and embedding creation, PaLM models are reshaping the boundaries of natural language processing and machine learning.\n",
        "\n",
        "Redis Enterprise offers robust vector database features, providing an efficient API for vector index creation, management, distance metric selection, similarity search, and hybrid filtering. When coupled with its versatile data structures - including lists, hashes, JSON, and sets - Redis Enterprise shines as the optimal solution for crafting high-quality Large Language Model (LLM)-based applications. It embodies a streamlined architecture and exceptional performance, making it an instrumental tool for production environments.\n",
        "\n",
        "___\n",
        "## Contents\n",
        "- Setup\n",
        "    1. Prerequisites\n",
        "    2. Create BigQuery Tables\n",
        "    3. Generate Embeddings\n",
        "        \n",
        "        a. Embed Text\n",
        "\n",
        "    4. Load Embeddings to Redis\n",
        "    5. Create Index\n",
        "- LLM Application\n",
        "    1. Basic Semantic Search\n",
        "    2. Retrieval Augmented Generation (RAG)\n",
        "    3. Caching\n",
        "    4. Memory\n",
        "- Cleanup\n",
        "\n",
        "___"
      ],
      "metadata": {
        "id": "aiHV6ip2f5id"
      }
    },
    {
      "cell_type": "markdown",
      "metadata": {
        "id": "rK2rWODkw-kX"
      },
      "source": [
        "# Setup\n",
        "\n",
        "## 1. Prerequisites\n",
        "Before we begin, we must install some required libraries, authenticate with Google, create a Redis database, and initialize other required components.\n",
        "\n",
        "### Install required libraries"
      ]
    },
    {
      "cell_type": "code",
      "execution_count": 4,
      "metadata": {
        "colab": {
          "base_uri": "https://localhost:8080/",
          "height": 903
        },
        "id": "pc-IxYu3wnQm",
        "outputId": "6d619448-8170-41dc-88db-c3d16ca4209f"
      },
      "outputs": [
        {
          "output_type": "stream",
          "name": "stdout",
          "text": [
            "Collecting redis\n",
            "  Downloading redis-4.6.0-py3-none-any.whl (241 kB)\n",
            "\u001b[?25l     \u001b[90m━━━━━━━━━━━━━━━━━━━━━━━━━━━━━━━━━━━━━━━━\u001b[0m \u001b[32m0.0/241.1 kB\u001b[0m \u001b[31m?\u001b[0m eta \u001b[36m-:--:--\u001b[0m\r\u001b[2K     \u001b[91m━━━━━━━━━━━━━━━━━━━━━━━━━━━━━━━━━━━━━━\u001b[0m\u001b[90m╺\u001b[0m \u001b[32m235.5/241.1 kB\u001b[0m \u001b[31m8.1 MB/s\u001b[0m eta \u001b[36m0:00:01\u001b[0m\r\u001b[2K     \u001b[90m━━━━━━━━━━━━━━━━━━━━━━━━━━━━━━━━━━━━━━━\u001b[0m \u001b[32m241.1/241.1 kB\u001b[0m \u001b[31m6.6 MB/s\u001b[0m eta \u001b[36m0:00:00\u001b[0m\n",
            "\u001b[?25hCollecting google-cloud-aiplatform==1.25.0\n",
            "  Downloading google_cloud_aiplatform-1.25.0-py2.py3-none-any.whl (2.6 MB)\n",
            "\u001b[2K     \u001b[90m━━━━━━━━━━━━━━━━━━━━━━━━━━━━━━━━━━━━━━━━\u001b[0m \u001b[32m2.6/2.6 MB\u001b[0m \u001b[31m53.8 MB/s\u001b[0m eta \u001b[36m0:00:00\u001b[0m\n",
            "\u001b[?25hRequirement already satisfied: google-api-core[grpc]!=2.0.*,!=2.1.*,!=2.2.*,!=2.3.*,!=2.4.*,!=2.5.*,!=2.6.*,!=2.7.*,<3.0.0dev,>=1.32.0 in /usr/local/lib/python3.10/dist-packages (from google-cloud-aiplatform==1.25.0) (2.11.1)\n",
            "Requirement already satisfied: proto-plus<2.0.0dev,>=1.22.0 in /usr/local/lib/python3.10/dist-packages (from google-cloud-aiplatform==1.25.0) (1.22.3)\n",
            "Requirement already satisfied: protobuf!=3.20.0,!=3.20.1,!=4.21.0,!=4.21.1,!=4.21.2,!=4.21.3,!=4.21.4,!=4.21.5,<5.0.0dev,>=3.19.5 in /usr/local/lib/python3.10/dist-packages (from google-cloud-aiplatform==1.25.0) (3.20.3)\n",
            "Requirement already satisfied: packaging>=14.3 in /usr/local/lib/python3.10/dist-packages (from google-cloud-aiplatform==1.25.0) (23.1)\n",
            "Requirement already satisfied: google-cloud-storage<3.0.0dev,>=1.32.0 in /usr/local/lib/python3.10/dist-packages (from google-cloud-aiplatform==1.25.0) (2.8.0)\n",
            "Requirement already satisfied: google-cloud-bigquery<4.0.0dev,>=1.15.0 in /usr/local/lib/python3.10/dist-packages (from google-cloud-aiplatform==1.25.0) (3.10.0)\n",
            "Collecting google-cloud-resource-manager<3.0.0dev,>=1.3.3 (from google-cloud-aiplatform==1.25.0)\n",
            "  Downloading google_cloud_resource_manager-1.10.2-py2.py3-none-any.whl (321 kB)\n",
            "\u001b[2K     \u001b[90m━━━━━━━━━━━━━━━━━━━━━━━━━━━━━━━━━━━━━━\u001b[0m \u001b[32m321.3/321.3 kB\u001b[0m \u001b[31m40.2 MB/s\u001b[0m eta \u001b[36m0:00:00\u001b[0m\n",
            "\u001b[?25hCollecting shapely<2.0.0 (from google-cloud-aiplatform==1.25.0)\n",
            "  Downloading Shapely-1.8.5.post1-cp310-cp310-manylinux_2_12_x86_64.manylinux2010_x86_64.whl (2.0 MB)\n",
            "\u001b[2K     \u001b[90m━━━━━━━━━━━━━━━━━━━━━━━━━━━━━━━━━━━━━━━━\u001b[0m \u001b[32m2.0/2.0 MB\u001b[0m \u001b[31m101.3 MB/s\u001b[0m eta \u001b[36m0:00:00\u001b[0m\n",
            "\u001b[?25hRequirement already satisfied: async-timeout>=4.0.2 in /usr/local/lib/python3.10/dist-packages (from redis) (4.0.2)\n",
            "Requirement already satisfied: googleapis-common-protos<2.0.dev0,>=1.56.2 in /usr/local/lib/python3.10/dist-packages (from google-api-core[grpc]!=2.0.*,!=2.1.*,!=2.2.*,!=2.3.*,!=2.4.*,!=2.5.*,!=2.6.*,!=2.7.*,<3.0.0dev,>=1.32.0->google-cloud-aiplatform==1.25.0) (1.59.1)\n",
            "Requirement already satisfied: google-auth<3.0.dev0,>=2.14.1 in /usr/local/lib/python3.10/dist-packages (from google-api-core[grpc]!=2.0.*,!=2.1.*,!=2.2.*,!=2.3.*,!=2.4.*,!=2.5.*,!=2.6.*,!=2.7.*,<3.0.0dev,>=1.32.0->google-cloud-aiplatform==1.25.0) (2.17.3)\n",
            "Requirement already satisfied: requests<3.0.0.dev0,>=2.18.0 in /usr/local/lib/python3.10/dist-packages (from google-api-core[grpc]!=2.0.*,!=2.1.*,!=2.2.*,!=2.3.*,!=2.4.*,!=2.5.*,!=2.6.*,!=2.7.*,<3.0.0dev,>=1.32.0->google-cloud-aiplatform==1.25.0) (2.27.1)\n",
            "Requirement already satisfied: grpcio<2.0dev,>=1.33.2 in /usr/local/lib/python3.10/dist-packages (from google-api-core[grpc]!=2.0.*,!=2.1.*,!=2.2.*,!=2.3.*,!=2.4.*,!=2.5.*,!=2.6.*,!=2.7.*,<3.0.0dev,>=1.32.0->google-cloud-aiplatform==1.25.0) (1.56.0)\n",
            "Requirement already satisfied: grpcio-status<2.0.dev0,>=1.33.2 in /usr/local/lib/python3.10/dist-packages (from google-api-core[grpc]!=2.0.*,!=2.1.*,!=2.2.*,!=2.3.*,!=2.4.*,!=2.5.*,!=2.6.*,!=2.7.*,<3.0.0dev,>=1.32.0->google-cloud-aiplatform==1.25.0) (1.48.2)\n",
            "Requirement already satisfied: google-cloud-core<3.0.0dev,>=1.6.0 in /usr/local/lib/python3.10/dist-packages (from google-cloud-bigquery<4.0.0dev,>=1.15.0->google-cloud-aiplatform==1.25.0) (2.3.2)\n",
            "Requirement already satisfied: google-resumable-media<3.0dev,>=0.6.0 in /usr/local/lib/python3.10/dist-packages (from google-cloud-bigquery<4.0.0dev,>=1.15.0->google-cloud-aiplatform==1.25.0) (2.5.0)\n",
            "Requirement already satisfied: python-dateutil<3.0dev,>=2.7.2 in /usr/local/lib/python3.10/dist-packages (from google-cloud-bigquery<4.0.0dev,>=1.15.0->google-cloud-aiplatform==1.25.0) (2.8.2)\n",
            "Requirement already satisfied: grpc-google-iam-v1<1.0.0dev,>=0.12.4 in /usr/local/lib/python3.10/dist-packages (from google-cloud-resource-manager<3.0.0dev,>=1.3.3->google-cloud-aiplatform==1.25.0) (0.12.6)\n",
            "Requirement already satisfied: cachetools<6.0,>=2.0.0 in /usr/local/lib/python3.10/dist-packages (from google-auth<3.0.dev0,>=2.14.1->google-api-core[grpc]!=2.0.*,!=2.1.*,!=2.2.*,!=2.3.*,!=2.4.*,!=2.5.*,!=2.6.*,!=2.7.*,<3.0.0dev,>=1.32.0->google-cloud-aiplatform==1.25.0) (5.3.1)\n",
            "Requirement already satisfied: pyasn1-modules>=0.2.1 in /usr/local/lib/python3.10/dist-packages (from google-auth<3.0.dev0,>=2.14.1->google-api-core[grpc]!=2.0.*,!=2.1.*,!=2.2.*,!=2.3.*,!=2.4.*,!=2.5.*,!=2.6.*,!=2.7.*,<3.0.0dev,>=1.32.0->google-cloud-aiplatform==1.25.0) (0.3.0)\n",
            "Requirement already satisfied: six>=1.9.0 in /usr/local/lib/python3.10/dist-packages (from google-auth<3.0.dev0,>=2.14.1->google-api-core[grpc]!=2.0.*,!=2.1.*,!=2.2.*,!=2.3.*,!=2.4.*,!=2.5.*,!=2.6.*,!=2.7.*,<3.0.0dev,>=1.32.0->google-cloud-aiplatform==1.25.0) (1.16.0)\n",
            "Requirement already satisfied: rsa<5,>=3.1.4 in /usr/local/lib/python3.10/dist-packages (from google-auth<3.0.dev0,>=2.14.1->google-api-core[grpc]!=2.0.*,!=2.1.*,!=2.2.*,!=2.3.*,!=2.4.*,!=2.5.*,!=2.6.*,!=2.7.*,<3.0.0dev,>=1.32.0->google-cloud-aiplatform==1.25.0) (4.9)\n",
            "Requirement already satisfied: google-crc32c<2.0dev,>=1.0 in /usr/local/lib/python3.10/dist-packages (from google-resumable-media<3.0dev,>=0.6.0->google-cloud-bigquery<4.0.0dev,>=1.15.0->google-cloud-aiplatform==1.25.0) (1.5.0)\n",
            "Requirement already satisfied: urllib3<1.27,>=1.21.1 in /usr/local/lib/python3.10/dist-packages (from requests<3.0.0.dev0,>=2.18.0->google-api-core[grpc]!=2.0.*,!=2.1.*,!=2.2.*,!=2.3.*,!=2.4.*,!=2.5.*,!=2.6.*,!=2.7.*,<3.0.0dev,>=1.32.0->google-cloud-aiplatform==1.25.0) (1.26.16)\n",
            "Requirement already satisfied: certifi>=2017.4.17 in /usr/local/lib/python3.10/dist-packages (from requests<3.0.0.dev0,>=2.18.0->google-api-core[grpc]!=2.0.*,!=2.1.*,!=2.2.*,!=2.3.*,!=2.4.*,!=2.5.*,!=2.6.*,!=2.7.*,<3.0.0dev,>=1.32.0->google-cloud-aiplatform==1.25.0) (2023.5.7)\n",
            "Requirement already satisfied: charset-normalizer~=2.0.0 in /usr/local/lib/python3.10/dist-packages (from requests<3.0.0.dev0,>=2.18.0->google-api-core[grpc]!=2.0.*,!=2.1.*,!=2.2.*,!=2.3.*,!=2.4.*,!=2.5.*,!=2.6.*,!=2.7.*,<3.0.0dev,>=1.32.0->google-cloud-aiplatform==1.25.0) (2.0.12)\n",
            "Requirement already satisfied: idna<4,>=2.5 in /usr/local/lib/python3.10/dist-packages (from requests<3.0.0.dev0,>=2.18.0->google-api-core[grpc]!=2.0.*,!=2.1.*,!=2.2.*,!=2.3.*,!=2.4.*,!=2.5.*,!=2.6.*,!=2.7.*,<3.0.0dev,>=1.32.0->google-cloud-aiplatform==1.25.0) (3.4)\n",
            "Requirement already satisfied: pyasn1<0.6.0,>=0.4.6 in /usr/local/lib/python3.10/dist-packages (from pyasn1-modules>=0.2.1->google-auth<3.0.dev0,>=2.14.1->google-api-core[grpc]!=2.0.*,!=2.1.*,!=2.2.*,!=2.3.*,!=2.4.*,!=2.5.*,!=2.6.*,!=2.7.*,<3.0.0dev,>=1.32.0->google-cloud-aiplatform==1.25.0) (0.5.0)\n",
            "Installing collected packages: shapely, redis, google-cloud-resource-manager, google-cloud-aiplatform\n",
            "\u001b[33m  WARNING: The script tb-gcp-uploader is installed in '/root/.local/bin' which is not on PATH.\n",
            "  Consider adding this directory to PATH or, if you prefer to suppress this warning, use --no-warn-script-location.\u001b[0m\u001b[33m\n",
            "\u001b[0mSuccessfully installed google-cloud-aiplatform-1.25.0 google-cloud-resource-manager-1.10.2 redis-4.6.0 shapely-1.8.5.post1\n"
          ]
        },
        {
          "output_type": "display_data",
          "data": {
            "application/vnd.colab-display-data+json": {
              "pip_warning": {
                "packages": [
                  "google",
                  "shapely"
                ]
              }
            }
          },
          "metadata": {}
        }
      ],
      "source": [
        "!pip install redis \"google-cloud-aiplatform==1.25.0\" --upgrade --user"
      ]
    },
    {
      "cell_type": "markdown",
      "metadata": {
        "id": "p5kx9ePDwwp6"
      },
      "source": [
        "^^^ If prompted press the Restart button to restart the kernel. ^^^\n",
        "\n",
        "### Install Redis locally (optional)\n",
        "If you have a Redis db running elsewhere with [Redis Stack](https://redis.io/docs/about/about-stack/) installed, you don't need to run it on this machine. You can skip to the \"Connect to Redis server\" step."
      ]
    },
    {
      "cell_type": "code",
      "execution_count": 1,
      "metadata": {
        "colab": {
          "base_uri": "https://localhost:8080/"
        },
        "id": "vs4KZURX4XpT",
        "outputId": "fdcfbd6d-87b5-4c42-bfd2-e6b48b154d66"
      },
      "outputs": [
        {
          "output_type": "stream",
          "name": "stdout",
          "text": [
            "deb [signed-by=/usr/share/keyrings/redis-archive-keyring.gpg] https://packages.redis.io/deb focal main\n",
            "Starting redis-stack-server, database path /var/lib/redis-stack\n"
          ]
        },
        {
          "output_type": "stream",
          "name": "stderr",
          "text": [
            "gpg: cannot open '/dev/tty': No such device or address\n",
            "(23) Failed writing body\n"
          ]
        }
      ],
      "source": [
        "%%sh\n",
        "curl -fsSL https://packages.redis.io/gpg | sudo gpg --dearmor -o /usr/share/keyrings/redis-archive-keyring.gpg\n",
        "echo \"deb [signed-by=/usr/share/keyrings/redis-archive-keyring.gpg] https://packages.redis.io/deb $(lsb_release -cs) main\" | sudo tee /etc/apt/sources.list.d/redis.list\n",
        "sudo apt-get update  > /dev/null 2>&1\n",
        "sudo apt-get install redis-stack-server  > /dev/null 2>&1\n",
        "redis-stack-server --daemonize yes"
      ]
    },
    {
      "cell_type": "markdown",
      "metadata": {
        "id": "zvDp8WNz4XpU"
      },
      "source": [
        "### Connect to Redis server\n",
        "Replace the connection params below with your own if you are connecting to an external Redis instance."
      ]
    },
    {
      "cell_type": "code",
      "execution_count": 2,
      "metadata": {
        "colab": {
          "base_uri": "https://localhost:8080/"
        },
        "id": "duCyNgfZ4XpU",
        "outputId": "699af5d8-7360-4188-a381-082d064ffec4"
      },
      "outputs": [
        {
          "output_type": "execute_result",
          "data": {
            "text/plain": [
              "True"
            ]
          },
          "metadata": {},
          "execution_count": 2
        }
      ],
      "source": [
        "import os\n",
        "import redis\n",
        "\n",
        "# Redis connection params\n",
        "REDIS_HOST = os.getenv(\"REDIS_HOST\", \"localhost\") #\"redis-12110.c82.us-east-1-2.ec2.cloud.redislabs.com\"\n",
        "REDIS_PORT = os.getenv(\"REDIS_PORT\", \"6379\")      #12110\n",
        "REDIS_PASSWORD = os.getenv(\"REDIS_PASSWORD\", \"\") #\"pobhBJP7Psicp2gV0iqa2ZOc1WdXXXXX\"\n",
        "\n",
        "# Create Redis client\n",
        "redis_client = redis.Redis(\n",
        "  host=REDIS_HOST,\n",
        "  port=REDIS_PORT,\n",
        "  password=REDIS_PASSWORD\n",
        ")\n",
        "\n",
        "# Test connection\n",
        "redis_client.ping()"
      ]
    },
    {
      "cell_type": "code",
      "source": [
        "# Clear Redis database (optional)\n",
        "redis_client.flushdb()"
      ],
      "metadata": {
        "colab": {
          "base_uri": "https://localhost:8080/"
        },
        "id": "0Rrz76w96dF3",
        "outputId": "9436f9f2-a08d-4b3c-c248-5ffa6c5225da"
      },
      "execution_count": 3,
      "outputs": [
        {
          "output_type": "execute_result",
          "data": {
            "text/plain": [
              "True"
            ]
          },
          "metadata": {},
          "execution_count": 3
        }
      ]
    },
    {
      "cell_type": "markdown",
      "metadata": {
        "id": "BpjxW-kou-FY"
      },
      "source": [
        "### Authenticate to Google Cloud"
      ]
    },
    {
      "cell_type": "code",
      "execution_count": 4,
      "metadata": {
        "colab": {
          "base_uri": "https://localhost:8080/"
        },
        "id": "SeTJb51SKs_W",
        "outputId": "926fed7f-d2b6-4907-a621-dbcff129712c"
      },
      "outputs": [
        {
          "output_type": "stream",
          "name": "stdout",
          "text": [
            "Authenticated\n"
          ]
        }
      ],
      "source": [
        "from google.colab import auth\n",
        "auth.authenticate_user()\n",
        "print('Authenticated')"
      ]
    },
    {
      "cell_type": "code",
      "execution_count": 6,
      "metadata": {
        "id": "8Yil6twAvIuH",
        "colab": {
          "base_uri": "https://localhost:8080/"
        },
        "outputId": "f74b6d6b-8d67-40d6-fbc6-7b25dfb32333"
      },
      "outputs": [
        {
          "name": "stdout",
          "output_type": "stream",
          "text": [
            "PROJECT_ID:··········\n",
            "REGION:us-central1\n"
          ]
        }
      ],
      "source": [
        "from getpass import getpass\n",
        "\n",
        "# input your GCP project ID and region for Vertex AI\n",
        "PROJECT_ID = getpass(\"PROJECT_ID:\") #'central-beach-194106'\n",
        "REGION = input(\"REGION:\") #'us-central1'"
      ]
    },
    {
      "cell_type": "markdown",
      "source": [
        "### Initialize Vertex AI Components\n",
        "\n"
      ],
      "metadata": {
        "id": "FoH2gpfOq0WU"
      }
    },
    {
      "cell_type": "code",
      "source": [
        "import vertexai\n",
        "\n",
        "vertexai.init(project=PROJECT_ID, location=REGION)"
      ],
      "metadata": {
        "id": "_LibO7HEsGmQ"
      },
      "execution_count": 15,
      "outputs": []
    },
    {
      "cell_type": "markdown",
      "source": [
        "## 2. Create BigQuery Table\n",
        "The second step involves preparing the dataset for our LLM applications. We utilize a free (public) hacker news dataset from **Google BigQuery**.\n",
        "\n",
        "*Leveraging BigQuery is a common pattern for building ML applications because of it's powerful query and analytics capabilities.*\n",
        "\n",
        "We will start by creating our own big query table for the dataset. Additionally, if you have a different dataset to work with you can follow a similar pattern, or even load a CSV from a Google Cloud Storage bucket into BigQuery."
      ],
      "metadata": {
        "id": "i2nd1vj2kxvj"
      }
    },
    {
      "cell_type": "markdown",
      "metadata": {
        "id": "ky0pPyMiwDk3"
      },
      "source": [
        "### Create source table\n",
        "First step is to create a new table from the public datasource."
      ]
    },
    {
      "cell_type": "code",
      "source": [
        "from google.cloud import bigquery\n",
        "\n",
        "# Create bigquery client\n",
        "bq = bigquery.Client(project=PROJECT_ID)\n",
        "\n",
        "TABLE_NAME = input(\"Input a Big Query TABLE_NAME:\") #hackernews\n",
        "DATASET_ID = f\"{PROJECT_ID}.google_redis_llms\"\n",
        "\n",
        "# Create dataset\n",
        "dataset = bigquery.Dataset(DATASET_ID)\n",
        "dataset.location = \"US\"\n",
        "dataset = bq.create_dataset(dataset, timeout=30, exists_ok=True)\n",
        "\n",
        "# Define table ID\n",
        "TABLE_ID = f\"{DATASET_ID}.{TABLE_NAME}\""
      ],
      "metadata": {
        "colab": {
          "base_uri": "https://localhost:8080/"
        },
        "id": "8esN82F2UNph",
        "outputId": "2d8b376f-2b21-4ec4-8f4c-bd19a7f4ac2f"
      },
      "execution_count": 7,
      "outputs": [
        {
          "name": "stdout",
          "output_type": "stream",
          "text": [
            "Input a Big Query TABLE_NAME:hackernews\n"
          ]
        }
      ]
    },
    {
      "cell_type": "code",
      "execution_count": 8,
      "metadata": {
        "id": "Yh7cxtmSvJgq"
      },
      "outputs": [],
      "source": [
        "# Create source table\n",
        "def create_source_table(table_id: str):\n",
        "    create_job = bq.query(f'''\n",
        "      CREATE OR REPLACE TABLE `{table_id}` AS (\n",
        "        SELECT\n",
        "          title, text, time, timestamp, id\n",
        "        FROM `bigquery-public-data.hacker_news.full`\n",
        "        WHERE\n",
        "          type ='story'\n",
        "        LIMIT 1000\n",
        "      )\n",
        "    ''')\n",
        "    res = create_job.result() # Make an API request\n",
        "    table = bq.get_table(table_id)\n",
        "    return table"
      ]
    },
    {
      "cell_type": "code",
      "source": [
        "# Create table\n",
        "table = create_source_table(TABLE_ID)\n",
        "\n",
        "# List schema\n",
        "table.schema"
      ],
      "metadata": {
        "colab": {
          "base_uri": "https://localhost:8080/"
        },
        "id": "JPSjcAkHUnWk",
        "outputId": "30d1bfaa-1534-458f-fd2a-9a5c113b9ee3"
      },
      "execution_count": 9,
      "outputs": [
        {
          "output_type": "execute_result",
          "data": {
            "text/plain": [
              "[SchemaField('title', 'STRING', 'NULLABLE', None, None, (), None),\n",
              " SchemaField('text', 'STRING', 'NULLABLE', None, None, (), None),\n",
              " SchemaField('time', 'INTEGER', 'NULLABLE', None, None, (), None),\n",
              " SchemaField('timestamp', 'TIMESTAMP', 'NULLABLE', None, None, (), None),\n",
              " SchemaField('id', 'INTEGER', 'NULLABLE', None, None, (), None)]"
            ]
          },
          "metadata": {},
          "execution_count": 9
        }
      ]
    },
    {
      "cell_type": "markdown",
      "source": [
        "The dataset above contains records of hacker news posts including the **title**, **text**, **time**, **id** and **timestamp**. Let's pull a few sample rows and inspect."
      ],
      "metadata": {
        "id": "yUpCrznsnh4f"
      }
    },
    {
      "cell_type": "code",
      "source": [
        "# Query a sample record from BQ\n",
        "query_job = bq.query(f'''\n",
        "SELECT *\n",
        "FROM {TABLE_ID}\n",
        "LIMIT 5\n",
        "''')\n",
        "\n",
        "query_job.result().to_dataframe()"
      ],
      "metadata": {
        "colab": {
          "base_uri": "https://localhost:8080/",
          "height": 206
        },
        "id": "9C3uLMlBT_c4",
        "outputId": "77c46a81-7552-4b27-8e30-c71b2f5deeb9"
      },
      "execution_count": 13,
      "outputs": [
        {
          "output_type": "execute_result",
          "data": {
            "text/plain": [
              "    title                                               text        time  \\\n",
              "0       D                                       ZiKoNWuK6Bu0  1611707194   \n",
              "1     Ads                                  asddddddddddddddd  1585224810   \n",
              "2    Help  Is there any one who can  help me better under...  1490188004   \n",
              "3    Hola                                         Como Estas  1570682296   \n",
              "4  Advice  I am New to HN. What is that 1 advice you woul...  1667047291   \n",
              "\n",
              "                  timestamp        id  \n",
              "0 2021-01-27 00:26:34+00:00  25922721  \n",
              "1 2020-03-26 12:13:30+00:00  22692739  \n",
              "2 2017-03-22 13:06:44+00:00  13930560  \n",
              "3 2019-10-10 04:38:16+00:00  21210935  \n",
              "4 2022-10-29 12:41:31+00:00  33383542  "
            ],
            "text/html": [
              "\n",
              "  <div id=\"df-347272cb-a078-4a74-9a26-e4c742527774\">\n",
              "    <div class=\"colab-df-container\">\n",
              "      <div>\n",
              "<style scoped>\n",
              "    .dataframe tbody tr th:only-of-type {\n",
              "        vertical-align: middle;\n",
              "    }\n",
              "\n",
              "    .dataframe tbody tr th {\n",
              "        vertical-align: top;\n",
              "    }\n",
              "\n",
              "    .dataframe thead th {\n",
              "        text-align: right;\n",
              "    }\n",
              "</style>\n",
              "<table border=\"1\" class=\"dataframe\">\n",
              "  <thead>\n",
              "    <tr style=\"text-align: right;\">\n",
              "      <th></th>\n",
              "      <th>title</th>\n",
              "      <th>text</th>\n",
              "      <th>time</th>\n",
              "      <th>timestamp</th>\n",
              "      <th>id</th>\n",
              "    </tr>\n",
              "  </thead>\n",
              "  <tbody>\n",
              "    <tr>\n",
              "      <th>0</th>\n",
              "      <td>D</td>\n",
              "      <td>ZiKoNWuK6Bu0</td>\n",
              "      <td>1611707194</td>\n",
              "      <td>2021-01-27 00:26:34+00:00</td>\n",
              "      <td>25922721</td>\n",
              "    </tr>\n",
              "    <tr>\n",
              "      <th>1</th>\n",
              "      <td>Ads</td>\n",
              "      <td>asddddddddddddddd</td>\n",
              "      <td>1585224810</td>\n",
              "      <td>2020-03-26 12:13:30+00:00</td>\n",
              "      <td>22692739</td>\n",
              "    </tr>\n",
              "    <tr>\n",
              "      <th>2</th>\n",
              "      <td>Help</td>\n",
              "      <td>Is there any one who can  help me better under...</td>\n",
              "      <td>1490188004</td>\n",
              "      <td>2017-03-22 13:06:44+00:00</td>\n",
              "      <td>13930560</td>\n",
              "    </tr>\n",
              "    <tr>\n",
              "      <th>3</th>\n",
              "      <td>Hola</td>\n",
              "      <td>Como Estas</td>\n",
              "      <td>1570682296</td>\n",
              "      <td>2019-10-10 04:38:16+00:00</td>\n",
              "      <td>21210935</td>\n",
              "    </tr>\n",
              "    <tr>\n",
              "      <th>4</th>\n",
              "      <td>Advice</td>\n",
              "      <td>I am New to HN. What is that 1 advice you woul...</td>\n",
              "      <td>1667047291</td>\n",
              "      <td>2022-10-29 12:41:31+00:00</td>\n",
              "      <td>33383542</td>\n",
              "    </tr>\n",
              "  </tbody>\n",
              "</table>\n",
              "</div>\n",
              "      <button class=\"colab-df-convert\" onclick=\"convertToInteractive('df-347272cb-a078-4a74-9a26-e4c742527774')\"\n",
              "              title=\"Convert this dataframe to an interactive table.\"\n",
              "              style=\"display:none;\">\n",
              "        \n",
              "  <svg xmlns=\"http://www.w3.org/2000/svg\" height=\"24px\"viewBox=\"0 0 24 24\"\n",
              "       width=\"24px\">\n",
              "    <path d=\"M0 0h24v24H0V0z\" fill=\"none\"/>\n",
              "    <path d=\"M18.56 5.44l.94 2.06.94-2.06 2.06-.94-2.06-.94-.94-2.06-.94 2.06-2.06.94zm-11 1L8.5 8.5l.94-2.06 2.06-.94-2.06-.94L8.5 2.5l-.94 2.06-2.06.94zm10 10l.94 2.06.94-2.06 2.06-.94-2.06-.94-.94-2.06-.94 2.06-2.06.94z\"/><path d=\"M17.41 7.96l-1.37-1.37c-.4-.4-.92-.59-1.43-.59-.52 0-1.04.2-1.43.59L10.3 9.45l-7.72 7.72c-.78.78-.78 2.05 0 2.83L4 21.41c.39.39.9.59 1.41.59.51 0 1.02-.2 1.41-.59l7.78-7.78 2.81-2.81c.8-.78.8-2.07 0-2.86zM5.41 20L4 18.59l7.72-7.72 1.47 1.35L5.41 20z\"/>\n",
              "  </svg>\n",
              "      </button>\n",
              "      \n",
              "  <style>\n",
              "    .colab-df-container {\n",
              "      display:flex;\n",
              "      flex-wrap:wrap;\n",
              "      gap: 12px;\n",
              "    }\n",
              "\n",
              "    .colab-df-convert {\n",
              "      background-color: #E8F0FE;\n",
              "      border: none;\n",
              "      border-radius: 50%;\n",
              "      cursor: pointer;\n",
              "      display: none;\n",
              "      fill: #1967D2;\n",
              "      height: 32px;\n",
              "      padding: 0 0 0 0;\n",
              "      width: 32px;\n",
              "    }\n",
              "\n",
              "    .colab-df-convert:hover {\n",
              "      background-color: #E2EBFA;\n",
              "      box-shadow: 0px 1px 2px rgba(60, 64, 67, 0.3), 0px 1px 3px 1px rgba(60, 64, 67, 0.15);\n",
              "      fill: #174EA6;\n",
              "    }\n",
              "\n",
              "    [theme=dark] .colab-df-convert {\n",
              "      background-color: #3B4455;\n",
              "      fill: #D2E3FC;\n",
              "    }\n",
              "\n",
              "    [theme=dark] .colab-df-convert:hover {\n",
              "      background-color: #434B5C;\n",
              "      box-shadow: 0px 1px 3px 1px rgba(0, 0, 0, 0.15);\n",
              "      filter: drop-shadow(0px 1px 2px rgba(0, 0, 0, 0.3));\n",
              "      fill: #FFFFFF;\n",
              "    }\n",
              "  </style>\n",
              "\n",
              "      <script>\n",
              "        const buttonEl =\n",
              "          document.querySelector('#df-347272cb-a078-4a74-9a26-e4c742527774 button.colab-df-convert');\n",
              "        buttonEl.style.display =\n",
              "          google.colab.kernel.accessAllowed ? 'block' : 'none';\n",
              "\n",
              "        async function convertToInteractive(key) {\n",
              "          const element = document.querySelector('#df-347272cb-a078-4a74-9a26-e4c742527774');\n",
              "          const dataTable =\n",
              "            await google.colab.kernel.invokeFunction('convertToInteractive',\n",
              "                                                     [key], {});\n",
              "          if (!dataTable) return;\n",
              "\n",
              "          const docLinkHtml = 'Like what you see? Visit the ' +\n",
              "            '<a target=\"_blank\" href=https://colab.research.google.com/notebooks/data_table.ipynb>data table notebook</a>'\n",
              "            + ' to learn more about interactive tables.';\n",
              "          element.innerHTML = '';\n",
              "          dataTable['output_type'] = 'display_data';\n",
              "          await google.colab.output.renderOutput(dataTable, element);\n",
              "          const docLink = document.createElement('div');\n",
              "          docLink.innerHTML = docLinkHtml;\n",
              "          element.appendChild(docLink);\n",
              "        }\n",
              "      </script>\n",
              "    </div>\n",
              "  </div>\n",
              "  "
            ]
          },
          "metadata": {},
          "execution_count": 13
        }
      ]
    },
    {
      "cell_type": "markdown",
      "source": [
        "## 2. Generate Embeddings"
      ],
      "metadata": {
        "id": "9vDGqjHmVgjB"
      }
    },
    {
      "cell_type": "markdown",
      "metadata": {
        "id": "0Kh0ObD4xZtK"
      },
      "source": [
        "### Create text embeddings with Vertex AI embedding model\n",
        "Use the [Vertex AI API for text embeddings](https://cloud.google.com/vertex-ai/docs/generative-ai/embeddings/get-text-embeddings), developed by Google.\n",
        "\n",
        "> Text embeddings are a dense vector representation of a piece of content such that, if two pieces of content are semantically similar, their respective embeddings are located near each other in the embedding vector space. This representation can be used to solve common NLP tasks, such as:\n",
        "> - **Semantic search**: Search text ranked by semantic similarity.\n",
        "> - **Recommendation**: Return items with text attributes similar to the given text.\n",
        "> - **Classification**: Return the class of items whose text attributes are similar to the given text.\n",
        "> - **Clustering**: Cluster items whose text attributes are similar to the given text.\n",
        "> - **Outlier Detection**: Return items where text attributes are least related to the given text.\n",
        "\n",
        "The `textembedding-gecko` model accepts a maximum of 3,072 input tokens (i.e. words) and outputs 768-dimensional vector embeddings."
      ]
    },
    {
      "cell_type": "markdown",
      "source": [
        "### Define embedding helper function\n",
        "We define a helper function, `embedding_model_with_backoff`, to create embeddings from a list of texts while making it resilient to [Vertex AI API quotas](https://cloud.google.com/vertex-ai/docs/quotas) via [exponential backoff](https://en.wikipedia.org/wiki/Exponential_backoff).\n",
        "\n",
        "We also define a method to convert an array of floats to a byte string for efficient storage in Redis (later on).\n",
        "\n"
      ],
      "metadata": {
        "id": "x3o_9ehYuEpA"
      }
    },
    {
      "cell_type": "code",
      "execution_count": 25,
      "metadata": {
        "id": "zrpKY4W5yb0M"
      },
      "outputs": [],
      "source": [
        "from typing import Generator, List, Any\n",
        "\n",
        "from tenacity import retry, stop_after_attempt, wait_random_exponential\n",
        "from vertexai.preview.language_models import TextEmbeddingModel\n",
        "\n",
        "# Embedding model definition from VertexAI PaLM API\n",
        "embedding_model = TextEmbeddingModel.from_pretrained(\"textembedding-gecko@001\")\n",
        "VECTOR_DIMENSIONS = 768\n",
        "\n",
        "@retry(wait=wait_random_exponential(min=1, max=20), stop=stop_after_attempt(3))\n",
        "def embed_text(text=[]):\n",
        "    embeddings = embedding_model.get_embeddings(text)\n",
        "    return [each.values for each in embeddings]\n",
        "\n",
        "# Convert embeddings to bytes for Redis storage\n",
        "def convert_embedding(emb: List[float]):\n",
        "  return np.array(emb).astype(np.float32).tobytes()"
      ]
    },
    {
      "cell_type": "markdown",
      "source": [
        "### Embed text\n",
        "At the moment, our table in BigQuery (created above), contains records of the hacker news posts that we wish to embed and make available for LLMs.\n",
        "\n",
        "In order to conserve RAM usage of this machine, we will iterate over batches of posts from BigQuery, create embeddings, and write them to Redis, which is being used as a [vector database](https://redis.com/solutions/use-cases/vector-database)."
      ],
      "metadata": {
        "id": "peFHIY351eDc"
      }
    },
    {
      "cell_type": "code",
      "source": [
        "import pandas as pd\n",
        "import numpy as np\n",
        "\n",
        "QUERY_TEMPLATE = f\"\"\"\n",
        "SELECT id, title, text\n",
        "FROM {TABLE_ID}\n",
        "LIMIT {{limit}} OFFSET {{offset}};\n",
        "\"\"\"\n",
        "\n",
        "def query_bigquery_batches(\n",
        "    max_rows: int,\n",
        "    rows_per_batch: int,\n",
        "    start_batch: int = 0\n",
        ") -> Generator[pd.DataFrame, Any, None]:\n",
        "    # Generate batches from a table in big query\n",
        "    for offset in range(start_batch, max_rows, rows_per_batch):\n",
        "        query = QUERY_TEMPLATE.format(limit=rows_per_batch, offset=offset)\n",
        "        query_job = bq.query(query)\n",
        "        rows = query_job.result()\n",
        "        df = rows.to_dataframe()\n",
        "        # Join title and text fields\n",
        "        df[\"content\"] = df.apply(lambda r: \"Title: \" + r.title + \". Content: \" + r.text, axis=1)\n",
        "        yield df\n"
      ],
      "metadata": {
        "id": "tzkRiknVXOtc"
      },
      "execution_count": 17,
      "outputs": []
    },
    {
      "cell_type": "markdown",
      "source": [
        "Below we define a few helper functions for processing a single row of data, writing batches to **Redis**, querying source data from **BigQuery**, and creating text embeddings with **Vertex AI**."
      ],
      "metadata": {
        "id": "N9jxcBjvNxOt"
      }
    },
    {
      "cell_type": "code",
      "source": [
        "import math\n",
        "from tqdm.auto import tqdm\n",
        "\n",
        "\n",
        "# Redis key helper function\n",
        "def redis_key(key_prefix: str, id: str) -> str:\n",
        "  return f\"{key_prefix}:{id}\"\n",
        "\n",
        "# Process a single dataset record\n",
        "def process_record(record: dict) -> dict:\n",
        "  return {\n",
        "      'id': record['id'],\n",
        "      'embedding': record['embedding'],\n",
        "      'text': record['text'],\n",
        "      'title': record['title']\n",
        "  }\n",
        "\n",
        "# Load batch of data into Redis as HASH objects\n",
        "def load_redis_batch(\n",
        "    redis_client: redis.Redis,\n",
        "    dataset: list,\n",
        "    key_prefix: str = \"doc\",\n",
        "    id_column: str = \"id\",\n",
        "):\n",
        "    pipe = redis_client.pipeline()\n",
        "    for i, record in enumerate(tqdm(dataset)):\n",
        "        record = process_record(record)\n",
        "        key = redis_key(key_prefix, record[id_column])\n",
        "        pipe.hset(key, mapping=record)\n",
        "    pipe.execute()\n",
        "\n",
        "# Run the entire process\n",
        "def create_embeddings_bigquery_redis(redis_client):\n",
        "    # Create generator from BigQuery\n",
        "    max_rows = 1000\n",
        "    rows_per_batch = 100\n",
        "    bq_content_query = query_bigquery_batches(max_rows, rows_per_batch)\n",
        "\n",
        "    for batch in tqdm(bq_content_query):\n",
        "      # Split batch into smaller chunks for embedding generation\n",
        "      batch_splits = np.array_split(batch, math.ceil(rows_per_batch/5))\n",
        "      # Create embeddings\n",
        "      batch[\"embedding\"] = [\n",
        "          convert_embedding(embedding)\n",
        "          for split in batch_splits\n",
        "          for embedding in embed_text(split.content)\n",
        "      ]\n",
        "      # Write batch to Redis\n",
        "      batch = batch.to_dict(\"records\")\n",
        "      load_redis_batch(redis_client, batch)\n",
        "\n"
      ],
      "metadata": {
        "id": "OETsrYvfuzmX"
      },
      "execution_count": 18,
      "outputs": []
    },
    {
      "cell_type": "markdown",
      "source": [
        "## 3. Load embeddings to Redis\n",
        "Now that we have a function to generate BigQuery batches, create text embeddings, and write batches to Redis, we can run the single function to process our entire dataset:"
      ],
      "metadata": {
        "id": "ie02v3hfoApC"
      }
    },
    {
      "cell_type": "code",
      "source": [
        "create_embeddings_bigquery_redis(redis_client)"
      ],
      "metadata": {
        "colab": {
          "base_uri": "https://localhost:8080/",
          "height": 369,
          "referenced_widgets": [
            "a26292ce5e9345ffaaa19f2a572b0847",
            "2b8d5c8cc99741788912162a14f405cb",
            "4b9e5340cf1e4c9b935b267ebf249cd6",
            "707dffc4f50440ad91865d1a5a938321",
            "c4ed2e37b4e7442eb80fb59ac3687d8c",
            "d4fbc1b0467d4c1b8ab1f9a4ed5d251b",
            "87f5b7cac6f243ca93a7334a42a69d50",
            "93a5dcb43310412bb303d5535a42ae24",
            "82b1dd9eb903437ca432da94d42fa805",
            "c2f83bb5cb2a494281994649b3262c7c",
            "394a8a2829a148e5a514e00b603acc90",
            "5dd1b18e81fe431d9544ab124994b54b",
            "d83ec1dbafb54cad8d0ba9cf664c2f06",
            "4df70a11560d434194c87993596467d2",
            "6089fb725efd4e6bbbcd1c771629f990",
            "c21245e4efea4ba59d1ee09887d273cd",
            "d1bc4902d5f94d86b9935f0d0aa30f32",
            "56165e80c1c64670b8d0d5346b92462b",
            "38dceca0535f4ef993d25359088b66c8",
            "05ed207f12d24ea19a6cfd10d372eb4b",
            "6d36f0d6d9ad4c6dabaedc5445ebd434",
            "a32b9af31c70419e82c0ad36a2d33b71",
            "6e7b1deab97e43bc86e651d6d18cfb24",
            "4772892e76b94d37801784b9090f506b",
            "b9e9fc2b202540e3b3319113c3650d5e",
            "31599074c4a44cd696dd160478648fcc",
            "f9a86e2dc7434232b84eafb4d3975a3e",
            "60488fdb2f5d4a51bd112e2bb423c029",
            "255a6b2bc78e4fb9bd6cb4ae38e435e5",
            "d3019cde08934aedbd5d1537f048b171",
            "d61941728d3e4935a3e0bc43019ee033",
            "698b5e6e5b664e74be69131e6b830748",
            "fc5b0c963ac941a9859decc0d19ddc88",
            "0a3c9c06cc264825b584ed9f565e7249",
            "8bf4c7484a1d4df1a4ca41cc33817c00",
            "7b744419dc774312bc42eb043432245b",
            "d1fec94b342d4857a83223c2fb628855",
            "5efe8a03dcf84797834ea0a20dfa97e7",
            "2396634655184513993ac5b9aa121828",
            "0c0c11e768414111aaf13af8cfc1dce3",
            "41ab7ef38e954a348ccc5f13f4c7d40f",
            "33c81a6fe7d5458cb65db4dca6fc08e7",
            "990a62fefe2b40f085233b02898ff770",
            "7d273b4fef1a40fcbbb99236b1a99041",
            "b4d6abed62844f7cb84b8ee9409f3762",
            "04066ed18b894b8a8a30f229f044bd52",
            "a671f33d99a04277a479dfb36c311f54",
            "f15bc7c66c354ea8ae8fd75bf10c4242",
            "4c2db26f11cd42eb8da90f9ba4733727",
            "a20bf7f8b3e84261bd843f336bca078b",
            "26641c2ca5c144789874f9f7f8bfcb07",
            "44784452508e449cae0d70266cffbe06",
            "c0e523181ca74f79bacdce6aa5d5e98b",
            "420f9333c0e34888b209868b03d4e330",
            "b849ff8635904f59b45ae2905e7f5c36",
            "c623df94cbb24703996f93693a8e7f16",
            "0df96e9434e9490f9849cb40a3ac0777",
            "1e546f5c736c4f7b8f74aa1d9239ac7d",
            "708987bb63d3424b8b3d270b3fd8e55f",
            "1d25b241a8784e3cb1d74a9f6f7e85f8",
            "1e5ef0a493f44485930f52094968a6ab",
            "999c8f6ea6b44bb98792fae496680b3a",
            "ccdb12fb8c4b4c9c9fe6aeaffea95220",
            "49330e255a6943c29ebdf57f047894ee",
            "f184b77573c54693b0578c5e62e66f13",
            "a0ec4de1ceac4924ab2cf55eb02356c9",
            "fa4d8b45c47341b5951dcd6b465e3148",
            "bdacb374e6f04d19a34352e3d7dc0cea",
            "ae3fb68f8cd54430b26eb70b03559c96",
            "b57ee8dc5f5b4651abcc6e4783337747",
            "df5bf7009111499483bf45dabd7a5a8f",
            "88ae9e22e05547c68e733b588eec0282",
            "9f5ce5623a5b4c89adf0e962a5046c20",
            "1802e0bfd42f4226b111e0095fa4f2a0",
            "03cca80308944aa28b639878f5f63f79",
            "bde93c001f7d46bc90b1b190ac1e3de8",
            "4ffeaca1e99a4552a5ab5953da3d2964",
            "7fd1da03760348f6875337c0287faed7",
            "02ce6b00a23042ddb200e1ece0844a95",
            "3a20fa27aeed4ee1ab0069fb8f5ba0f1",
            "83a61f4779694d68a8e03ca0b35b89f0",
            "e9951bd227f74dff9692cb371d75bf47",
            "925ad94adf264593b3d73f435b0b84d4",
            "541d31f7abc94c1189560a6e3173ec6b",
            "d45f7ec278044634b20cafc27028b1b5",
            "f95a218c80314e4aa8347a8796938f0e",
            "5ab0b389e9b1417eacabb5bbdbd44eed",
            "1682e8d2442c4dd3859da3f2c5eb9e70",
            "889cf3bfc7ec4cccb171bf5fef29e8b0",
            "74a57840b2e443a79814b4e9fc0bc490",
            "584f5163a8dd4e0290eaea0e46f80254",
            "c496f5dc1bb44bd5bfe9cd912737f38e",
            "c43dc70d8ada47078784624d5b8217f0",
            "d4d7488c0d304988bce3b4f41fa34496",
            "45986c29ee10469185980e12e083ae9f",
            "3a158fb1cb634c3782918c5b91d5e017",
            "8b20fc378c4e45418ce037a11d32498a",
            "72b19953aead4a84989e7af8e91e9e3b",
            "aa98cc051c694fcaaac3f04b4b0fefad",
            "3fc2d96cf2744d118337e2be3283d405",
            "c7e0baeac2e04531b164205972fd381a",
            "1c8abae353ac4dd38de2d3cf964c3203",
            "85fde0aaa22144728ff5b01dac2b9d41",
            "d83990cbde6b43a58d78cefcdee33a7d",
            "12a75468a1374b62b0bbc12d99e531bd",
            "67d443740ec342a0a869f6314ab3f264",
            "02dc485d0e814c4596e5f0d8f5a63178",
            "7aee06a7a051447598a012be686659c2",
            "c134c735b9a2405fa9e8befcb02e827d",
            "c12bf48b95564700abb5efe18c4226b4",
            "c11376b7a39e4bbb926ed835f4e2e7c2",
            "c48aac9981c44a349fe5536382300935",
            "dee8862c5660420586c59adf75053700",
            "c8e40394edb4481d96404da2f3035169",
            "5bfd2977a3ed427c8699ec95a385240d",
            "93b1c1952e2f42a4bf9fe76b6153537d",
            "72436b70d4f840ecb8e95b38c8455938",
            "6959473b4b5949798d0ce2f6b6c3e0ef",
            "5cf069b2412d4f9498b5298748f1fa89",
            "c1992c1930fe4c85ab7490b5036b7e88",
            "cb2615e676f5434fa1bb88f26fd26da8"
          ]
        },
        "id": "V9KdsiG_pd3U",
        "outputId": "2c660333-715a-4bcd-b9b1-27d0388238bd"
      },
      "execution_count": 19,
      "outputs": [
        {
          "output_type": "display_data",
          "data": {
            "text/plain": [
              "0it [00:00, ?it/s]"
            ],
            "application/vnd.jupyter.widget-view+json": {
              "version_major": 2,
              "version_minor": 0,
              "model_id": "a26292ce5e9345ffaaa19f2a572b0847"
            }
          },
          "metadata": {}
        },
        {
          "output_type": "display_data",
          "data": {
            "text/plain": [
              "  0%|          | 0/100 [00:00<?, ?it/s]"
            ],
            "application/vnd.jupyter.widget-view+json": {
              "version_major": 2,
              "version_minor": 0,
              "model_id": "5dd1b18e81fe431d9544ab124994b54b"
            }
          },
          "metadata": {}
        },
        {
          "output_type": "display_data",
          "data": {
            "text/plain": [
              "  0%|          | 0/100 [00:00<?, ?it/s]"
            ],
            "application/vnd.jupyter.widget-view+json": {
              "version_major": 2,
              "version_minor": 0,
              "model_id": "6e7b1deab97e43bc86e651d6d18cfb24"
            }
          },
          "metadata": {}
        },
        {
          "output_type": "display_data",
          "data": {
            "text/plain": [
              "  0%|          | 0/100 [00:00<?, ?it/s]"
            ],
            "application/vnd.jupyter.widget-view+json": {
              "version_major": 2,
              "version_minor": 0,
              "model_id": "0a3c9c06cc264825b584ed9f565e7249"
            }
          },
          "metadata": {}
        },
        {
          "output_type": "display_data",
          "data": {
            "text/plain": [
              "  0%|          | 0/100 [00:00<?, ?it/s]"
            ],
            "application/vnd.jupyter.widget-view+json": {
              "version_major": 2,
              "version_minor": 0,
              "model_id": "b4d6abed62844f7cb84b8ee9409f3762"
            }
          },
          "metadata": {}
        },
        {
          "output_type": "display_data",
          "data": {
            "text/plain": [
              "  0%|          | 0/100 [00:00<?, ?it/s]"
            ],
            "application/vnd.jupyter.widget-view+json": {
              "version_major": 2,
              "version_minor": 0,
              "model_id": "c623df94cbb24703996f93693a8e7f16"
            }
          },
          "metadata": {}
        },
        {
          "output_type": "display_data",
          "data": {
            "text/plain": [
              "  0%|          | 0/100 [00:00<?, ?it/s]"
            ],
            "application/vnd.jupyter.widget-view+json": {
              "version_major": 2,
              "version_minor": 0,
              "model_id": "fa4d8b45c47341b5951dcd6b465e3148"
            }
          },
          "metadata": {}
        },
        {
          "output_type": "display_data",
          "data": {
            "text/plain": [
              "  0%|          | 0/100 [00:00<?, ?it/s]"
            ],
            "application/vnd.jupyter.widget-view+json": {
              "version_major": 2,
              "version_minor": 0,
              "model_id": "7fd1da03760348f6875337c0287faed7"
            }
          },
          "metadata": {}
        },
        {
          "output_type": "display_data",
          "data": {
            "text/plain": [
              "  0%|          | 0/100 [00:00<?, ?it/s]"
            ],
            "application/vnd.jupyter.widget-view+json": {
              "version_major": 2,
              "version_minor": 0,
              "model_id": "889cf3bfc7ec4cccb171bf5fef29e8b0"
            }
          },
          "metadata": {}
        },
        {
          "output_type": "display_data",
          "data": {
            "text/plain": [
              "  0%|          | 0/100 [00:00<?, ?it/s]"
            ],
            "application/vnd.jupyter.widget-view+json": {
              "version_major": 2,
              "version_minor": 0,
              "model_id": "3fc2d96cf2744d118337e2be3283d405"
            }
          },
          "metadata": {}
        },
        {
          "output_type": "display_data",
          "data": {
            "text/plain": [
              "  0%|          | 0/100 [00:00<?, ?it/s]"
            ],
            "application/vnd.jupyter.widget-view+json": {
              "version_major": 2,
              "version_minor": 0,
              "model_id": "c11376b7a39e4bbb926ed835f4e2e7c2"
            }
          },
          "metadata": {}
        }
      ]
    },
    {
      "cell_type": "code",
      "source": [
        "# Validate how many records are stored in Redis\n",
        "redis_client.dbsize()"
      ],
      "metadata": {
        "colab": {
          "base_uri": "https://localhost:8080/"
        },
        "id": "HvsGxsOvrz5J",
        "outputId": "6f652095-6042-4910-bb2e-39d10c21e2fb"
      },
      "execution_count": 20,
      "outputs": [
        {
          "output_type": "execute_result",
          "data": {
            "text/plain": [
              "1000"
            ]
          },
          "metadata": {},
          "execution_count": 20
        }
      ]
    },
    {
      "cell_type": "markdown",
      "source": [
        "### Create vector index\n",
        "\n",
        "Now that we have created embeddings that represent the text in our dataset and stored them in Redis, we will create a secondary index that enables efficient search over the embeddings. To learn more about the vector similarity features in Redis, [check out these docs](https://redis.io/docs/interact/search-and-query/search/vectors/) and [these Redis AI resources](https://github.com/RedisVentures/redis-ai-resources).\n",
        "\n",
        "**Why do we need to enable search???**\n",
        "Using Redis for vector similarity search allows us to retrieve chunks of text data that are **similar** or **relevant** to an input question or query. This will be extremely helpful for our sample generative ai / LLM application."
      ],
      "metadata": {
        "id": "WGVt7-DNr80e"
      }
    },
    {
      "cell_type": "code",
      "execution_count": 21,
      "metadata": {
        "id": "9mNa5LNn4XpX"
      },
      "outputs": [],
      "source": [
        "from redis.commands.search.field import (\n",
        "    NumericField,\n",
        "    TagField,\n",
        "    TextField,\n",
        "    VectorField,\n",
        ")\n",
        "from redis.commands.search.indexDefinition import IndexDefinition, IndexType\n",
        "from redis.commands.search.query import Query\n",
        "\n",
        "\n",
        "INDEX_NAME = \"google:idx\"\n",
        "PREFIX = \"doc:\"\n",
        "VECTOR_FIELD_NAME = \"embedding\"\n",
        "\n",
        "# Store vectors in redis and create index\n",
        "def create_redis_index(\n",
        "    redis_client: redis.Redis,\n",
        "    id_column: str = \"id\",\n",
        "    vector_field_name: str = VECTOR_FIELD_NAME,\n",
        "    index_name: str = INDEX_NAME,\n",
        "    prefix: list = [PREFIX],\n",
        "    dim: int = VECTOR_DIMENSIONS\n",
        "  ):\n",
        "\n",
        "    # Construct index\n",
        "    try:\n",
        "        redis_client.ft(index_name).info()\n",
        "        print(\"Existing index found. Dropping and recreating the index\", flush=True)\n",
        "        redis_client.ft(index_name).dropindex(delete_documents=False)\n",
        "    except:\n",
        "        print(\"Creating new index\", flush=True)\n",
        "\n",
        "    # Create new index\n",
        "    redis_client.ft(index_name).create_index(\n",
        "        (\n",
        "            VectorField(\n",
        "                vector_field_name, \"FLAT\",\n",
        "                {\n",
        "                    \"TYPE\": \"FLOAT32\",\n",
        "                    \"DIM\": dim,\n",
        "                    \"DISTANCE_METRIC\": \"COSINE\",\n",
        "                }\n",
        "            )\n",
        "        ),\n",
        "        definition=IndexDefinition(prefix=prefix, index_type=IndexType.HASH)\n",
        "    )"
      ]
    },
    {
      "cell_type": "code",
      "source": [
        "# Create index\n",
        "create_redis_index(redis_client)"
      ],
      "metadata": {
        "colab": {
          "base_uri": "https://localhost:8080/"
        },
        "id": "n32J2XikuzpA",
        "outputId": "3b0d7594-16ce-495b-f597-763c58e79ae2"
      },
      "execution_count": 22,
      "outputs": [
        {
          "output_type": "stream",
          "name": "stdout",
          "text": [
            "Creating new index\n"
          ]
        }
      ]
    },
    {
      "cell_type": "code",
      "source": [
        "# Inspect index attributes\n",
        "redis_client.ft(INDEX_NAME).info()"
      ],
      "metadata": {
        "colab": {
          "base_uri": "https://localhost:8080/"
        },
        "id": "VOzL5qB-uzrE",
        "outputId": "6ee00793-16d5-43d9-bd3a-90c59daf50c1"
      },
      "execution_count": 23,
      "outputs": [
        {
          "output_type": "execute_result",
          "data": {
            "text/plain": [
              "{'index_name': 'google:idx',\n",
              " 'index_options': [],\n",
              " 'index_definition': [b'key_type',\n",
              "  b'HASH',\n",
              "  b'prefixes',\n",
              "  [b'doc:'],\n",
              "  b'default_score',\n",
              "  b'1'],\n",
              " 'attributes': [[b'identifier',\n",
              "   b'embedding',\n",
              "   b'attribute',\n",
              "   b'embedding',\n",
              "   b'type',\n",
              "   b'VECTOR']],\n",
              " 'num_docs': '221',\n",
              " 'max_doc_id': '221',\n",
              " 'num_terms': '0',\n",
              " 'num_records': '221',\n",
              " 'inverted_sz_mb': '0',\n",
              " 'vector_index_sz_mb': '17592186044416',\n",
              " 'total_inverted_index_blocks': '0',\n",
              " 'offset_vectors_sz_mb': '0',\n",
              " 'doc_table_size_mb': '0.016265869140625',\n",
              " 'sortable_values_size_mb': '0',\n",
              " 'key_table_size_mb': '0.0088224411010742188',\n",
              " 'records_per_doc_avg': '1',\n",
              " 'bytes_per_record_avg': '0',\n",
              " 'offsets_per_term_avg': '0',\n",
              " 'offset_bits_per_record_avg': '-nan',\n",
              " 'hash_indexing_failures': '0',\n",
              " 'indexing': '1',\n",
              " 'percent_indexed': '0.221',\n",
              " 'gc_stats': [b'bytes_collected',\n",
              "  b'0',\n",
              "  b'total_ms_run',\n",
              "  b'0',\n",
              "  b'total_cycles',\n",
              "  b'0',\n",
              "  b'average_cycle_time_ms',\n",
              "  b'-nan',\n",
              "  b'last_run_time_ms',\n",
              "  b'0',\n",
              "  b'gc_numeric_trees_missed',\n",
              "  b'0',\n",
              "  b'gc_blocks_denied',\n",
              "  b'0'],\n",
              " 'cursor_stats': [b'global_idle',\n",
              "  0,\n",
              "  b'global_total',\n",
              "  0,\n",
              "  b'index_capacity',\n",
              "  128,\n",
              "  b'index_total',\n",
              "  0]}"
            ]
          },
          "metadata": {},
          "execution_count": 23
        }
      ]
    },
    {
      "cell_type": "code",
      "source": [
        "# Retreive single HASH from Redis\n",
        "key = redis_client.keys()[1]\n",
        "redis_client.hgetall(key)"
      ],
      "metadata": {
        "colab": {
          "base_uri": "https://localhost:8080/"
        },
        "id": "4sPe1ZgQkTbX",
        "outputId": "1b98c2f9-c321-4ef0-ec21-edfccfffa3a8"
      },
      "execution_count": 24,
      "outputs": [
        {
          "output_type": "execute_result",
          "data": {
            "text/plain": [
              "{b'text': b'Honda Civic is a small family car which is manufactured by Japanese corporation called Honda. This car has gone from different generations and then becomes up market, large in size and more comfortable. In Pakistan this car is very popular and mostly peoples like buy and drive. find more information about it by visiting our website.',\n",
              " b'id': b'3347264',\n",
              " b'title': b'Honda Civic',\n",
              " b'embedding': b'F\\x02\\x15\\xbc&\\xbe?\\xbdI\\x0f\\x12=\\r\\xae\\xee\\xbb\\n\\xff\\xfc<S\\x19\\xe6\\xbc\\xe8e4=VW1=C\\xe0\\t\\xbd\\x15\\xde \\xbd5\\x04\\x85<\\x8b\\xe5$\\xbd\\x06`\\xf6;F\\xe5\\x1a=\\xbe5\\x18\\xbd\\x9a5\\'<\\x8f\\x15\\xc0\\xbdp\\xb9\\xd2\\xbbf\\x8a\\x10=\\tt\\xb1:\\xff\\x88\\xcf\\xbdz{\\xca<{?\\x90\\xbb\\xc6A\\xa0\\xbb\\xfci\\xf6\\xbc\\x889k\\xbdY\\x9f:\\xbbh_\\x13=\\xa1\\xdf\\x0b\\xbd\\x06\\xe1\\x92<\\x9b\\xa38<\\x0cD\\x11<=\\x1c\\x9a\\xbc\\xda\\xc0\\xad\\xbc\\xb3A\\x8e\\xbc-\\x16\\xd4<\\xb6\\x99\\xaa\\xbc\\xc4\\xc0\\xc5<Q`\\x86=\\xa63\\xfe<\\x0f\\xc6\\x8a<\\xe0-\\xdc\\xbc\\xd1\\r\\xa9<\\xc8\\xe0:=\\x89\\xcb1\\xbc\\x0c%\\x0c\\xb8\\xa9j\\x9b\\xbc\\x8d\\x9e\\xbf<\\x81\\xa63\\xbc\\xe0w\\xa8\\xbc \\xeb\\xf4\\xba\\xbf\\xb7\\x82;\\xeems=\\x9d\\x8dS=\\xad_\\xc8<a\\x95\\xdb\\xbaa#\\x0e\\xbd\\xc6\\x93\\x00\\xbc/\\xe1\\xaf\\xbb+\\xda=\\xbc*g\\t=\\xb0V\\x82\\xbc!\\xa5\\xd7\\xba\\xf4\\xfd\\x1f\\xbd\\xe27I<\\x14\\xd9c\\xbcjQ-\\xbd\\xef\\x03\\x9f\\xbc\\xb7\\x0f9\\xbd\\xa9\\xe8\\x16\\xbc\\xdcC\\\\8\\xa0\\xe9S\\xbc\\xf7\\x1a\\xbb\\xbc&\\x0bh\\xbc\\x95\\x8cQ=t\\xb8 =^\\xc5\\x99\\xba\\xa4\\t\\xb9\\xbb8c\\x95<\\xa2\\xa2\\x04\\xbd\\xd2\\xa8\\x15\\xbdD`\\x06\\xbd\\x96\\xedA\\xbd\\xa0\\x16\\xaf\\xbd\\xaa\\x002\\xbd}\\xf81=\\x86\\xb64=\\xc8Z\\x81;j\\xe4\\x8d\\xba\\x058\\x80=\\x82\\xe8\\xa1\\xbc\\x8b[F\\xbc\\xef\\xce\\x9c=\\xae\\x14\\xc3<\\xda\\x13t\\xbd\\xdf\\xe3u9\\xaf\\xf8\\xef\\xbc2I\\xfd\\xbc\\xd1Z\\xe8\\xbc\\xab\\xeb\\x1b\\xbb\\x1c:\\xde;8g\\xf7\\xbcmn\\'\\xbc\\xab\\x19\\xc6\\xba\\t\\xf7i=y\\xb5\\xf8\\xba_\\x1e\\xbd;$t\\x81;\\x16L\\xeb\\xbcaI~\\xbd\\xd942\\xbd\\xa5\\x9e\\xc4\\xbcrJ\\x06\\xbd\\r\\x8d\\xef<\\xef\\x89\\x00=\\xd34\\xf2\\xbbi.\\x13=\\x9bk\\xaa\\xbc5>0=-\\xc3\\x86\\xbc\\x05c\\x82\\xbd\\xdd@\\xac<G\\x90Z<^\\x84\\x06=ll\\x0c\\xbc\\x91\\xfd\\x9b<\\x94\\xcc\\x81\\xbc\\xff\\xd9\\x9d:@\\xb5\\xe3<\\x8a\\xed\\xb7;\\xf2\\x86\\xa7;\\x95\\x91\\t\\xbd\\x9d\\xc2\\x7f=\\xef\\x01\\x89\\xbdI\\xa2\\x91<\\x87\\xea\\xbb<\\x19\\xb9\\xf0<\\xc1\\xf0\\xea\\xbb\\xd5Va=0D\\xf7<M\\x84A\\xbd#aG<\\xee\\xf3\\xbe<Y\\xfdm<;\\x81\\xe5\\xbc\\xed\\xd4n\\xbc5\\xb1\\xf7;!\\x1f\\xbe\\xbc#\\xc5\\xb4\\xbd\\xefc\\x86\\xbd\\xe1P\\xae<\\xdaA+\\xbdn1\\x05\\xbd\\x8a\\xdd\\x90=Q,\\x99=[p4=rt\\xf7<\\x83~\\xb5<Nm^\\xbb\\xad4\\xc9\\xbc\\x1d\\xcf\\xd8<\\xc9:o\\xbd\\xe2iZ\\xbd\\xad\\x1d\\xd4<e\\x0cW=<\\xe7`;\\xaf2\\x17<\\xd8\\xddL\\xbc\\xb3\\xd2}\\xbcO#&=\\xae\\xba\\x91=hd\\xd5\\xbd\\x0c\\xa0\\xcd<\\xe7UA\\xbch?\\x92=\\x11\\xdee\\xbcg\\xa7\\x8b<\\x8e\\x1f\\x85\\xbc\\xe2\\xfaJ<\\x1f\\x8b8;\\x1d\\xd2\\x0c\\xbd/~\\x91\\xbdI8\\xdc\\xbc\\x82\\xb3\\x18;\\xc8?D\\xbd\\xc5\\xef\\xa5<\\xfb\\xa1\\xd3\\xbc\\x89\\xf1\\xfb\\xbc\\xfb\\x84\\x0f\\xbc\\xeaWK=\\x84x\\xf0;\\t,\\x03=J\\xb6\\x0b;)\\xd9\\x02\\xbe\\xc4\\xd9\\x17\\xbcAJ\\x8f\\xbcq$\\xe6:q$\\xba\\xbd\\xc1D\\xca\\xbb\\xecx:<.\\xd7\\x1c\\xbd\\xbf\\x07\\x92\\xbcHM\\xb2<\\x90\\xb6\\x08=}\\x8e\\xe2\\xbcp\\xa8\\x14\\xbd\\xd3\\xd5x\\xbd{\\xb2\\xc3<\\xa7\\xeb\\x95\\xbc\\xac\\xb6\\xc2\\xbaH\\xb7\\xc8<G.J\\xbb!_N=7~@\\xbc235=P7D\\xbcV\\x99\\x98<U7\\xb4\\xbd\\x88$\\r\\xbeN\\xb5\\x0b\\xbdc|\\t\\xbd\\xf9m\\xcb<\\x14H\\\\\\xbc\\x8d\\xc9\\x81<\\xc4\\x95:<\\xe1\\xb4\\xa8<\\xb84\\xbb=\\xf4\\x08\\x9f<N\\xd8\\x14=|\\xc3\\xbd<\\x91\\xb6\\x0b\\xbcj\\xe4\\xc1\\xbc\\xf0w\\xc5\\xbc\\x9d}V\\xbdu\\t\\x19=W\\xca\\x81=\\xb4mK\\xbcx\\xbe\\xb4<c\\x1d\\xd3\\xbc\\xe6\\x019\\xbc\\x85\\xda\\xd6:n\\xad(=\\xa6\\x7f\\x04\\xbd\\xa8,\\x1a=(\\xa0\\x06\\xbd\\xe2G$=\\x91\\x18Q\\xbcR]\\x8d=\\x06$\\x8e=\\xcf\\xa0\\xdf\\xbc\\x0c@\\xd0<\\xa2Y\\xbe\\xbc\\xb6\\xcf\\xb3<9\\xe1\\x1c<\\x0eoh=\\xbf\\xea\\xb2<\\x05\\xa2%<\\xbd\\x03C=\\xeaI2\\xbc\\xeck\\xe9<q\\x87\\x0f\\xbd\\xd8\\x9aO\\xbc\\xf7\\xeb\\xee\\xbc\\xe5\\xb6\\x18>\\xbe\\x8a\\x1d\\xbd?+\\xf0\\xbc\\x90\\x85\\xff\\xbd\\xb9\\xbe\\x97\\xbbP\\xf8p=\\x07\\x7f\\xd3:\\\\\\xed\\x10\\xbd\\xf1\\xc63\\xbd\\xe3\\xd7\\xa1\\xbb\\xa0g\\x8b<@]\\xb9\\xbb\\xaf\\xd1\\x8c<\\xc4\\x0c\\x87\\xbc\\xa2Z\\xdc<7T\\x06;\\xc6\\xbd\\t=\\xed\\x88\\xeb\\xbbvr\\x95<\\xf8@\\xf2<kX\\x9e=\\x07>?=lN[<\\x80\\xe7\\x8a<\\x82qg\\xba\\xb3\\xe1\\xac\\xbc\\xda\\xf9)\\xbc(i\\xa4=\\tYH=}\\x7fk\\xbcR\\xe3\\x04=\\xd0:\\x1d<\\xba\\xfd\\x1c\\xbde\\xe7\\x1d=\\x85\\xfe%<\\xb9\\xa0?\\xbdw\\xee`=\\xddX\\x96\\xbc\\xe6E\\xb4\\xbc\\xbfg\\xb9\\xbc\\x16?\\x80\\xbc\\x9e\\x86\\\\\\xbd\\xb9&\\xef:\\xcf\\x0e]\\xbc\\xf5\\x035;\\x8b\\xf0\\x88=P\\x8e\\x06\\xbc$j0\\xbb\\xff\\x96\\xc3\\xbcz.\\x16=Ov\\xf5<\\x98\\xda3\\xbb{\\xcc\\xa5\\xba*E\\xc7;\"H\\xe3\\xbbF\\xae\\xa0\\xbd\\xdax\\x9c=\\x13:\\x1d\\xbdd,0=]\\x0c\\x00>\\xc8\\x17\\xfc\\xbbz8`\\xbcu \\x9e\\xbb\\r\\x85\\x81:\\x8e\\x80\\x9b\\xbb\\t+g=\\xf9\\xbe\\x8d\\xbd\\x06\\x9dD\\xbd\\xaf\\xa0T<\\xe2\\xd7B\\xbd\\x0e\\xa5\\xcd;\\xd0\\xf5\"\\xbd8\\xcc\\xef<\\xdb%\\xa2\\xbc\"\\xf8Q\\xbb\\xfb \\x84\\xbc\\x8d\\x12\\x9b\\xbdf\\x92\\x06=\\xbe\\xe1\\x0f<\\x10\\xafv\\xbb\\x1fO\\x15\\xbd\\xee>I\\xbd\\xc9\\x95H=\\x9ftw<\\x19\\xb0\\x03\\xbd\\xd8\\xcc\\xc6\\xbc1\\x1cB\\xbdk\\xf1\\x9a\\xbaWm\\xa9;\\xc6\\x8b\\xd7;\\xf4\\xcb\\xf5<=\\xc3\\x80=\\x8e\\x8a\\xcc\\xbct\\xf91<1\\xd9\\x98<\\x17\\xb20=\\xe4x\\x03=f\\x9b\\xb0\\xbc\\x94\\xcc(:\\x9e\\xe5Z\\xbd\\x03{\\xbe<XiV=C\\xbf\\x84<U\\x9du\\xbdgH\\x1f\\xbbB\\xba%=\\xae\\x03-<\\x12\\xd0\\x8d<\\x1c\\xc1^\\xbdXw&=\\xb7\\x1eT\\xbc\\xf0q\\x81\\xbd8z\\x82\\xbc\\xbf\\x0cJ<I\\xafF<\\xbd\\xd6\\x06\\xbc.\"-\\xbbiL\\x9b\\xbc\\x11\\xc8\\xb4<\\xc3\\x04\\xd4\\xbc\\xf3DW<+\\xc1\\x80\\xbbi\\x02\\x90<Tm\\xfa\\xbc\\xd0\\x95O=\\x96\\x0b\\xf4;\\x03.\\xf5\\xbcN\\xad\\x14\\xbc\\xe6\\xcf\\xd4<\\x80[I<m\\x8f\\x07\\xbb\\xfd\\\\_\\xbc\\xf9\\xd2a=\\xc8\\xfc\\x88\\xbc\\x0c\\xa7\\x8e\\xbc\\xbcr\\x99\\xbb_\\xdf\\'\\xbcU\\x87\\xfe<!9\\xd5<\\x13\\x1e2\\xbd\\xbc\\xebg\\xbd\\xdaCc\\xbc\\xc3\\xd8W<\\xcb\\x93\\xbf<I\\xa19=|\\xf8 =\\xa8\\xfd}\\xbc]\\xf3\\x9b:\\xd0\\x1b\\xf0\\xbc\\x034\\xcb\\xbbr\\xfe=\\xbc\\xd9D5\\xbc\\r \\x17\\xbd\\x91$2=@`\\xb4\\xbc\\xe3\\x16\\x9d<I\\xdb\\xa6\\xbc[\\x86\\xfa<\\xcfm\\xd5\\xbc\\xb3\\x8aE\\xbd\\xc6\\xf5\\\\;\\xf1\\xfb\\xcf<\\x9azG=\\xe8`\\xca\\xbd\\xe8b\\x13=C\\x13P\\xbdsy\\xc8\\xbcy7\\xc6<E\\xc4<\\xbcB.\\xd5<se\\xf2\\xbcb\\x05\\x0e\\xbd\\xf6;\\x13\\xbd\\x80\\xc3\\xd7=\\xe9<\\x89=\\x04\\x0co<\\x0e&\\xcf\\xbc\\x8e\\xd1\\x9a\\xbc\\x91/\\x1f\\xbb\\xb16\\x8f\\xbc8\\xd2\\x18=\\xd3\\xe3i<;\\xe5\\xcb\\xbaC=\\'\\xbd\\xe0\\xeb\\x82\\xbd#\\x08\\x83\\xbd\\xe6xi\\xbc\\xb7\\xeaM\\xbd}\\xb9\\xac\\xbc\\xaa\\xad\\x04<\\xb5\\x17\\xc4=\"\\x93K=\\xd4\\x8c\\x13=\\xd2\\x07\\x19<\\xd3\\xb5\\xf5\\xbc\\xdd<\\x01\\xbd\\xf0\\xf3\\xc0<\\xd0\\xbe6\\xbd\\x87X6\\xbd\\x81\\xf4\\xb8<G\\x8d\\x99<\\x9c\\x02?\\xbd\\xf24\\x15\\xbd\\xf8/\\x16=\\x13\\xbb\\x97<@,*=\\x1ca\\xc4<|\"\\'\\xbcQ\\x1ft=V\\x19q<\\x0c5\\r\\xbcPs\\xd1<\\x03\\x03\\xb7<\\x02\\xa3g=:*+=\\xd2]\\xd9\\xbc\\xd1`\\x81\\xbb!?\\xae\\xbct\\xcbP\\xbd\\xfc\\x0f\\x8f<0\\x96\\x97\\xbcu\\xfe\\xa0<\\xac\\xb6\\xbc<\\x94Oq<\\xa3\\xff\\xec\\xbb<\\x8c\\x00=\\xb4>\\xa8<\\x19lc=<e\\x17\\xbd\\xbe\\x12\\x94\\xbbY\\xfc\\x8e\\xbc1Nn<\\xef\\xb5v\\xbc\\xf9\\xf6R<\\x08\\x08$<5\\xf4\\xb8<:J =\\t\\xc0\\xf8<\\xac\\x1d\\x0f\\xbd\\xd4N\\x06=\\x0e\\xd4\\xc0<\\x0e\\xef\\xc6\\xbc.\\xca\\xd1<\\xe1\\x9c\\xa0<e+\\x10\\xbd\\xea\\x93v\\xbd3]\\x1c=\\x9390\\xbcT\\xbb\\x02=\\xab\\x04\\xda<\\xbf\\x8b\\x82\\xbd;\\xa9\\xa6;\\x95\\xcf\\xa0\\xbdJwQ\\xbb\\xb4\\xe8\\t=\\xd6<\\xa7<\\xce\\x1dT\\xbd\\xba\\x10#;D\\x8b\\xcc;R\\xf8\\xe0\\xbb\\'3\\xda<\\xbe\\xfe\\x1d=<\\x94\\x9a=\\xfa*\\xfc<?\\xf6\\xc6<\\xb5\\xa7\"\\xbdR\\xbb\\xd6;/1\\x8f\\xba\\xc9\\xaf/\\xbd\\xd9\\x8e\\x11\\xbdN]\\xcc\\xbc,\\xa2\\xb7<\\xbf\\x143\\xbd\\x84\\x7f;=\\x1b\\x0c\\x96\\xbcww)=\\xe2Y\\x99=\\x04\\xb1X\\xb9d\\xff\\xfa\\xbc\\xcc;z=\\xc3\\xfa\\x80<\\xf8D\\x11\\xbd\\x01l\\xb1<Y\\xd9\\xd7<\\xef\\xf2\\x03\\xbc\\x90\\xa7\\xbe<\\xa4\\x1c*=H\\xfd\\x85<,\\x895\\xbdJ\\xf0\\x01\\xbd\\x0c\\xf3\\x94=n#\\x84=\\xce\\xc8S\\xbb_\\x00\\x18\\xbc\\xc3\\x11\\xda\\xbcRB[\\xbd\\x14\\xa2P\\xbd\\x96\\xe5\\x86\\xbc\\xb6^\\xf4\\xbc/\\xb2N\\xbc\\xb5\\xeb\\x80\\xba$Xk=d\\x0c\\xaa\\xbdZh&\\xbc\\xd3fa\\xbb\\xce\\x0f\\x12\\xbdC\\xfe}=\\xdd\\x98\\x81\\xbcFy\\x10\\xbd,\\xe6\\xd4\\xbc\\xa9I\\x80=\\xf6|\\x02=\\xe2\\xce+\\xbc\\xd4zR\\xbd%K\\x87=*\\x8b\\x15<\\x97\\xa7\\xbe\\xbc=\\xeb\\x85\\xbd\\x0f\\x9d\\x84:\\xdb\\x1dT:\\xd6Y\\x1e=\\x9b\\xeb\\xfb\\xbc\\xe1k<\\xbdM\\x0c\\x9f<M\\xbc\\x02\\xbc\\x16\\xb6<\\xbc\\xfa\\x9a4\\xbd\\xc6\\x186\\xbd\\x9d,u\\xbdu#g\\xbczk+\\xbbqr\\xe3\\xbc~?\\x19\\xbdL\\xd2\\x12;\\x110y;\\xc2\\xc1\\x1e<\\xaa\\xb1\\xa1<\\n\\x94;\\xbc\\xd2\\xecE\\xbdw^C=\\xc4|\\r\\xbdb\\xc8\\x10=\\xc8u\\xce<\\x11\\x02\\x8b<p\\x17N\\xbc\\xf6P\\r<e\\xc1v\\xbc\\xf4+\\x0e=\\x1a\\x9c\\x1a=Zu\\x90<\\xb9;\\xa4\\xbaC\\xb7\\xbb\\xbc\\xfbhm\\xbc<\\xdc\\xaf\\xbcY\\xa3\\xfb<\\x1f\\x0c\\xe3\\xbb\\xda\\xa4\\x9b<\\x8b\\xe3\\x8a<\\xf0\\xaao= \\xda\\xe2<\\xb8\\x03\\t\\xbd\\xee?\\xc4\\xbad\\xca\\x7f\\xbbpea=j\\xd8!=A\\xecU;H\\x1f^\\xbd\\xbf)\\xb2;V\\xea\\xde\\xbc[\\xf3@<P\\x17p\\xbd\\xc7\\xfc\\xce:\\xd1_R<\\xe1\\xc9w<\\xe1\\xf9\\x19\\xbd\\x01K5=!\\x01\\xe3\\xbb\\x1b\\x9e3=w/\\xdc<\\xdf\\x08\\xd7:v3\\x0b<\\x81x\\x14\\xbc\\x8c\\x80O\\xbc\\xb7$\\x0b\\xbdt\\xffx:\\xd4*\\x05=\\xb7;\\x87\\xbc\\xe7\\xc9\\x07;\\x87\\xa2\\xc9\\xbc\\xef\\x89B\\xbdX8\\x05\\xbct\\xa5p\\xbc\\xd1X1<\\xfeHN\\xbc\\xc4a\\x12\\xbd\\x87\\xb1\\x97\\xba\\x86\\xd6\\xdd<m>\\x07=\\x8e\\x0b\\x08\\xbc\\x12b\\x0f=m\\xb0\\r=\\xf5j\\xd1\\xbde\\xce\\xa3<w\\x18\\xd2<\\x91\\xc6\\x03=\\xf1\\xa0;=\\x02\\xac\\x0f\\xbdd\\xd6\\x9d\\xbc\\x1d\\x9e/<\\r\\x8b\\xae;?O\\x06<\\x0e\\xc1\\xc1\\xbbS\\x8e\\x8e=\\xa9c\\xcc\\xbb0\\xf2v;\\xe8c\\x97<.\\'\\xa2<\\xa4e,<\\xe83_\\xbd\\xc1.2\\xbc\\xc8\\xfa\\x1c\\xbdO\\xec\\x9d<+\\xaa/\\xbdu\\x1eK\\xbdP\\xd9\\xf2<\\xf3\\xee\\xcf\\xbcrj\\xce\\xbcY\\x12\\x1e<\\xc2^\\xba\\xbb\\x94\\x97\\xfc\\xbc\\xdf\\xcf\\x9c\\xbb\\xc0\\x19M<\\xbf\\x0b\\x07\\xbd\\xf6\\xc0\\x1f\\xbdf\\x0bB<\\x83\\xdc\\x80\\xbc\\x1d\\xe2\\xa1\\xbb\\xcf^\\xa2<\\xf1!\\xe9<\\x8f\\xc49=\\x7f\\'\\x07=sv\\xc8;\\x08\\xf3@\\xbdN{Q\\xbd\\xcb\\xcc\\x0b=lUC\\xbd2\\xbb\"\\xbd\\x0c\"\\xe6<\\xb2\\x1c\\xb0;\\x8f\\xb9\\xdb<\\xd5\\xe65=<F=\\xbd\\xe9(\\x9b=\\xbd\\xd2\\xa6\\xbc\\xbe\\xec\\x02=\\xf8\\xda\\x0e9\\x0b\\x81*=4\\x84\\xa3\\xbcZ\\x92\\xb4<\\x98\\x192;%B\\x93\\xbdo\\xdb \\xbd\\xa3\\xe6\\xea\\xbc-g\\x13\\xbd\\x97\\xf2\\xf5\\xbb\\x83\\xe3\\x81\\xbc\\xc2\\x16\"=;EP\\xbc\\xb3<Q\\xbb\\x99\\xfbc=<>\\r=Xp\\xf9\\xbb\\xc5M\\x8c\\xbc\\x1e\\xd5D=\\x1e\\xfa\\xa7\\xbb\\xbe\\xaa\\x9f=\\xeb\\x95`\\xbd\\x8c\"\\x80\\xbc\\x839\\x19=a\\xb0\\xf0\\xbb\\xd9\\x0f\\xd1<\\xdfdZ<\\x0f\\xda\\xca<\\x1ej5<\\xa6H\\x15\\xbdo[\\x95\\xbc\\xd6\\x9d\\xf9;w\\x0c\\xaa\\xbd\\x16\\xef\\xcd\\xbaF\\xd6\\x03=\\xd2\\x14\"<\\xba\\x8a\\x89\\xbc\\x8a\\xd6\\xa8=\\xdf\\xa7\\xdf<\\xc9\\xe3d=A\\xbeH<\\xca\\xb6z=\\x8c\\x04\\x18=\\xfe{*=\\xcd\\xbb\\x00<\\xb4\\xcf\\x1b\\xbd\\xe3]\\xc6<\\x90\\xb6w\\xbc@\\x02\\xf5\\xbc\\xa4TI\\xbc'}"
            ]
          },
          "metadata": {},
          "execution_count": 24
        }
      ]
    },
    {
      "cell_type": "markdown",
      "source": [
        "At this point, our **Redis** datastore is completely loaded with a subset of data from **BigQuery** including text embeddings created with **Vertex AI** PaLM APIs."
      ],
      "metadata": {
        "id": "G6CmHY3-6wB1"
      }
    },
    {
      "cell_type": "markdown",
      "source": [
        "## 3. Build LLM applications\n",
        "With Redis fully loaded as a vector database and powerful PaLM APIs at our disposal, we can build a number of sample LLM applications including:.\n",
        "\n",
        "- **Simple Semantic Search**\n",
        "- **RAG** (Retrieval Augmented Generation)\n",
        "\n",
        "We will also highlight two important use cases for leveraging Redis within production LLM apps.\n",
        "\n",
        "- **Caching**\n",
        "- **Memory**"
      ],
      "metadata": {
        "id": "82-AbKHxItif"
      }
    },
    {
      "cell_type": "markdown",
      "source": [
        "### Simple Semantic Search\n",
        "\n",
        "\n",
        "**Semantic Search**, in the context of Large Language Models (LLMs) and end-user applications, is a sophisticated search technique that goes beyond *literal* keyword matching to understand the contextual meaning and intent behind user queries. Leveraging the power of Google's Vertex AI platform and Redis' vector database capabilities, semantic search can map and extract deep-level knowledge from vast text datasets, including nuanced relationships and hidden patterns.\n",
        "\n",
        "This allows applications to return results that are contextually relevant, enhancing user experience by offering meaningful responses, even to complex or ambiguous search terms. Thus, semantic search not only boosts the accuracy and relevancy of search results but also empowers applications to interact with users in a more human-like, intuitive manner."
      ],
      "metadata": {
        "id": "Tm0c981Q7e5k"
      }
    },
    {
      "cell_type": "code",
      "source": [
        "query = \"What is the best computer operating system for software dev?\"\n",
        "query_vector = embed_text([query])[0]"
      ],
      "metadata": {
        "id": "a6BsbxUG7kVc"
      },
      "execution_count": 26,
      "outputs": []
    },
    {
      "cell_type": "code",
      "source": [
        "# Our query has been converted to a list of floats (this is a truncated view)\n",
        "query_vector[:10]"
      ],
      "metadata": {
        "colab": {
          "base_uri": "https://localhost:8080/"
        },
        "id": "c_S8qyWP7kXi",
        "outputId": "ef933809-48a2-4294-f126-69cfe2ec4c40"
      },
      "execution_count": 27,
      "outputs": [
        {
          "output_type": "execute_result",
          "data": {
            "text/plain": [
              "[0.019742609933018684,\n",
              " -0.006285817362368107,\n",
              " 0.057011738419532776,\n",
              " 0.0630318894982338,\n",
              " 0.019907860085368156,\n",
              " -0.045217469334602356,\n",
              " 0.0657828152179718,\n",
              " 0.027572786435484886,\n",
              " -0.056532640010118484,\n",
              " 0.003752157324925065]"
            ]
          },
          "metadata": {},
          "execution_count": 27
        }
      ]
    },
    {
      "cell_type": "code",
      "source": [
        "# Helper method to perform KNN similarity search in Redis\n",
        "def similarity_search(query: str, k: int) -> list:\n",
        "  query_vector = embed_text([query])[0]\n",
        "  redis_query = (\n",
        "      Query(f\"*=>[KNN {k} @{VECTOR_FIELD_NAME} $embedding AS score]\")\n",
        "          .sort_by(\"score\")\n",
        "          .return_fields(\"score\", \"title\", \"text\")\n",
        "          .paging(0, k)\n",
        "          .dialect(2)\n",
        "  )\n",
        "\n",
        "  results = redis_client.ft(INDEX_NAME).search(\n",
        "      redis_query, query_params={\"embedding\": convert_embedding(query_vector)}\n",
        "  )\n",
        "\n",
        "  return pd.DataFrame([t.__dict__ for t in results.docs ]).drop(columns=[\"payload\"])\n"
      ],
      "metadata": {
        "id": "zmma7Cjd7kZ9"
      },
      "execution_count": 2,
      "outputs": []
    },
    {
      "cell_type": "code",
      "source": [
        "# Test it out!\n",
        "\n",
        "results = similarity_search(query, k=5)\n",
        "\n",
        "display(results)"
      ],
      "metadata": {
        "colab": {
          "base_uri": "https://localhost:8080/",
          "height": 206
        },
        "id": "wIaYNgNxA4D1",
        "outputId": "bb1e7c0c-dc6e-42e7-95aa-7e60047653d7"
      },
      "execution_count": 29,
      "outputs": [
        {
          "output_type": "display_data",
          "data": {
            "text/plain": [
              "             id           score  \\\n",
              "0  doc:23429219  0.276380896568   \n",
              "1  doc:14396292  0.326441407204   \n",
              "2   doc:9320563  0.329460144043   \n",
              "3  doc:24626052  0.332834243774   \n",
              "4   doc:6132351  0.345210790634   \n",
              "\n",
              "                                               title  \\\n",
              "0  Ask HN: Laptop and OS setup for total web deve...   \n",
              "1     Ask HN: Recommend me a linux compatible laptop   \n",
              "2  Ask HN: Best server setup for running machine ...   \n",
              "3  What is the best accounting software for a sma...   \n",
              "4  Ask HN: Software Stack for WebApp Python vs. R...   \n",
              "\n",
              "                                                text  \n",
              "0  As a web developer I was handed a MacBook a co...  \n",
              "1  Looking for a new laptop. I do full stack deve...  \n",
              "2  I&#x27;m into applying machine learning for la...  \n",
              "3  I just stumblupon this topic, so like to ask y...  \n",
              "4  I have been seriously out of the hard core tec...  "
            ],
            "text/html": [
              "\n",
              "  <div id=\"df-87e9be7c-c964-4ca5-957a-1db279c3bf6c\">\n",
              "    <div class=\"colab-df-container\">\n",
              "      <div>\n",
              "<style scoped>\n",
              "    .dataframe tbody tr th:only-of-type {\n",
              "        vertical-align: middle;\n",
              "    }\n",
              "\n",
              "    .dataframe tbody tr th {\n",
              "        vertical-align: top;\n",
              "    }\n",
              "\n",
              "    .dataframe thead th {\n",
              "        text-align: right;\n",
              "    }\n",
              "</style>\n",
              "<table border=\"1\" class=\"dataframe\">\n",
              "  <thead>\n",
              "    <tr style=\"text-align: right;\">\n",
              "      <th></th>\n",
              "      <th>id</th>\n",
              "      <th>score</th>\n",
              "      <th>title</th>\n",
              "      <th>text</th>\n",
              "    </tr>\n",
              "  </thead>\n",
              "  <tbody>\n",
              "    <tr>\n",
              "      <th>0</th>\n",
              "      <td>doc:23429219</td>\n",
              "      <td>0.276380896568</td>\n",
              "      <td>Ask HN: Laptop and OS setup for total web deve...</td>\n",
              "      <td>As a web developer I was handed a MacBook a co...</td>\n",
              "    </tr>\n",
              "    <tr>\n",
              "      <th>1</th>\n",
              "      <td>doc:14396292</td>\n",
              "      <td>0.326441407204</td>\n",
              "      <td>Ask HN: Recommend me a linux compatible laptop</td>\n",
              "      <td>Looking for a new laptop. I do full stack deve...</td>\n",
              "    </tr>\n",
              "    <tr>\n",
              "      <th>2</th>\n",
              "      <td>doc:9320563</td>\n",
              "      <td>0.329460144043</td>\n",
              "      <td>Ask HN: Best server setup for running machine ...</td>\n",
              "      <td>I&amp;#x27;m into applying machine learning for la...</td>\n",
              "    </tr>\n",
              "    <tr>\n",
              "      <th>3</th>\n",
              "      <td>doc:24626052</td>\n",
              "      <td>0.332834243774</td>\n",
              "      <td>What is the best accounting software for a sma...</td>\n",
              "      <td>I just stumblupon this topic, so like to ask y...</td>\n",
              "    </tr>\n",
              "    <tr>\n",
              "      <th>4</th>\n",
              "      <td>doc:6132351</td>\n",
              "      <td>0.345210790634</td>\n",
              "      <td>Ask HN: Software Stack for WebApp Python vs. R...</td>\n",
              "      <td>I have been seriously out of the hard core tec...</td>\n",
              "    </tr>\n",
              "  </tbody>\n",
              "</table>\n",
              "</div>\n",
              "      <button class=\"colab-df-convert\" onclick=\"convertToInteractive('df-87e9be7c-c964-4ca5-957a-1db279c3bf6c')\"\n",
              "              title=\"Convert this dataframe to an interactive table.\"\n",
              "              style=\"display:none;\">\n",
              "        \n",
              "  <svg xmlns=\"http://www.w3.org/2000/svg\" height=\"24px\"viewBox=\"0 0 24 24\"\n",
              "       width=\"24px\">\n",
              "    <path d=\"M0 0h24v24H0V0z\" fill=\"none\"/>\n",
              "    <path d=\"M18.56 5.44l.94 2.06.94-2.06 2.06-.94-2.06-.94-.94-2.06-.94 2.06-2.06.94zm-11 1L8.5 8.5l.94-2.06 2.06-.94-2.06-.94L8.5 2.5l-.94 2.06-2.06.94zm10 10l.94 2.06.94-2.06 2.06-.94-2.06-.94-.94-2.06-.94 2.06-2.06.94z\"/><path d=\"M17.41 7.96l-1.37-1.37c-.4-.4-.92-.59-1.43-.59-.52 0-1.04.2-1.43.59L10.3 9.45l-7.72 7.72c-.78.78-.78 2.05 0 2.83L4 21.41c.39.39.9.59 1.41.59.51 0 1.02-.2 1.41-.59l7.78-7.78 2.81-2.81c.8-.78.8-2.07 0-2.86zM5.41 20L4 18.59l7.72-7.72 1.47 1.35L5.41 20z\"/>\n",
              "  </svg>\n",
              "      </button>\n",
              "      \n",
              "  <style>\n",
              "    .colab-df-container {\n",
              "      display:flex;\n",
              "      flex-wrap:wrap;\n",
              "      gap: 12px;\n",
              "    }\n",
              "\n",
              "    .colab-df-convert {\n",
              "      background-color: #E8F0FE;\n",
              "      border: none;\n",
              "      border-radius: 50%;\n",
              "      cursor: pointer;\n",
              "      display: none;\n",
              "      fill: #1967D2;\n",
              "      height: 32px;\n",
              "      padding: 0 0 0 0;\n",
              "      width: 32px;\n",
              "    }\n",
              "\n",
              "    .colab-df-convert:hover {\n",
              "      background-color: #E2EBFA;\n",
              "      box-shadow: 0px 1px 2px rgba(60, 64, 67, 0.3), 0px 1px 3px 1px rgba(60, 64, 67, 0.15);\n",
              "      fill: #174EA6;\n",
              "    }\n",
              "\n",
              "    [theme=dark] .colab-df-convert {\n",
              "      background-color: #3B4455;\n",
              "      fill: #D2E3FC;\n",
              "    }\n",
              "\n",
              "    [theme=dark] .colab-df-convert:hover {\n",
              "      background-color: #434B5C;\n",
              "      box-shadow: 0px 1px 3px 1px rgba(0, 0, 0, 0.15);\n",
              "      filter: drop-shadow(0px 1px 2px rgba(0, 0, 0, 0.3));\n",
              "      fill: #FFFFFF;\n",
              "    }\n",
              "  </style>\n",
              "\n",
              "      <script>\n",
              "        const buttonEl =\n",
              "          document.querySelector('#df-87e9be7c-c964-4ca5-957a-1db279c3bf6c button.colab-df-convert');\n",
              "        buttonEl.style.display =\n",
              "          google.colab.kernel.accessAllowed ? 'block' : 'none';\n",
              "\n",
              "        async function convertToInteractive(key) {\n",
              "          const element = document.querySelector('#df-87e9be7c-c964-4ca5-957a-1db279c3bf6c');\n",
              "          const dataTable =\n",
              "            await google.colab.kernel.invokeFunction('convertToInteractive',\n",
              "                                                     [key], {});\n",
              "          if (!dataTable) return;\n",
              "\n",
              "          const docLinkHtml = 'Like what you see? Visit the ' +\n",
              "            '<a target=\"_blank\" href=https://colab.research.google.com/notebooks/data_table.ipynb>data table notebook</a>'\n",
              "            + ' to learn more about interactive tables.';\n",
              "          element.innerHTML = '';\n",
              "          dataTable['output_type'] = 'display_data';\n",
              "          await google.colab.output.renderOutput(dataTable, element);\n",
              "          const docLink = document.createElement('div');\n",
              "          docLink.innerHTML = docLinkHtml;\n",
              "          element.appendChild(docLink);\n",
              "        }\n",
              "      </script>\n",
              "    </div>\n",
              "  </div>\n",
              "  "
            ]
          },
          "metadata": {}
        }
      ]
    },
    {
      "cell_type": "markdown",
      "source": [
        "Results above indicate that our search for recommended operating systems for software devs yielded some posts from Hacker News that might be helpful in answering this question.\n",
        "\n",
        "**Interested in tuning the search results?**\n",
        "- Try using a different [Distance Metric](https://redis.io/docs/interact/search-and-query/search/vectors/#creation-attributes-per-algorithm)\n",
        "- Try using a different [Index Type](https://redis.io/docs/interact/search-and-query/search/vectors/#flat)"
      ],
      "metadata": {
        "id": "IH04U3ls9Pes"
      }
    },
    {
      "cell_type": "markdown",
      "source": [
        "### Retrieval Augmented Generation (RAG)\n",
        "\n",
        "**Retrieval Augmented Generation** (RAG), within the scope of Large Language Models (LLMs), is a technique that combines the knowledge of domain-specific data and generative methods to enhance the production of contextually-rich question responses. In essence, RAG functions by retrieving relevant information from a knowledge base of documents or data before proceeding to generate a response. It exploits the strengths of Redis as a low latency vector database for efficient retrieval operations and Google's Vertex AI to generate a coherent and relevant text response. In LLM applications, RAG thus enables a deeper comprehension of context, returning highly nuanced responses, even to intricate queries. This approach enhances the interactive capability of applications, delivering more precise and informative responses, thereby significantly enriching the user experience.\n"
      ],
      "metadata": {
        "id": "OKFktSvG9sgN"
      }
    },
    {
      "cell_type": "markdown",
      "source": [
        "In order to build a RAG pipeline for question answering, we need to use Vertex PaLM API for text generation (`text-bison@001`)."
      ],
      "metadata": {
        "id": "DoZpAD8mFQjW"
      }
    },
    {
      "cell_type": "code",
      "source": [
        "from vertexai.preview.language_models import TextGenerationModel\n",
        "\n",
        "# Define generation model\n",
        "generation_model = TextGenerationModel.from_pretrained(\"text-bison@001\")\n",
        "\n",
        "simple_prompt = \"What is a large language model?\"\n",
        "response = generation_model.predict(prompt=simple_prompt)\n",
        "\n",
        "print(response.text)\n"
      ],
      "metadata": {
        "colab": {
          "base_uri": "https://localhost:8080/",
          "height": 394
        },
        "id": "EVwj7o5lFKy2",
        "outputId": "b24ed93d-eee4-4f85-b4e3-df804b5a260e"
      },
      "execution_count": 1,
      "outputs": [
        {
          "output_type": "error",
          "ename": "ModuleNotFoundError",
          "evalue": "ignored",
          "traceback": [
            "\u001b[0;31m---------------------------------------------------------------------------\u001b[0m",
            "\u001b[0;31mModuleNotFoundError\u001b[0m                       Traceback (most recent call last)",
            "\u001b[0;32m<ipython-input-1-01180c588eae>\u001b[0m in \u001b[0;36m<cell line: 1>\u001b[0;34m()\u001b[0m\n\u001b[0;32m----> 1\u001b[0;31m \u001b[0;32mfrom\u001b[0m \u001b[0mvertexai\u001b[0m\u001b[0;34m.\u001b[0m\u001b[0mpreview\u001b[0m\u001b[0;34m.\u001b[0m\u001b[0mlanguage_models\u001b[0m \u001b[0;32mimport\u001b[0m \u001b[0mTextGenerationModel\u001b[0m\u001b[0;34m\u001b[0m\u001b[0;34m\u001b[0m\u001b[0m\n\u001b[0m\u001b[1;32m      2\u001b[0m \u001b[0;34m\u001b[0m\u001b[0m\n\u001b[1;32m      3\u001b[0m \u001b[0;31m# Define generation model\u001b[0m\u001b[0;34m\u001b[0m\u001b[0;34m\u001b[0m\u001b[0m\n\u001b[1;32m      4\u001b[0m \u001b[0mgeneration_model\u001b[0m \u001b[0;34m=\u001b[0m \u001b[0mTextGenerationModel\u001b[0m\u001b[0;34m.\u001b[0m\u001b[0mfrom_pretrained\u001b[0m\u001b[0;34m(\u001b[0m\u001b[0;34m\"text-bison@001\"\u001b[0m\u001b[0;34m)\u001b[0m\u001b[0;34m\u001b[0m\u001b[0;34m\u001b[0m\u001b[0m\n\u001b[1;32m      5\u001b[0m \u001b[0;34m\u001b[0m\u001b[0m\n",
            "\u001b[0;31mModuleNotFoundError\u001b[0m: No module named 'vertexai'",
            "",
            "\u001b[0;31m---------------------------------------------------------------------------\u001b[0;32m\nNOTE: If your import is failing due to a missing package, you can\nmanually install dependencies using either !pip or !apt.\n\nTo view examples of installing some common dependencies, click the\n\"Open Examples\" button below.\n\u001b[0;31m---------------------------------------------------------------------------\u001b[0m\n"
          ],
          "errorDetails": {
            "actions": [
              {
                "action": "open_url",
                "actionText": "Open Examples",
                "url": "/notebooks/snippets/importing_libraries.ipynb"
              }
            ]
          }
        }
      ]
    },
    {
      "cell_type": "markdown",
      "source": [
        "In order to be able to answer questions referencing domain-specific sources (like our sample hackernews dataset), we must build a RAG pipeline:\n",
        "\n",
        "1. This technique requires we perform **Semantic Search** with the user query on the knowledge base (stored in Redis) to find relevant sources that will help the language model answer or respond intelligently.\n",
        "\n",
        "2. The sources (called context) are \"stuffed\" into the prompt (input).\n",
        "\n",
        "3. Lastly, the full prompt is passed on to the language model for text generation."
      ],
      "metadata": {
        "id": "-YqvgImdFiAz"
      }
    },
    {
      "cell_type": "code",
      "source": [
        "def rag(query: str, prompt: str) -> str:\n",
        "    \"\"\"\n",
        "    Simple pipeline for performing retrieval augmented generation with\n",
        "    Google Vertex PaLM API and Redis Enterprise.\n",
        "    \"\"\"\n",
        "    # Perform a vector similarity search in Redis\n",
        "    print(\"Pulling relevant data sources from Redis\", flush=True)\n",
        "    relevant_sources = similarity_search(query, k=3)\n",
        "    print(\"Relevant sources found!\", flush=True)\n",
        "    full_prompt = prompt.format(sources=relevant_sources.text, query=query)\n",
        "    print(\"Full prompt:\", full_prompt, flush=True)\n",
        "    return full_prompt\n",
        "    #response = generation_model.predict(prompt=full_prompt)\n",
        "    #return response.text\n",
        "\n"
      ],
      "metadata": {
        "id": "NbMbVRgLGJbt"
      },
      "execution_count": null,
      "outputs": []
    },
    {
      "cell_type": "markdown",
      "source": [
        "Below is an example prompt. Feel free to edit and tweak the initial sentence that sets the context for the language model to perform the action we are anticipating. The process of tuning and iterating on prompt design is widely refered to as \"*prompt engineering*\"."
      ],
      "metadata": {
        "id": "rHrLLAQcH5_e"
      }
    },
    {
      "cell_type": "code",
      "source": [
        "prompt = \"\"\"Your are a helpful technology and IT assistant. Use the relevant content and sources in the hacker news posts below to answer the following user question.\n",
        "\n",
        "SOURCES:\n",
        "{sources}\n",
        "\n",
        "QUESTION:\n",
        "{query}?\n",
        "\n",
        "ANSWER:\"\"\"\n",
        "\n"
      ],
      "metadata": {
        "id": "dXP_pzQ0BJl_"
      },
      "execution_count": null,
      "outputs": []
    },
    {
      "cell_type": "code",
      "source": [
        "response = rag(query=\"\", prompt=prompt)"
      ],
      "metadata": {
        "id": "g3iuL5eb9Wsm"
      },
      "execution_count": null,
      "outputs": []
    },
    {
      "cell_type": "code",
      "source": [],
      "metadata": {
        "id": "sw54rApL9XHt"
      },
      "execution_count": null,
      "outputs": []
    },
    {
      "cell_type": "markdown",
      "source": [
        "### LLM Caching\n",
        "\n",
        "**LLM Caching** is an advanced strategy used to optimize the performance of Large Language Model (LLM) applications. Utilizing the ultra-fast, in-memory data store of Redis, LLM Caching enables the storage and quick retrieval of pre-computed responses generated by Google's Vertex AI (PaLM). This means the computationally expensive process of response generation, especially for repetitive queries, is significantly reduced, resulting in faster response times and efficient resource utilization. This pairing of Google's powerful generative AI capabilities with Redis' high-performance caching system thus facilitates a more scalable and performant architecture for LLM applications, improving overall user experience and application reliability.\n",
        "\n",
        "There are primarily two modes of caching:\n",
        "- Standard Caching\n",
        "- Semantic Caching"
      ],
      "metadata": {
        "id": "FziAlkeg92U4"
      }
    },
    {
      "cell_type": "markdown",
      "source": [
        "### Memory\n",
        "\n",
        "TODO"
      ],
      "metadata": {
        "id": "P4Hl5U9O94ad"
      }
    },
    {
      "cell_type": "markdown",
      "metadata": {
        "id": "z-qm_sJZxmly"
      },
      "source": [
        "## Hello Palm!"
      ]
    },
    {
      "cell_type": "code",
      "execution_count": null,
      "metadata": {
        "colab": {
          "base_uri": "https://localhost:8080/"
        },
        "id": "vPtzbxzLxqB5",
        "outputId": "eb82dd7d-0ed7-4c69-adce-68c9a372ae3b"
      },
      "outputs": [
        {
          "output_type": "stream",
          "name": "stdout",
          "text": [
            "A large language model (LLM) is a type of artificial intelligence (AI) model that can understand and generate human language. LLMs are trained on massive datasets of text and code, and they can learn to perform a wide variety of tasks, such as translating languages, writing different kinds of creative content, and answering your questions in an informative way.\n",
            "\n",
            "LLMs are still under development, but they have the potential to revolutionize many industries. For example, LLMs could be used to create more accurate and personalized customer service experiences, to help doctors diagnose and treat diseases, and to even write entire books and movies.\n",
            "\n",
            "\n"
          ]
        }
      ],
      "source": []
    },
    {
      "cell_type": "markdown",
      "metadata": {
        "id": "brVjDaqRx6Aw"
      },
      "source": [
        "## Hello Chat!"
      ]
    },
    {
      "cell_type": "code",
      "execution_count": null,
      "metadata": {
        "colab": {
          "base_uri": "https://localhost:8080/"
        },
        "id": "wc7cr9-Yx8xx",
        "outputId": "dc64f1fe-47d5-4ebe-d45a-8314e4c21186"
      },
      "outputs": [
        {
          "output_type": "stream",
          "name": "stdout",
          "text": [
            "Generative AI (GAN) is a type of machine learning that uses artificial neural networks to create new, original content. This can include images, text, music, and even videos. GANs have the potential to revolutionize many industries, from healthcare to advertising. However, there are also concerns about the potential negative impacts of GANs, such as the creation of fake news and deepfakes.\n",
            "\n",
            "In this paper, we explore the potential impact of GANs on society. We first discuss the benefits of GANs, such as their ability to create new and original content, to solve real-world problems, and to democratize creativity\n",
            "Generative AI: The Future of Creativity\n"
          ]
        }
      ],
      "source": [
        "\n",
        "chat_model = ChatModel.from_pretrained(\"chat-bison@001\")\n",
        "\n",
        "chat = chat_model.start_chat()\n",
        "\n",
        "print(\n",
        "    chat.send_message(\n",
        "        \"\"\"\n",
        "Hello! Can you write a 300 word abstract for a research paper I need to write about the impact of generative AI on society?\n",
        "\"\"\"\n",
        "    )\n",
        ")\n",
        "\n",
        "\n",
        "print(\n",
        "    chat.send_message(\n",
        "        \"\"\"\n",
        "Could you give me a catchy title for the paper?\n",
        "\"\"\"\n",
        "    )\n",
        ")"
      ]
    }
  ],
  "metadata": {
    "colab": {
      "provenance": [],
      "gpuType": "T4",
      "toc_visible": true
    },
    "kernelspec": {
      "display_name": "Python 3",
      "name": "python3"
    },
    "language_info": {
      "name": "python"
    },
    "widgets": {
      "application/vnd.jupyter.widget-state+json": {
        "a26292ce5e9345ffaaa19f2a572b0847": {
          "model_module": "@jupyter-widgets/controls",
          "model_name": "HBoxModel",
          "model_module_version": "1.5.0",
          "state": {
            "_dom_classes": [],
            "_model_module": "@jupyter-widgets/controls",
            "_model_module_version": "1.5.0",
            "_model_name": "HBoxModel",
            "_view_count": null,
            "_view_module": "@jupyter-widgets/controls",
            "_view_module_version": "1.5.0",
            "_view_name": "HBoxView",
            "box_style": "",
            "children": [
              "IPY_MODEL_2b8d5c8cc99741788912162a14f405cb",
              "IPY_MODEL_4b9e5340cf1e4c9b935b267ebf249cd6",
              "IPY_MODEL_707dffc4f50440ad91865d1a5a938321"
            ],
            "layout": "IPY_MODEL_c4ed2e37b4e7442eb80fb59ac3687d8c"
          }
        },
        "2b8d5c8cc99741788912162a14f405cb": {
          "model_module": "@jupyter-widgets/controls",
          "model_name": "HTMLModel",
          "model_module_version": "1.5.0",
          "state": {
            "_dom_classes": [],
            "_model_module": "@jupyter-widgets/controls",
            "_model_module_version": "1.5.0",
            "_model_name": "HTMLModel",
            "_view_count": null,
            "_view_module": "@jupyter-widgets/controls",
            "_view_module_version": "1.5.0",
            "_view_name": "HTMLView",
            "description": "",
            "description_tooltip": null,
            "layout": "IPY_MODEL_d4fbc1b0467d4c1b8ab1f9a4ed5d251b",
            "placeholder": "​",
            "style": "IPY_MODEL_87f5b7cac6f243ca93a7334a42a69d50",
            "value": ""
          }
        },
        "4b9e5340cf1e4c9b935b267ebf249cd6": {
          "model_module": "@jupyter-widgets/controls",
          "model_name": "FloatProgressModel",
          "model_module_version": "1.5.0",
          "state": {
            "_dom_classes": [],
            "_model_module": "@jupyter-widgets/controls",
            "_model_module_version": "1.5.0",
            "_model_name": "FloatProgressModel",
            "_view_count": null,
            "_view_module": "@jupyter-widgets/controls",
            "_view_module_version": "1.5.0",
            "_view_name": "ProgressView",
            "bar_style": "success",
            "description": "",
            "description_tooltip": null,
            "layout": "IPY_MODEL_93a5dcb43310412bb303d5535a42ae24",
            "max": 1,
            "min": 0,
            "orientation": "horizontal",
            "style": "IPY_MODEL_82b1dd9eb903437ca432da94d42fa805",
            "value": 1
          }
        },
        "707dffc4f50440ad91865d1a5a938321": {
          "model_module": "@jupyter-widgets/controls",
          "model_name": "HTMLModel",
          "model_module_version": "1.5.0",
          "state": {
            "_dom_classes": [],
            "_model_module": "@jupyter-widgets/controls",
            "_model_module_version": "1.5.0",
            "_model_name": "HTMLModel",
            "_view_count": null,
            "_view_module": "@jupyter-widgets/controls",
            "_view_module_version": "1.5.0",
            "_view_name": "HTMLView",
            "description": "",
            "description_tooltip": null,
            "layout": "IPY_MODEL_c2f83bb5cb2a494281994649b3262c7c",
            "placeholder": "​",
            "style": "IPY_MODEL_394a8a2829a148e5a514e00b603acc90",
            "value": " 10/? [00:42&lt;00:00,  4.36s/it]"
          }
        },
        "c4ed2e37b4e7442eb80fb59ac3687d8c": {
          "model_module": "@jupyter-widgets/base",
          "model_name": "LayoutModel",
          "model_module_version": "1.2.0",
          "state": {
            "_model_module": "@jupyter-widgets/base",
            "_model_module_version": "1.2.0",
            "_model_name": "LayoutModel",
            "_view_count": null,
            "_view_module": "@jupyter-widgets/base",
            "_view_module_version": "1.2.0",
            "_view_name": "LayoutView",
            "align_content": null,
            "align_items": null,
            "align_self": null,
            "border": null,
            "bottom": null,
            "display": null,
            "flex": null,
            "flex_flow": null,
            "grid_area": null,
            "grid_auto_columns": null,
            "grid_auto_flow": null,
            "grid_auto_rows": null,
            "grid_column": null,
            "grid_gap": null,
            "grid_row": null,
            "grid_template_areas": null,
            "grid_template_columns": null,
            "grid_template_rows": null,
            "height": null,
            "justify_content": null,
            "justify_items": null,
            "left": null,
            "margin": null,
            "max_height": null,
            "max_width": null,
            "min_height": null,
            "min_width": null,
            "object_fit": null,
            "object_position": null,
            "order": null,
            "overflow": null,
            "overflow_x": null,
            "overflow_y": null,
            "padding": null,
            "right": null,
            "top": null,
            "visibility": null,
            "width": null
          }
        },
        "d4fbc1b0467d4c1b8ab1f9a4ed5d251b": {
          "model_module": "@jupyter-widgets/base",
          "model_name": "LayoutModel",
          "model_module_version": "1.2.0",
          "state": {
            "_model_module": "@jupyter-widgets/base",
            "_model_module_version": "1.2.0",
            "_model_name": "LayoutModel",
            "_view_count": null,
            "_view_module": "@jupyter-widgets/base",
            "_view_module_version": "1.2.0",
            "_view_name": "LayoutView",
            "align_content": null,
            "align_items": null,
            "align_self": null,
            "border": null,
            "bottom": null,
            "display": null,
            "flex": null,
            "flex_flow": null,
            "grid_area": null,
            "grid_auto_columns": null,
            "grid_auto_flow": null,
            "grid_auto_rows": null,
            "grid_column": null,
            "grid_gap": null,
            "grid_row": null,
            "grid_template_areas": null,
            "grid_template_columns": null,
            "grid_template_rows": null,
            "height": null,
            "justify_content": null,
            "justify_items": null,
            "left": null,
            "margin": null,
            "max_height": null,
            "max_width": null,
            "min_height": null,
            "min_width": null,
            "object_fit": null,
            "object_position": null,
            "order": null,
            "overflow": null,
            "overflow_x": null,
            "overflow_y": null,
            "padding": null,
            "right": null,
            "top": null,
            "visibility": null,
            "width": null
          }
        },
        "87f5b7cac6f243ca93a7334a42a69d50": {
          "model_module": "@jupyter-widgets/controls",
          "model_name": "DescriptionStyleModel",
          "model_module_version": "1.5.0",
          "state": {
            "_model_module": "@jupyter-widgets/controls",
            "_model_module_version": "1.5.0",
            "_model_name": "DescriptionStyleModel",
            "_view_count": null,
            "_view_module": "@jupyter-widgets/base",
            "_view_module_version": "1.2.0",
            "_view_name": "StyleView",
            "description_width": ""
          }
        },
        "93a5dcb43310412bb303d5535a42ae24": {
          "model_module": "@jupyter-widgets/base",
          "model_name": "LayoutModel",
          "model_module_version": "1.2.0",
          "state": {
            "_model_module": "@jupyter-widgets/base",
            "_model_module_version": "1.2.0",
            "_model_name": "LayoutModel",
            "_view_count": null,
            "_view_module": "@jupyter-widgets/base",
            "_view_module_version": "1.2.0",
            "_view_name": "LayoutView",
            "align_content": null,
            "align_items": null,
            "align_self": null,
            "border": null,
            "bottom": null,
            "display": null,
            "flex": null,
            "flex_flow": null,
            "grid_area": null,
            "grid_auto_columns": null,
            "grid_auto_flow": null,
            "grid_auto_rows": null,
            "grid_column": null,
            "grid_gap": null,
            "grid_row": null,
            "grid_template_areas": null,
            "grid_template_columns": null,
            "grid_template_rows": null,
            "height": null,
            "justify_content": null,
            "justify_items": null,
            "left": null,
            "margin": null,
            "max_height": null,
            "max_width": null,
            "min_height": null,
            "min_width": null,
            "object_fit": null,
            "object_position": null,
            "order": null,
            "overflow": null,
            "overflow_x": null,
            "overflow_y": null,
            "padding": null,
            "right": null,
            "top": null,
            "visibility": null,
            "width": "20px"
          }
        },
        "82b1dd9eb903437ca432da94d42fa805": {
          "model_module": "@jupyter-widgets/controls",
          "model_name": "ProgressStyleModel",
          "model_module_version": "1.5.0",
          "state": {
            "_model_module": "@jupyter-widgets/controls",
            "_model_module_version": "1.5.0",
            "_model_name": "ProgressStyleModel",
            "_view_count": null,
            "_view_module": "@jupyter-widgets/base",
            "_view_module_version": "1.2.0",
            "_view_name": "StyleView",
            "bar_color": null,
            "description_width": ""
          }
        },
        "c2f83bb5cb2a494281994649b3262c7c": {
          "model_module": "@jupyter-widgets/base",
          "model_name": "LayoutModel",
          "model_module_version": "1.2.0",
          "state": {
            "_model_module": "@jupyter-widgets/base",
            "_model_module_version": "1.2.0",
            "_model_name": "LayoutModel",
            "_view_count": null,
            "_view_module": "@jupyter-widgets/base",
            "_view_module_version": "1.2.0",
            "_view_name": "LayoutView",
            "align_content": null,
            "align_items": null,
            "align_self": null,
            "border": null,
            "bottom": null,
            "display": null,
            "flex": null,
            "flex_flow": null,
            "grid_area": null,
            "grid_auto_columns": null,
            "grid_auto_flow": null,
            "grid_auto_rows": null,
            "grid_column": null,
            "grid_gap": null,
            "grid_row": null,
            "grid_template_areas": null,
            "grid_template_columns": null,
            "grid_template_rows": null,
            "height": null,
            "justify_content": null,
            "justify_items": null,
            "left": null,
            "margin": null,
            "max_height": null,
            "max_width": null,
            "min_height": null,
            "min_width": null,
            "object_fit": null,
            "object_position": null,
            "order": null,
            "overflow": null,
            "overflow_x": null,
            "overflow_y": null,
            "padding": null,
            "right": null,
            "top": null,
            "visibility": null,
            "width": null
          }
        },
        "394a8a2829a148e5a514e00b603acc90": {
          "model_module": "@jupyter-widgets/controls",
          "model_name": "DescriptionStyleModel",
          "model_module_version": "1.5.0",
          "state": {
            "_model_module": "@jupyter-widgets/controls",
            "_model_module_version": "1.5.0",
            "_model_name": "DescriptionStyleModel",
            "_view_count": null,
            "_view_module": "@jupyter-widgets/base",
            "_view_module_version": "1.2.0",
            "_view_name": "StyleView",
            "description_width": ""
          }
        },
        "5dd1b18e81fe431d9544ab124994b54b": {
          "model_module": "@jupyter-widgets/controls",
          "model_name": "HBoxModel",
          "model_module_version": "1.5.0",
          "state": {
            "_dom_classes": [],
            "_model_module": "@jupyter-widgets/controls",
            "_model_module_version": "1.5.0",
            "_model_name": "HBoxModel",
            "_view_count": null,
            "_view_module": "@jupyter-widgets/controls",
            "_view_module_version": "1.5.0",
            "_view_name": "HBoxView",
            "box_style": "",
            "children": [
              "IPY_MODEL_d83ec1dbafb54cad8d0ba9cf664c2f06",
              "IPY_MODEL_4df70a11560d434194c87993596467d2",
              "IPY_MODEL_6089fb725efd4e6bbbcd1c771629f990"
            ],
            "layout": "IPY_MODEL_c21245e4efea4ba59d1ee09887d273cd"
          }
        },
        "d83ec1dbafb54cad8d0ba9cf664c2f06": {
          "model_module": "@jupyter-widgets/controls",
          "model_name": "HTMLModel",
          "model_module_version": "1.5.0",
          "state": {
            "_dom_classes": [],
            "_model_module": "@jupyter-widgets/controls",
            "_model_module_version": "1.5.0",
            "_model_name": "HTMLModel",
            "_view_count": null,
            "_view_module": "@jupyter-widgets/controls",
            "_view_module_version": "1.5.0",
            "_view_name": "HTMLView",
            "description": "",
            "description_tooltip": null,
            "layout": "IPY_MODEL_d1bc4902d5f94d86b9935f0d0aa30f32",
            "placeholder": "​",
            "style": "IPY_MODEL_56165e80c1c64670b8d0d5346b92462b",
            "value": "100%"
          }
        },
        "4df70a11560d434194c87993596467d2": {
          "model_module": "@jupyter-widgets/controls",
          "model_name": "FloatProgressModel",
          "model_module_version": "1.5.0",
          "state": {
            "_dom_classes": [],
            "_model_module": "@jupyter-widgets/controls",
            "_model_module_version": "1.5.0",
            "_model_name": "FloatProgressModel",
            "_view_count": null,
            "_view_module": "@jupyter-widgets/controls",
            "_view_module_version": "1.5.0",
            "_view_name": "ProgressView",
            "bar_style": "success",
            "description": "",
            "description_tooltip": null,
            "layout": "IPY_MODEL_38dceca0535f4ef993d25359088b66c8",
            "max": 100,
            "min": 0,
            "orientation": "horizontal",
            "style": "IPY_MODEL_05ed207f12d24ea19a6cfd10d372eb4b",
            "value": 100
          }
        },
        "6089fb725efd4e6bbbcd1c771629f990": {
          "model_module": "@jupyter-widgets/controls",
          "model_name": "HTMLModel",
          "model_module_version": "1.5.0",
          "state": {
            "_dom_classes": [],
            "_model_module": "@jupyter-widgets/controls",
            "_model_module_version": "1.5.0",
            "_model_name": "HTMLModel",
            "_view_count": null,
            "_view_module": "@jupyter-widgets/controls",
            "_view_module_version": "1.5.0",
            "_view_name": "HTMLView",
            "description": "",
            "description_tooltip": null,
            "layout": "IPY_MODEL_6d36f0d6d9ad4c6dabaedc5445ebd434",
            "placeholder": "​",
            "style": "IPY_MODEL_a32b9af31c70419e82c0ad36a2d33b71",
            "value": " 100/100 [00:00&lt;00:00, 6663.97it/s]"
          }
        },
        "c21245e4efea4ba59d1ee09887d273cd": {
          "model_module": "@jupyter-widgets/base",
          "model_name": "LayoutModel",
          "model_module_version": "1.2.0",
          "state": {
            "_model_module": "@jupyter-widgets/base",
            "_model_module_version": "1.2.0",
            "_model_name": "LayoutModel",
            "_view_count": null,
            "_view_module": "@jupyter-widgets/base",
            "_view_module_version": "1.2.0",
            "_view_name": "LayoutView",
            "align_content": null,
            "align_items": null,
            "align_self": null,
            "border": null,
            "bottom": null,
            "display": null,
            "flex": null,
            "flex_flow": null,
            "grid_area": null,
            "grid_auto_columns": null,
            "grid_auto_flow": null,
            "grid_auto_rows": null,
            "grid_column": null,
            "grid_gap": null,
            "grid_row": null,
            "grid_template_areas": null,
            "grid_template_columns": null,
            "grid_template_rows": null,
            "height": null,
            "justify_content": null,
            "justify_items": null,
            "left": null,
            "margin": null,
            "max_height": null,
            "max_width": null,
            "min_height": null,
            "min_width": null,
            "object_fit": null,
            "object_position": null,
            "order": null,
            "overflow": null,
            "overflow_x": null,
            "overflow_y": null,
            "padding": null,
            "right": null,
            "top": null,
            "visibility": null,
            "width": null
          }
        },
        "d1bc4902d5f94d86b9935f0d0aa30f32": {
          "model_module": "@jupyter-widgets/base",
          "model_name": "LayoutModel",
          "model_module_version": "1.2.0",
          "state": {
            "_model_module": "@jupyter-widgets/base",
            "_model_module_version": "1.2.0",
            "_model_name": "LayoutModel",
            "_view_count": null,
            "_view_module": "@jupyter-widgets/base",
            "_view_module_version": "1.2.0",
            "_view_name": "LayoutView",
            "align_content": null,
            "align_items": null,
            "align_self": null,
            "border": null,
            "bottom": null,
            "display": null,
            "flex": null,
            "flex_flow": null,
            "grid_area": null,
            "grid_auto_columns": null,
            "grid_auto_flow": null,
            "grid_auto_rows": null,
            "grid_column": null,
            "grid_gap": null,
            "grid_row": null,
            "grid_template_areas": null,
            "grid_template_columns": null,
            "grid_template_rows": null,
            "height": null,
            "justify_content": null,
            "justify_items": null,
            "left": null,
            "margin": null,
            "max_height": null,
            "max_width": null,
            "min_height": null,
            "min_width": null,
            "object_fit": null,
            "object_position": null,
            "order": null,
            "overflow": null,
            "overflow_x": null,
            "overflow_y": null,
            "padding": null,
            "right": null,
            "top": null,
            "visibility": null,
            "width": null
          }
        },
        "56165e80c1c64670b8d0d5346b92462b": {
          "model_module": "@jupyter-widgets/controls",
          "model_name": "DescriptionStyleModel",
          "model_module_version": "1.5.0",
          "state": {
            "_model_module": "@jupyter-widgets/controls",
            "_model_module_version": "1.5.0",
            "_model_name": "DescriptionStyleModel",
            "_view_count": null,
            "_view_module": "@jupyter-widgets/base",
            "_view_module_version": "1.2.0",
            "_view_name": "StyleView",
            "description_width": ""
          }
        },
        "38dceca0535f4ef993d25359088b66c8": {
          "model_module": "@jupyter-widgets/base",
          "model_name": "LayoutModel",
          "model_module_version": "1.2.0",
          "state": {
            "_model_module": "@jupyter-widgets/base",
            "_model_module_version": "1.2.0",
            "_model_name": "LayoutModel",
            "_view_count": null,
            "_view_module": "@jupyter-widgets/base",
            "_view_module_version": "1.2.0",
            "_view_name": "LayoutView",
            "align_content": null,
            "align_items": null,
            "align_self": null,
            "border": null,
            "bottom": null,
            "display": null,
            "flex": null,
            "flex_flow": null,
            "grid_area": null,
            "grid_auto_columns": null,
            "grid_auto_flow": null,
            "grid_auto_rows": null,
            "grid_column": null,
            "grid_gap": null,
            "grid_row": null,
            "grid_template_areas": null,
            "grid_template_columns": null,
            "grid_template_rows": null,
            "height": null,
            "justify_content": null,
            "justify_items": null,
            "left": null,
            "margin": null,
            "max_height": null,
            "max_width": null,
            "min_height": null,
            "min_width": null,
            "object_fit": null,
            "object_position": null,
            "order": null,
            "overflow": null,
            "overflow_x": null,
            "overflow_y": null,
            "padding": null,
            "right": null,
            "top": null,
            "visibility": null,
            "width": null
          }
        },
        "05ed207f12d24ea19a6cfd10d372eb4b": {
          "model_module": "@jupyter-widgets/controls",
          "model_name": "ProgressStyleModel",
          "model_module_version": "1.5.0",
          "state": {
            "_model_module": "@jupyter-widgets/controls",
            "_model_module_version": "1.5.0",
            "_model_name": "ProgressStyleModel",
            "_view_count": null,
            "_view_module": "@jupyter-widgets/base",
            "_view_module_version": "1.2.0",
            "_view_name": "StyleView",
            "bar_color": null,
            "description_width": ""
          }
        },
        "6d36f0d6d9ad4c6dabaedc5445ebd434": {
          "model_module": "@jupyter-widgets/base",
          "model_name": "LayoutModel",
          "model_module_version": "1.2.0",
          "state": {
            "_model_module": "@jupyter-widgets/base",
            "_model_module_version": "1.2.0",
            "_model_name": "LayoutModel",
            "_view_count": null,
            "_view_module": "@jupyter-widgets/base",
            "_view_module_version": "1.2.0",
            "_view_name": "LayoutView",
            "align_content": null,
            "align_items": null,
            "align_self": null,
            "border": null,
            "bottom": null,
            "display": null,
            "flex": null,
            "flex_flow": null,
            "grid_area": null,
            "grid_auto_columns": null,
            "grid_auto_flow": null,
            "grid_auto_rows": null,
            "grid_column": null,
            "grid_gap": null,
            "grid_row": null,
            "grid_template_areas": null,
            "grid_template_columns": null,
            "grid_template_rows": null,
            "height": null,
            "justify_content": null,
            "justify_items": null,
            "left": null,
            "margin": null,
            "max_height": null,
            "max_width": null,
            "min_height": null,
            "min_width": null,
            "object_fit": null,
            "object_position": null,
            "order": null,
            "overflow": null,
            "overflow_x": null,
            "overflow_y": null,
            "padding": null,
            "right": null,
            "top": null,
            "visibility": null,
            "width": null
          }
        },
        "a32b9af31c70419e82c0ad36a2d33b71": {
          "model_module": "@jupyter-widgets/controls",
          "model_name": "DescriptionStyleModel",
          "model_module_version": "1.5.0",
          "state": {
            "_model_module": "@jupyter-widgets/controls",
            "_model_module_version": "1.5.0",
            "_model_name": "DescriptionStyleModel",
            "_view_count": null,
            "_view_module": "@jupyter-widgets/base",
            "_view_module_version": "1.2.0",
            "_view_name": "StyleView",
            "description_width": ""
          }
        },
        "6e7b1deab97e43bc86e651d6d18cfb24": {
          "model_module": "@jupyter-widgets/controls",
          "model_name": "HBoxModel",
          "model_module_version": "1.5.0",
          "state": {
            "_dom_classes": [],
            "_model_module": "@jupyter-widgets/controls",
            "_model_module_version": "1.5.0",
            "_model_name": "HBoxModel",
            "_view_count": null,
            "_view_module": "@jupyter-widgets/controls",
            "_view_module_version": "1.5.0",
            "_view_name": "HBoxView",
            "box_style": "",
            "children": [
              "IPY_MODEL_4772892e76b94d37801784b9090f506b",
              "IPY_MODEL_b9e9fc2b202540e3b3319113c3650d5e",
              "IPY_MODEL_31599074c4a44cd696dd160478648fcc"
            ],
            "layout": "IPY_MODEL_f9a86e2dc7434232b84eafb4d3975a3e"
          }
        },
        "4772892e76b94d37801784b9090f506b": {
          "model_module": "@jupyter-widgets/controls",
          "model_name": "HTMLModel",
          "model_module_version": "1.5.0",
          "state": {
            "_dom_classes": [],
            "_model_module": "@jupyter-widgets/controls",
            "_model_module_version": "1.5.0",
            "_model_name": "HTMLModel",
            "_view_count": null,
            "_view_module": "@jupyter-widgets/controls",
            "_view_module_version": "1.5.0",
            "_view_name": "HTMLView",
            "description": "",
            "description_tooltip": null,
            "layout": "IPY_MODEL_60488fdb2f5d4a51bd112e2bb423c029",
            "placeholder": "​",
            "style": "IPY_MODEL_255a6b2bc78e4fb9bd6cb4ae38e435e5",
            "value": "100%"
          }
        },
        "b9e9fc2b202540e3b3319113c3650d5e": {
          "model_module": "@jupyter-widgets/controls",
          "model_name": "FloatProgressModel",
          "model_module_version": "1.5.0",
          "state": {
            "_dom_classes": [],
            "_model_module": "@jupyter-widgets/controls",
            "_model_module_version": "1.5.0",
            "_model_name": "FloatProgressModel",
            "_view_count": null,
            "_view_module": "@jupyter-widgets/controls",
            "_view_module_version": "1.5.0",
            "_view_name": "ProgressView",
            "bar_style": "success",
            "description": "",
            "description_tooltip": null,
            "layout": "IPY_MODEL_d3019cde08934aedbd5d1537f048b171",
            "max": 100,
            "min": 0,
            "orientation": "horizontal",
            "style": "IPY_MODEL_d61941728d3e4935a3e0bc43019ee033",
            "value": 100
          }
        },
        "31599074c4a44cd696dd160478648fcc": {
          "model_module": "@jupyter-widgets/controls",
          "model_name": "HTMLModel",
          "model_module_version": "1.5.0",
          "state": {
            "_dom_classes": [],
            "_model_module": "@jupyter-widgets/controls",
            "_model_module_version": "1.5.0",
            "_model_name": "HTMLModel",
            "_view_count": null,
            "_view_module": "@jupyter-widgets/controls",
            "_view_module_version": "1.5.0",
            "_view_name": "HTMLView",
            "description": "",
            "description_tooltip": null,
            "layout": "IPY_MODEL_698b5e6e5b664e74be69131e6b830748",
            "placeholder": "​",
            "style": "IPY_MODEL_fc5b0c963ac941a9859decc0d19ddc88",
            "value": " 100/100 [00:00&lt;00:00, 4963.91it/s]"
          }
        },
        "f9a86e2dc7434232b84eafb4d3975a3e": {
          "model_module": "@jupyter-widgets/base",
          "model_name": "LayoutModel",
          "model_module_version": "1.2.0",
          "state": {
            "_model_module": "@jupyter-widgets/base",
            "_model_module_version": "1.2.0",
            "_model_name": "LayoutModel",
            "_view_count": null,
            "_view_module": "@jupyter-widgets/base",
            "_view_module_version": "1.2.0",
            "_view_name": "LayoutView",
            "align_content": null,
            "align_items": null,
            "align_self": null,
            "border": null,
            "bottom": null,
            "display": null,
            "flex": null,
            "flex_flow": null,
            "grid_area": null,
            "grid_auto_columns": null,
            "grid_auto_flow": null,
            "grid_auto_rows": null,
            "grid_column": null,
            "grid_gap": null,
            "grid_row": null,
            "grid_template_areas": null,
            "grid_template_columns": null,
            "grid_template_rows": null,
            "height": null,
            "justify_content": null,
            "justify_items": null,
            "left": null,
            "margin": null,
            "max_height": null,
            "max_width": null,
            "min_height": null,
            "min_width": null,
            "object_fit": null,
            "object_position": null,
            "order": null,
            "overflow": null,
            "overflow_x": null,
            "overflow_y": null,
            "padding": null,
            "right": null,
            "top": null,
            "visibility": null,
            "width": null
          }
        },
        "60488fdb2f5d4a51bd112e2bb423c029": {
          "model_module": "@jupyter-widgets/base",
          "model_name": "LayoutModel",
          "model_module_version": "1.2.0",
          "state": {
            "_model_module": "@jupyter-widgets/base",
            "_model_module_version": "1.2.0",
            "_model_name": "LayoutModel",
            "_view_count": null,
            "_view_module": "@jupyter-widgets/base",
            "_view_module_version": "1.2.0",
            "_view_name": "LayoutView",
            "align_content": null,
            "align_items": null,
            "align_self": null,
            "border": null,
            "bottom": null,
            "display": null,
            "flex": null,
            "flex_flow": null,
            "grid_area": null,
            "grid_auto_columns": null,
            "grid_auto_flow": null,
            "grid_auto_rows": null,
            "grid_column": null,
            "grid_gap": null,
            "grid_row": null,
            "grid_template_areas": null,
            "grid_template_columns": null,
            "grid_template_rows": null,
            "height": null,
            "justify_content": null,
            "justify_items": null,
            "left": null,
            "margin": null,
            "max_height": null,
            "max_width": null,
            "min_height": null,
            "min_width": null,
            "object_fit": null,
            "object_position": null,
            "order": null,
            "overflow": null,
            "overflow_x": null,
            "overflow_y": null,
            "padding": null,
            "right": null,
            "top": null,
            "visibility": null,
            "width": null
          }
        },
        "255a6b2bc78e4fb9bd6cb4ae38e435e5": {
          "model_module": "@jupyter-widgets/controls",
          "model_name": "DescriptionStyleModel",
          "model_module_version": "1.5.0",
          "state": {
            "_model_module": "@jupyter-widgets/controls",
            "_model_module_version": "1.5.0",
            "_model_name": "DescriptionStyleModel",
            "_view_count": null,
            "_view_module": "@jupyter-widgets/base",
            "_view_module_version": "1.2.0",
            "_view_name": "StyleView",
            "description_width": ""
          }
        },
        "d3019cde08934aedbd5d1537f048b171": {
          "model_module": "@jupyter-widgets/base",
          "model_name": "LayoutModel",
          "model_module_version": "1.2.0",
          "state": {
            "_model_module": "@jupyter-widgets/base",
            "_model_module_version": "1.2.0",
            "_model_name": "LayoutModel",
            "_view_count": null,
            "_view_module": "@jupyter-widgets/base",
            "_view_module_version": "1.2.0",
            "_view_name": "LayoutView",
            "align_content": null,
            "align_items": null,
            "align_self": null,
            "border": null,
            "bottom": null,
            "display": null,
            "flex": null,
            "flex_flow": null,
            "grid_area": null,
            "grid_auto_columns": null,
            "grid_auto_flow": null,
            "grid_auto_rows": null,
            "grid_column": null,
            "grid_gap": null,
            "grid_row": null,
            "grid_template_areas": null,
            "grid_template_columns": null,
            "grid_template_rows": null,
            "height": null,
            "justify_content": null,
            "justify_items": null,
            "left": null,
            "margin": null,
            "max_height": null,
            "max_width": null,
            "min_height": null,
            "min_width": null,
            "object_fit": null,
            "object_position": null,
            "order": null,
            "overflow": null,
            "overflow_x": null,
            "overflow_y": null,
            "padding": null,
            "right": null,
            "top": null,
            "visibility": null,
            "width": null
          }
        },
        "d61941728d3e4935a3e0bc43019ee033": {
          "model_module": "@jupyter-widgets/controls",
          "model_name": "ProgressStyleModel",
          "model_module_version": "1.5.0",
          "state": {
            "_model_module": "@jupyter-widgets/controls",
            "_model_module_version": "1.5.0",
            "_model_name": "ProgressStyleModel",
            "_view_count": null,
            "_view_module": "@jupyter-widgets/base",
            "_view_module_version": "1.2.0",
            "_view_name": "StyleView",
            "bar_color": null,
            "description_width": ""
          }
        },
        "698b5e6e5b664e74be69131e6b830748": {
          "model_module": "@jupyter-widgets/base",
          "model_name": "LayoutModel",
          "model_module_version": "1.2.0",
          "state": {
            "_model_module": "@jupyter-widgets/base",
            "_model_module_version": "1.2.0",
            "_model_name": "LayoutModel",
            "_view_count": null,
            "_view_module": "@jupyter-widgets/base",
            "_view_module_version": "1.2.0",
            "_view_name": "LayoutView",
            "align_content": null,
            "align_items": null,
            "align_self": null,
            "border": null,
            "bottom": null,
            "display": null,
            "flex": null,
            "flex_flow": null,
            "grid_area": null,
            "grid_auto_columns": null,
            "grid_auto_flow": null,
            "grid_auto_rows": null,
            "grid_column": null,
            "grid_gap": null,
            "grid_row": null,
            "grid_template_areas": null,
            "grid_template_columns": null,
            "grid_template_rows": null,
            "height": null,
            "justify_content": null,
            "justify_items": null,
            "left": null,
            "margin": null,
            "max_height": null,
            "max_width": null,
            "min_height": null,
            "min_width": null,
            "object_fit": null,
            "object_position": null,
            "order": null,
            "overflow": null,
            "overflow_x": null,
            "overflow_y": null,
            "padding": null,
            "right": null,
            "top": null,
            "visibility": null,
            "width": null
          }
        },
        "fc5b0c963ac941a9859decc0d19ddc88": {
          "model_module": "@jupyter-widgets/controls",
          "model_name": "DescriptionStyleModel",
          "model_module_version": "1.5.0",
          "state": {
            "_model_module": "@jupyter-widgets/controls",
            "_model_module_version": "1.5.0",
            "_model_name": "DescriptionStyleModel",
            "_view_count": null,
            "_view_module": "@jupyter-widgets/base",
            "_view_module_version": "1.2.0",
            "_view_name": "StyleView",
            "description_width": ""
          }
        },
        "0a3c9c06cc264825b584ed9f565e7249": {
          "model_module": "@jupyter-widgets/controls",
          "model_name": "HBoxModel",
          "model_module_version": "1.5.0",
          "state": {
            "_dom_classes": [],
            "_model_module": "@jupyter-widgets/controls",
            "_model_module_version": "1.5.0",
            "_model_name": "HBoxModel",
            "_view_count": null,
            "_view_module": "@jupyter-widgets/controls",
            "_view_module_version": "1.5.0",
            "_view_name": "HBoxView",
            "box_style": "",
            "children": [
              "IPY_MODEL_8bf4c7484a1d4df1a4ca41cc33817c00",
              "IPY_MODEL_7b744419dc774312bc42eb043432245b",
              "IPY_MODEL_d1fec94b342d4857a83223c2fb628855"
            ],
            "layout": "IPY_MODEL_5efe8a03dcf84797834ea0a20dfa97e7"
          }
        },
        "8bf4c7484a1d4df1a4ca41cc33817c00": {
          "model_module": "@jupyter-widgets/controls",
          "model_name": "HTMLModel",
          "model_module_version": "1.5.0",
          "state": {
            "_dom_classes": [],
            "_model_module": "@jupyter-widgets/controls",
            "_model_module_version": "1.5.0",
            "_model_name": "HTMLModel",
            "_view_count": null,
            "_view_module": "@jupyter-widgets/controls",
            "_view_module_version": "1.5.0",
            "_view_name": "HTMLView",
            "description": "",
            "description_tooltip": null,
            "layout": "IPY_MODEL_2396634655184513993ac5b9aa121828",
            "placeholder": "​",
            "style": "IPY_MODEL_0c0c11e768414111aaf13af8cfc1dce3",
            "value": "100%"
          }
        },
        "7b744419dc774312bc42eb043432245b": {
          "model_module": "@jupyter-widgets/controls",
          "model_name": "FloatProgressModel",
          "model_module_version": "1.5.0",
          "state": {
            "_dom_classes": [],
            "_model_module": "@jupyter-widgets/controls",
            "_model_module_version": "1.5.0",
            "_model_name": "FloatProgressModel",
            "_view_count": null,
            "_view_module": "@jupyter-widgets/controls",
            "_view_module_version": "1.5.0",
            "_view_name": "ProgressView",
            "bar_style": "success",
            "description": "",
            "description_tooltip": null,
            "layout": "IPY_MODEL_41ab7ef38e954a348ccc5f13f4c7d40f",
            "max": 100,
            "min": 0,
            "orientation": "horizontal",
            "style": "IPY_MODEL_33c81a6fe7d5458cb65db4dca6fc08e7",
            "value": 100
          }
        },
        "d1fec94b342d4857a83223c2fb628855": {
          "model_module": "@jupyter-widgets/controls",
          "model_name": "HTMLModel",
          "model_module_version": "1.5.0",
          "state": {
            "_dom_classes": [],
            "_model_module": "@jupyter-widgets/controls",
            "_model_module_version": "1.5.0",
            "_model_name": "HTMLModel",
            "_view_count": null,
            "_view_module": "@jupyter-widgets/controls",
            "_view_module_version": "1.5.0",
            "_view_name": "HTMLView",
            "description": "",
            "description_tooltip": null,
            "layout": "IPY_MODEL_990a62fefe2b40f085233b02898ff770",
            "placeholder": "​",
            "style": "IPY_MODEL_7d273b4fef1a40fcbbb99236b1a99041",
            "value": " 100/100 [00:00&lt;00:00, 6899.77it/s]"
          }
        },
        "5efe8a03dcf84797834ea0a20dfa97e7": {
          "model_module": "@jupyter-widgets/base",
          "model_name": "LayoutModel",
          "model_module_version": "1.2.0",
          "state": {
            "_model_module": "@jupyter-widgets/base",
            "_model_module_version": "1.2.0",
            "_model_name": "LayoutModel",
            "_view_count": null,
            "_view_module": "@jupyter-widgets/base",
            "_view_module_version": "1.2.0",
            "_view_name": "LayoutView",
            "align_content": null,
            "align_items": null,
            "align_self": null,
            "border": null,
            "bottom": null,
            "display": null,
            "flex": null,
            "flex_flow": null,
            "grid_area": null,
            "grid_auto_columns": null,
            "grid_auto_flow": null,
            "grid_auto_rows": null,
            "grid_column": null,
            "grid_gap": null,
            "grid_row": null,
            "grid_template_areas": null,
            "grid_template_columns": null,
            "grid_template_rows": null,
            "height": null,
            "justify_content": null,
            "justify_items": null,
            "left": null,
            "margin": null,
            "max_height": null,
            "max_width": null,
            "min_height": null,
            "min_width": null,
            "object_fit": null,
            "object_position": null,
            "order": null,
            "overflow": null,
            "overflow_x": null,
            "overflow_y": null,
            "padding": null,
            "right": null,
            "top": null,
            "visibility": null,
            "width": null
          }
        },
        "2396634655184513993ac5b9aa121828": {
          "model_module": "@jupyter-widgets/base",
          "model_name": "LayoutModel",
          "model_module_version": "1.2.0",
          "state": {
            "_model_module": "@jupyter-widgets/base",
            "_model_module_version": "1.2.0",
            "_model_name": "LayoutModel",
            "_view_count": null,
            "_view_module": "@jupyter-widgets/base",
            "_view_module_version": "1.2.0",
            "_view_name": "LayoutView",
            "align_content": null,
            "align_items": null,
            "align_self": null,
            "border": null,
            "bottom": null,
            "display": null,
            "flex": null,
            "flex_flow": null,
            "grid_area": null,
            "grid_auto_columns": null,
            "grid_auto_flow": null,
            "grid_auto_rows": null,
            "grid_column": null,
            "grid_gap": null,
            "grid_row": null,
            "grid_template_areas": null,
            "grid_template_columns": null,
            "grid_template_rows": null,
            "height": null,
            "justify_content": null,
            "justify_items": null,
            "left": null,
            "margin": null,
            "max_height": null,
            "max_width": null,
            "min_height": null,
            "min_width": null,
            "object_fit": null,
            "object_position": null,
            "order": null,
            "overflow": null,
            "overflow_x": null,
            "overflow_y": null,
            "padding": null,
            "right": null,
            "top": null,
            "visibility": null,
            "width": null
          }
        },
        "0c0c11e768414111aaf13af8cfc1dce3": {
          "model_module": "@jupyter-widgets/controls",
          "model_name": "DescriptionStyleModel",
          "model_module_version": "1.5.0",
          "state": {
            "_model_module": "@jupyter-widgets/controls",
            "_model_module_version": "1.5.0",
            "_model_name": "DescriptionStyleModel",
            "_view_count": null,
            "_view_module": "@jupyter-widgets/base",
            "_view_module_version": "1.2.0",
            "_view_name": "StyleView",
            "description_width": ""
          }
        },
        "41ab7ef38e954a348ccc5f13f4c7d40f": {
          "model_module": "@jupyter-widgets/base",
          "model_name": "LayoutModel",
          "model_module_version": "1.2.0",
          "state": {
            "_model_module": "@jupyter-widgets/base",
            "_model_module_version": "1.2.0",
            "_model_name": "LayoutModel",
            "_view_count": null,
            "_view_module": "@jupyter-widgets/base",
            "_view_module_version": "1.2.0",
            "_view_name": "LayoutView",
            "align_content": null,
            "align_items": null,
            "align_self": null,
            "border": null,
            "bottom": null,
            "display": null,
            "flex": null,
            "flex_flow": null,
            "grid_area": null,
            "grid_auto_columns": null,
            "grid_auto_flow": null,
            "grid_auto_rows": null,
            "grid_column": null,
            "grid_gap": null,
            "grid_row": null,
            "grid_template_areas": null,
            "grid_template_columns": null,
            "grid_template_rows": null,
            "height": null,
            "justify_content": null,
            "justify_items": null,
            "left": null,
            "margin": null,
            "max_height": null,
            "max_width": null,
            "min_height": null,
            "min_width": null,
            "object_fit": null,
            "object_position": null,
            "order": null,
            "overflow": null,
            "overflow_x": null,
            "overflow_y": null,
            "padding": null,
            "right": null,
            "top": null,
            "visibility": null,
            "width": null
          }
        },
        "33c81a6fe7d5458cb65db4dca6fc08e7": {
          "model_module": "@jupyter-widgets/controls",
          "model_name": "ProgressStyleModel",
          "model_module_version": "1.5.0",
          "state": {
            "_model_module": "@jupyter-widgets/controls",
            "_model_module_version": "1.5.0",
            "_model_name": "ProgressStyleModel",
            "_view_count": null,
            "_view_module": "@jupyter-widgets/base",
            "_view_module_version": "1.2.0",
            "_view_name": "StyleView",
            "bar_color": null,
            "description_width": ""
          }
        },
        "990a62fefe2b40f085233b02898ff770": {
          "model_module": "@jupyter-widgets/base",
          "model_name": "LayoutModel",
          "model_module_version": "1.2.0",
          "state": {
            "_model_module": "@jupyter-widgets/base",
            "_model_module_version": "1.2.0",
            "_model_name": "LayoutModel",
            "_view_count": null,
            "_view_module": "@jupyter-widgets/base",
            "_view_module_version": "1.2.0",
            "_view_name": "LayoutView",
            "align_content": null,
            "align_items": null,
            "align_self": null,
            "border": null,
            "bottom": null,
            "display": null,
            "flex": null,
            "flex_flow": null,
            "grid_area": null,
            "grid_auto_columns": null,
            "grid_auto_flow": null,
            "grid_auto_rows": null,
            "grid_column": null,
            "grid_gap": null,
            "grid_row": null,
            "grid_template_areas": null,
            "grid_template_columns": null,
            "grid_template_rows": null,
            "height": null,
            "justify_content": null,
            "justify_items": null,
            "left": null,
            "margin": null,
            "max_height": null,
            "max_width": null,
            "min_height": null,
            "min_width": null,
            "object_fit": null,
            "object_position": null,
            "order": null,
            "overflow": null,
            "overflow_x": null,
            "overflow_y": null,
            "padding": null,
            "right": null,
            "top": null,
            "visibility": null,
            "width": null
          }
        },
        "7d273b4fef1a40fcbbb99236b1a99041": {
          "model_module": "@jupyter-widgets/controls",
          "model_name": "DescriptionStyleModel",
          "model_module_version": "1.5.0",
          "state": {
            "_model_module": "@jupyter-widgets/controls",
            "_model_module_version": "1.5.0",
            "_model_name": "DescriptionStyleModel",
            "_view_count": null,
            "_view_module": "@jupyter-widgets/base",
            "_view_module_version": "1.2.0",
            "_view_name": "StyleView",
            "description_width": ""
          }
        },
        "b4d6abed62844f7cb84b8ee9409f3762": {
          "model_module": "@jupyter-widgets/controls",
          "model_name": "HBoxModel",
          "model_module_version": "1.5.0",
          "state": {
            "_dom_classes": [],
            "_model_module": "@jupyter-widgets/controls",
            "_model_module_version": "1.5.0",
            "_model_name": "HBoxModel",
            "_view_count": null,
            "_view_module": "@jupyter-widgets/controls",
            "_view_module_version": "1.5.0",
            "_view_name": "HBoxView",
            "box_style": "",
            "children": [
              "IPY_MODEL_04066ed18b894b8a8a30f229f044bd52",
              "IPY_MODEL_a671f33d99a04277a479dfb36c311f54",
              "IPY_MODEL_f15bc7c66c354ea8ae8fd75bf10c4242"
            ],
            "layout": "IPY_MODEL_4c2db26f11cd42eb8da90f9ba4733727"
          }
        },
        "04066ed18b894b8a8a30f229f044bd52": {
          "model_module": "@jupyter-widgets/controls",
          "model_name": "HTMLModel",
          "model_module_version": "1.5.0",
          "state": {
            "_dom_classes": [],
            "_model_module": "@jupyter-widgets/controls",
            "_model_module_version": "1.5.0",
            "_model_name": "HTMLModel",
            "_view_count": null,
            "_view_module": "@jupyter-widgets/controls",
            "_view_module_version": "1.5.0",
            "_view_name": "HTMLView",
            "description": "",
            "description_tooltip": null,
            "layout": "IPY_MODEL_a20bf7f8b3e84261bd843f336bca078b",
            "placeholder": "​",
            "style": "IPY_MODEL_26641c2ca5c144789874f9f7f8bfcb07",
            "value": "100%"
          }
        },
        "a671f33d99a04277a479dfb36c311f54": {
          "model_module": "@jupyter-widgets/controls",
          "model_name": "FloatProgressModel",
          "model_module_version": "1.5.0",
          "state": {
            "_dom_classes": [],
            "_model_module": "@jupyter-widgets/controls",
            "_model_module_version": "1.5.0",
            "_model_name": "FloatProgressModel",
            "_view_count": null,
            "_view_module": "@jupyter-widgets/controls",
            "_view_module_version": "1.5.0",
            "_view_name": "ProgressView",
            "bar_style": "success",
            "description": "",
            "description_tooltip": null,
            "layout": "IPY_MODEL_44784452508e449cae0d70266cffbe06",
            "max": 100,
            "min": 0,
            "orientation": "horizontal",
            "style": "IPY_MODEL_c0e523181ca74f79bacdce6aa5d5e98b",
            "value": 100
          }
        },
        "f15bc7c66c354ea8ae8fd75bf10c4242": {
          "model_module": "@jupyter-widgets/controls",
          "model_name": "HTMLModel",
          "model_module_version": "1.5.0",
          "state": {
            "_dom_classes": [],
            "_model_module": "@jupyter-widgets/controls",
            "_model_module_version": "1.5.0",
            "_model_name": "HTMLModel",
            "_view_count": null,
            "_view_module": "@jupyter-widgets/controls",
            "_view_module_version": "1.5.0",
            "_view_name": "HTMLView",
            "description": "",
            "description_tooltip": null,
            "layout": "IPY_MODEL_420f9333c0e34888b209868b03d4e330",
            "placeholder": "​",
            "style": "IPY_MODEL_b849ff8635904f59b45ae2905e7f5c36",
            "value": " 100/100 [00:00&lt;00:00, 6926.44it/s]"
          }
        },
        "4c2db26f11cd42eb8da90f9ba4733727": {
          "model_module": "@jupyter-widgets/base",
          "model_name": "LayoutModel",
          "model_module_version": "1.2.0",
          "state": {
            "_model_module": "@jupyter-widgets/base",
            "_model_module_version": "1.2.0",
            "_model_name": "LayoutModel",
            "_view_count": null,
            "_view_module": "@jupyter-widgets/base",
            "_view_module_version": "1.2.0",
            "_view_name": "LayoutView",
            "align_content": null,
            "align_items": null,
            "align_self": null,
            "border": null,
            "bottom": null,
            "display": null,
            "flex": null,
            "flex_flow": null,
            "grid_area": null,
            "grid_auto_columns": null,
            "grid_auto_flow": null,
            "grid_auto_rows": null,
            "grid_column": null,
            "grid_gap": null,
            "grid_row": null,
            "grid_template_areas": null,
            "grid_template_columns": null,
            "grid_template_rows": null,
            "height": null,
            "justify_content": null,
            "justify_items": null,
            "left": null,
            "margin": null,
            "max_height": null,
            "max_width": null,
            "min_height": null,
            "min_width": null,
            "object_fit": null,
            "object_position": null,
            "order": null,
            "overflow": null,
            "overflow_x": null,
            "overflow_y": null,
            "padding": null,
            "right": null,
            "top": null,
            "visibility": null,
            "width": null
          }
        },
        "a20bf7f8b3e84261bd843f336bca078b": {
          "model_module": "@jupyter-widgets/base",
          "model_name": "LayoutModel",
          "model_module_version": "1.2.0",
          "state": {
            "_model_module": "@jupyter-widgets/base",
            "_model_module_version": "1.2.0",
            "_model_name": "LayoutModel",
            "_view_count": null,
            "_view_module": "@jupyter-widgets/base",
            "_view_module_version": "1.2.0",
            "_view_name": "LayoutView",
            "align_content": null,
            "align_items": null,
            "align_self": null,
            "border": null,
            "bottom": null,
            "display": null,
            "flex": null,
            "flex_flow": null,
            "grid_area": null,
            "grid_auto_columns": null,
            "grid_auto_flow": null,
            "grid_auto_rows": null,
            "grid_column": null,
            "grid_gap": null,
            "grid_row": null,
            "grid_template_areas": null,
            "grid_template_columns": null,
            "grid_template_rows": null,
            "height": null,
            "justify_content": null,
            "justify_items": null,
            "left": null,
            "margin": null,
            "max_height": null,
            "max_width": null,
            "min_height": null,
            "min_width": null,
            "object_fit": null,
            "object_position": null,
            "order": null,
            "overflow": null,
            "overflow_x": null,
            "overflow_y": null,
            "padding": null,
            "right": null,
            "top": null,
            "visibility": null,
            "width": null
          }
        },
        "26641c2ca5c144789874f9f7f8bfcb07": {
          "model_module": "@jupyter-widgets/controls",
          "model_name": "DescriptionStyleModel",
          "model_module_version": "1.5.0",
          "state": {
            "_model_module": "@jupyter-widgets/controls",
            "_model_module_version": "1.5.0",
            "_model_name": "DescriptionStyleModel",
            "_view_count": null,
            "_view_module": "@jupyter-widgets/base",
            "_view_module_version": "1.2.0",
            "_view_name": "StyleView",
            "description_width": ""
          }
        },
        "44784452508e449cae0d70266cffbe06": {
          "model_module": "@jupyter-widgets/base",
          "model_name": "LayoutModel",
          "model_module_version": "1.2.0",
          "state": {
            "_model_module": "@jupyter-widgets/base",
            "_model_module_version": "1.2.0",
            "_model_name": "LayoutModel",
            "_view_count": null,
            "_view_module": "@jupyter-widgets/base",
            "_view_module_version": "1.2.0",
            "_view_name": "LayoutView",
            "align_content": null,
            "align_items": null,
            "align_self": null,
            "border": null,
            "bottom": null,
            "display": null,
            "flex": null,
            "flex_flow": null,
            "grid_area": null,
            "grid_auto_columns": null,
            "grid_auto_flow": null,
            "grid_auto_rows": null,
            "grid_column": null,
            "grid_gap": null,
            "grid_row": null,
            "grid_template_areas": null,
            "grid_template_columns": null,
            "grid_template_rows": null,
            "height": null,
            "justify_content": null,
            "justify_items": null,
            "left": null,
            "margin": null,
            "max_height": null,
            "max_width": null,
            "min_height": null,
            "min_width": null,
            "object_fit": null,
            "object_position": null,
            "order": null,
            "overflow": null,
            "overflow_x": null,
            "overflow_y": null,
            "padding": null,
            "right": null,
            "top": null,
            "visibility": null,
            "width": null
          }
        },
        "c0e523181ca74f79bacdce6aa5d5e98b": {
          "model_module": "@jupyter-widgets/controls",
          "model_name": "ProgressStyleModel",
          "model_module_version": "1.5.0",
          "state": {
            "_model_module": "@jupyter-widgets/controls",
            "_model_module_version": "1.5.0",
            "_model_name": "ProgressStyleModel",
            "_view_count": null,
            "_view_module": "@jupyter-widgets/base",
            "_view_module_version": "1.2.0",
            "_view_name": "StyleView",
            "bar_color": null,
            "description_width": ""
          }
        },
        "420f9333c0e34888b209868b03d4e330": {
          "model_module": "@jupyter-widgets/base",
          "model_name": "LayoutModel",
          "model_module_version": "1.2.0",
          "state": {
            "_model_module": "@jupyter-widgets/base",
            "_model_module_version": "1.2.0",
            "_model_name": "LayoutModel",
            "_view_count": null,
            "_view_module": "@jupyter-widgets/base",
            "_view_module_version": "1.2.0",
            "_view_name": "LayoutView",
            "align_content": null,
            "align_items": null,
            "align_self": null,
            "border": null,
            "bottom": null,
            "display": null,
            "flex": null,
            "flex_flow": null,
            "grid_area": null,
            "grid_auto_columns": null,
            "grid_auto_flow": null,
            "grid_auto_rows": null,
            "grid_column": null,
            "grid_gap": null,
            "grid_row": null,
            "grid_template_areas": null,
            "grid_template_columns": null,
            "grid_template_rows": null,
            "height": null,
            "justify_content": null,
            "justify_items": null,
            "left": null,
            "margin": null,
            "max_height": null,
            "max_width": null,
            "min_height": null,
            "min_width": null,
            "object_fit": null,
            "object_position": null,
            "order": null,
            "overflow": null,
            "overflow_x": null,
            "overflow_y": null,
            "padding": null,
            "right": null,
            "top": null,
            "visibility": null,
            "width": null
          }
        },
        "b849ff8635904f59b45ae2905e7f5c36": {
          "model_module": "@jupyter-widgets/controls",
          "model_name": "DescriptionStyleModel",
          "model_module_version": "1.5.0",
          "state": {
            "_model_module": "@jupyter-widgets/controls",
            "_model_module_version": "1.5.0",
            "_model_name": "DescriptionStyleModel",
            "_view_count": null,
            "_view_module": "@jupyter-widgets/base",
            "_view_module_version": "1.2.0",
            "_view_name": "StyleView",
            "description_width": ""
          }
        },
        "c623df94cbb24703996f93693a8e7f16": {
          "model_module": "@jupyter-widgets/controls",
          "model_name": "HBoxModel",
          "model_module_version": "1.5.0",
          "state": {
            "_dom_classes": [],
            "_model_module": "@jupyter-widgets/controls",
            "_model_module_version": "1.5.0",
            "_model_name": "HBoxModel",
            "_view_count": null,
            "_view_module": "@jupyter-widgets/controls",
            "_view_module_version": "1.5.0",
            "_view_name": "HBoxView",
            "box_style": "",
            "children": [
              "IPY_MODEL_0df96e9434e9490f9849cb40a3ac0777",
              "IPY_MODEL_1e546f5c736c4f7b8f74aa1d9239ac7d",
              "IPY_MODEL_708987bb63d3424b8b3d270b3fd8e55f"
            ],
            "layout": "IPY_MODEL_1d25b241a8784e3cb1d74a9f6f7e85f8"
          }
        },
        "0df96e9434e9490f9849cb40a3ac0777": {
          "model_module": "@jupyter-widgets/controls",
          "model_name": "HTMLModel",
          "model_module_version": "1.5.0",
          "state": {
            "_dom_classes": [],
            "_model_module": "@jupyter-widgets/controls",
            "_model_module_version": "1.5.0",
            "_model_name": "HTMLModel",
            "_view_count": null,
            "_view_module": "@jupyter-widgets/controls",
            "_view_module_version": "1.5.0",
            "_view_name": "HTMLView",
            "description": "",
            "description_tooltip": null,
            "layout": "IPY_MODEL_1e5ef0a493f44485930f52094968a6ab",
            "placeholder": "​",
            "style": "IPY_MODEL_999c8f6ea6b44bb98792fae496680b3a",
            "value": "100%"
          }
        },
        "1e546f5c736c4f7b8f74aa1d9239ac7d": {
          "model_module": "@jupyter-widgets/controls",
          "model_name": "FloatProgressModel",
          "model_module_version": "1.5.0",
          "state": {
            "_dom_classes": [],
            "_model_module": "@jupyter-widgets/controls",
            "_model_module_version": "1.5.0",
            "_model_name": "FloatProgressModel",
            "_view_count": null,
            "_view_module": "@jupyter-widgets/controls",
            "_view_module_version": "1.5.0",
            "_view_name": "ProgressView",
            "bar_style": "success",
            "description": "",
            "description_tooltip": null,
            "layout": "IPY_MODEL_ccdb12fb8c4b4c9c9fe6aeaffea95220",
            "max": 100,
            "min": 0,
            "orientation": "horizontal",
            "style": "IPY_MODEL_49330e255a6943c29ebdf57f047894ee",
            "value": 100
          }
        },
        "708987bb63d3424b8b3d270b3fd8e55f": {
          "model_module": "@jupyter-widgets/controls",
          "model_name": "HTMLModel",
          "model_module_version": "1.5.0",
          "state": {
            "_dom_classes": [],
            "_model_module": "@jupyter-widgets/controls",
            "_model_module_version": "1.5.0",
            "_model_name": "HTMLModel",
            "_view_count": null,
            "_view_module": "@jupyter-widgets/controls",
            "_view_module_version": "1.5.0",
            "_view_name": "HTMLView",
            "description": "",
            "description_tooltip": null,
            "layout": "IPY_MODEL_f184b77573c54693b0578c5e62e66f13",
            "placeholder": "​",
            "style": "IPY_MODEL_a0ec4de1ceac4924ab2cf55eb02356c9",
            "value": " 100/100 [00:00&lt;00:00, 5294.64it/s]"
          }
        },
        "1d25b241a8784e3cb1d74a9f6f7e85f8": {
          "model_module": "@jupyter-widgets/base",
          "model_name": "LayoutModel",
          "model_module_version": "1.2.0",
          "state": {
            "_model_module": "@jupyter-widgets/base",
            "_model_module_version": "1.2.0",
            "_model_name": "LayoutModel",
            "_view_count": null,
            "_view_module": "@jupyter-widgets/base",
            "_view_module_version": "1.2.0",
            "_view_name": "LayoutView",
            "align_content": null,
            "align_items": null,
            "align_self": null,
            "border": null,
            "bottom": null,
            "display": null,
            "flex": null,
            "flex_flow": null,
            "grid_area": null,
            "grid_auto_columns": null,
            "grid_auto_flow": null,
            "grid_auto_rows": null,
            "grid_column": null,
            "grid_gap": null,
            "grid_row": null,
            "grid_template_areas": null,
            "grid_template_columns": null,
            "grid_template_rows": null,
            "height": null,
            "justify_content": null,
            "justify_items": null,
            "left": null,
            "margin": null,
            "max_height": null,
            "max_width": null,
            "min_height": null,
            "min_width": null,
            "object_fit": null,
            "object_position": null,
            "order": null,
            "overflow": null,
            "overflow_x": null,
            "overflow_y": null,
            "padding": null,
            "right": null,
            "top": null,
            "visibility": null,
            "width": null
          }
        },
        "1e5ef0a493f44485930f52094968a6ab": {
          "model_module": "@jupyter-widgets/base",
          "model_name": "LayoutModel",
          "model_module_version": "1.2.0",
          "state": {
            "_model_module": "@jupyter-widgets/base",
            "_model_module_version": "1.2.0",
            "_model_name": "LayoutModel",
            "_view_count": null,
            "_view_module": "@jupyter-widgets/base",
            "_view_module_version": "1.2.0",
            "_view_name": "LayoutView",
            "align_content": null,
            "align_items": null,
            "align_self": null,
            "border": null,
            "bottom": null,
            "display": null,
            "flex": null,
            "flex_flow": null,
            "grid_area": null,
            "grid_auto_columns": null,
            "grid_auto_flow": null,
            "grid_auto_rows": null,
            "grid_column": null,
            "grid_gap": null,
            "grid_row": null,
            "grid_template_areas": null,
            "grid_template_columns": null,
            "grid_template_rows": null,
            "height": null,
            "justify_content": null,
            "justify_items": null,
            "left": null,
            "margin": null,
            "max_height": null,
            "max_width": null,
            "min_height": null,
            "min_width": null,
            "object_fit": null,
            "object_position": null,
            "order": null,
            "overflow": null,
            "overflow_x": null,
            "overflow_y": null,
            "padding": null,
            "right": null,
            "top": null,
            "visibility": null,
            "width": null
          }
        },
        "999c8f6ea6b44bb98792fae496680b3a": {
          "model_module": "@jupyter-widgets/controls",
          "model_name": "DescriptionStyleModel",
          "model_module_version": "1.5.0",
          "state": {
            "_model_module": "@jupyter-widgets/controls",
            "_model_module_version": "1.5.0",
            "_model_name": "DescriptionStyleModel",
            "_view_count": null,
            "_view_module": "@jupyter-widgets/base",
            "_view_module_version": "1.2.0",
            "_view_name": "StyleView",
            "description_width": ""
          }
        },
        "ccdb12fb8c4b4c9c9fe6aeaffea95220": {
          "model_module": "@jupyter-widgets/base",
          "model_name": "LayoutModel",
          "model_module_version": "1.2.0",
          "state": {
            "_model_module": "@jupyter-widgets/base",
            "_model_module_version": "1.2.0",
            "_model_name": "LayoutModel",
            "_view_count": null,
            "_view_module": "@jupyter-widgets/base",
            "_view_module_version": "1.2.0",
            "_view_name": "LayoutView",
            "align_content": null,
            "align_items": null,
            "align_self": null,
            "border": null,
            "bottom": null,
            "display": null,
            "flex": null,
            "flex_flow": null,
            "grid_area": null,
            "grid_auto_columns": null,
            "grid_auto_flow": null,
            "grid_auto_rows": null,
            "grid_column": null,
            "grid_gap": null,
            "grid_row": null,
            "grid_template_areas": null,
            "grid_template_columns": null,
            "grid_template_rows": null,
            "height": null,
            "justify_content": null,
            "justify_items": null,
            "left": null,
            "margin": null,
            "max_height": null,
            "max_width": null,
            "min_height": null,
            "min_width": null,
            "object_fit": null,
            "object_position": null,
            "order": null,
            "overflow": null,
            "overflow_x": null,
            "overflow_y": null,
            "padding": null,
            "right": null,
            "top": null,
            "visibility": null,
            "width": null
          }
        },
        "49330e255a6943c29ebdf57f047894ee": {
          "model_module": "@jupyter-widgets/controls",
          "model_name": "ProgressStyleModel",
          "model_module_version": "1.5.0",
          "state": {
            "_model_module": "@jupyter-widgets/controls",
            "_model_module_version": "1.5.0",
            "_model_name": "ProgressStyleModel",
            "_view_count": null,
            "_view_module": "@jupyter-widgets/base",
            "_view_module_version": "1.2.0",
            "_view_name": "StyleView",
            "bar_color": null,
            "description_width": ""
          }
        },
        "f184b77573c54693b0578c5e62e66f13": {
          "model_module": "@jupyter-widgets/base",
          "model_name": "LayoutModel",
          "model_module_version": "1.2.0",
          "state": {
            "_model_module": "@jupyter-widgets/base",
            "_model_module_version": "1.2.0",
            "_model_name": "LayoutModel",
            "_view_count": null,
            "_view_module": "@jupyter-widgets/base",
            "_view_module_version": "1.2.0",
            "_view_name": "LayoutView",
            "align_content": null,
            "align_items": null,
            "align_self": null,
            "border": null,
            "bottom": null,
            "display": null,
            "flex": null,
            "flex_flow": null,
            "grid_area": null,
            "grid_auto_columns": null,
            "grid_auto_flow": null,
            "grid_auto_rows": null,
            "grid_column": null,
            "grid_gap": null,
            "grid_row": null,
            "grid_template_areas": null,
            "grid_template_columns": null,
            "grid_template_rows": null,
            "height": null,
            "justify_content": null,
            "justify_items": null,
            "left": null,
            "margin": null,
            "max_height": null,
            "max_width": null,
            "min_height": null,
            "min_width": null,
            "object_fit": null,
            "object_position": null,
            "order": null,
            "overflow": null,
            "overflow_x": null,
            "overflow_y": null,
            "padding": null,
            "right": null,
            "top": null,
            "visibility": null,
            "width": null
          }
        },
        "a0ec4de1ceac4924ab2cf55eb02356c9": {
          "model_module": "@jupyter-widgets/controls",
          "model_name": "DescriptionStyleModel",
          "model_module_version": "1.5.0",
          "state": {
            "_model_module": "@jupyter-widgets/controls",
            "_model_module_version": "1.5.0",
            "_model_name": "DescriptionStyleModel",
            "_view_count": null,
            "_view_module": "@jupyter-widgets/base",
            "_view_module_version": "1.2.0",
            "_view_name": "StyleView",
            "description_width": ""
          }
        },
        "fa4d8b45c47341b5951dcd6b465e3148": {
          "model_module": "@jupyter-widgets/controls",
          "model_name": "HBoxModel",
          "model_module_version": "1.5.0",
          "state": {
            "_dom_classes": [],
            "_model_module": "@jupyter-widgets/controls",
            "_model_module_version": "1.5.0",
            "_model_name": "HBoxModel",
            "_view_count": null,
            "_view_module": "@jupyter-widgets/controls",
            "_view_module_version": "1.5.0",
            "_view_name": "HBoxView",
            "box_style": "",
            "children": [
              "IPY_MODEL_bdacb374e6f04d19a34352e3d7dc0cea",
              "IPY_MODEL_ae3fb68f8cd54430b26eb70b03559c96",
              "IPY_MODEL_b57ee8dc5f5b4651abcc6e4783337747"
            ],
            "layout": "IPY_MODEL_df5bf7009111499483bf45dabd7a5a8f"
          }
        },
        "bdacb374e6f04d19a34352e3d7dc0cea": {
          "model_module": "@jupyter-widgets/controls",
          "model_name": "HTMLModel",
          "model_module_version": "1.5.0",
          "state": {
            "_dom_classes": [],
            "_model_module": "@jupyter-widgets/controls",
            "_model_module_version": "1.5.0",
            "_model_name": "HTMLModel",
            "_view_count": null,
            "_view_module": "@jupyter-widgets/controls",
            "_view_module_version": "1.5.0",
            "_view_name": "HTMLView",
            "description": "",
            "description_tooltip": null,
            "layout": "IPY_MODEL_88ae9e22e05547c68e733b588eec0282",
            "placeholder": "​",
            "style": "IPY_MODEL_9f5ce5623a5b4c89adf0e962a5046c20",
            "value": "100%"
          }
        },
        "ae3fb68f8cd54430b26eb70b03559c96": {
          "model_module": "@jupyter-widgets/controls",
          "model_name": "FloatProgressModel",
          "model_module_version": "1.5.0",
          "state": {
            "_dom_classes": [],
            "_model_module": "@jupyter-widgets/controls",
            "_model_module_version": "1.5.0",
            "_model_name": "FloatProgressModel",
            "_view_count": null,
            "_view_module": "@jupyter-widgets/controls",
            "_view_module_version": "1.5.0",
            "_view_name": "ProgressView",
            "bar_style": "success",
            "description": "",
            "description_tooltip": null,
            "layout": "IPY_MODEL_1802e0bfd42f4226b111e0095fa4f2a0",
            "max": 100,
            "min": 0,
            "orientation": "horizontal",
            "style": "IPY_MODEL_03cca80308944aa28b639878f5f63f79",
            "value": 100
          }
        },
        "b57ee8dc5f5b4651abcc6e4783337747": {
          "model_module": "@jupyter-widgets/controls",
          "model_name": "HTMLModel",
          "model_module_version": "1.5.0",
          "state": {
            "_dom_classes": [],
            "_model_module": "@jupyter-widgets/controls",
            "_model_module_version": "1.5.0",
            "_model_name": "HTMLModel",
            "_view_count": null,
            "_view_module": "@jupyter-widgets/controls",
            "_view_module_version": "1.5.0",
            "_view_name": "HTMLView",
            "description": "",
            "description_tooltip": null,
            "layout": "IPY_MODEL_bde93c001f7d46bc90b1b190ac1e3de8",
            "placeholder": "​",
            "style": "IPY_MODEL_4ffeaca1e99a4552a5ab5953da3d2964",
            "value": " 100/100 [00:00&lt;00:00, 5044.75it/s]"
          }
        },
        "df5bf7009111499483bf45dabd7a5a8f": {
          "model_module": "@jupyter-widgets/base",
          "model_name": "LayoutModel",
          "model_module_version": "1.2.0",
          "state": {
            "_model_module": "@jupyter-widgets/base",
            "_model_module_version": "1.2.0",
            "_model_name": "LayoutModel",
            "_view_count": null,
            "_view_module": "@jupyter-widgets/base",
            "_view_module_version": "1.2.0",
            "_view_name": "LayoutView",
            "align_content": null,
            "align_items": null,
            "align_self": null,
            "border": null,
            "bottom": null,
            "display": null,
            "flex": null,
            "flex_flow": null,
            "grid_area": null,
            "grid_auto_columns": null,
            "grid_auto_flow": null,
            "grid_auto_rows": null,
            "grid_column": null,
            "grid_gap": null,
            "grid_row": null,
            "grid_template_areas": null,
            "grid_template_columns": null,
            "grid_template_rows": null,
            "height": null,
            "justify_content": null,
            "justify_items": null,
            "left": null,
            "margin": null,
            "max_height": null,
            "max_width": null,
            "min_height": null,
            "min_width": null,
            "object_fit": null,
            "object_position": null,
            "order": null,
            "overflow": null,
            "overflow_x": null,
            "overflow_y": null,
            "padding": null,
            "right": null,
            "top": null,
            "visibility": null,
            "width": null
          }
        },
        "88ae9e22e05547c68e733b588eec0282": {
          "model_module": "@jupyter-widgets/base",
          "model_name": "LayoutModel",
          "model_module_version": "1.2.0",
          "state": {
            "_model_module": "@jupyter-widgets/base",
            "_model_module_version": "1.2.0",
            "_model_name": "LayoutModel",
            "_view_count": null,
            "_view_module": "@jupyter-widgets/base",
            "_view_module_version": "1.2.0",
            "_view_name": "LayoutView",
            "align_content": null,
            "align_items": null,
            "align_self": null,
            "border": null,
            "bottom": null,
            "display": null,
            "flex": null,
            "flex_flow": null,
            "grid_area": null,
            "grid_auto_columns": null,
            "grid_auto_flow": null,
            "grid_auto_rows": null,
            "grid_column": null,
            "grid_gap": null,
            "grid_row": null,
            "grid_template_areas": null,
            "grid_template_columns": null,
            "grid_template_rows": null,
            "height": null,
            "justify_content": null,
            "justify_items": null,
            "left": null,
            "margin": null,
            "max_height": null,
            "max_width": null,
            "min_height": null,
            "min_width": null,
            "object_fit": null,
            "object_position": null,
            "order": null,
            "overflow": null,
            "overflow_x": null,
            "overflow_y": null,
            "padding": null,
            "right": null,
            "top": null,
            "visibility": null,
            "width": null
          }
        },
        "9f5ce5623a5b4c89adf0e962a5046c20": {
          "model_module": "@jupyter-widgets/controls",
          "model_name": "DescriptionStyleModel",
          "model_module_version": "1.5.0",
          "state": {
            "_model_module": "@jupyter-widgets/controls",
            "_model_module_version": "1.5.0",
            "_model_name": "DescriptionStyleModel",
            "_view_count": null,
            "_view_module": "@jupyter-widgets/base",
            "_view_module_version": "1.2.0",
            "_view_name": "StyleView",
            "description_width": ""
          }
        },
        "1802e0bfd42f4226b111e0095fa4f2a0": {
          "model_module": "@jupyter-widgets/base",
          "model_name": "LayoutModel",
          "model_module_version": "1.2.0",
          "state": {
            "_model_module": "@jupyter-widgets/base",
            "_model_module_version": "1.2.0",
            "_model_name": "LayoutModel",
            "_view_count": null,
            "_view_module": "@jupyter-widgets/base",
            "_view_module_version": "1.2.0",
            "_view_name": "LayoutView",
            "align_content": null,
            "align_items": null,
            "align_self": null,
            "border": null,
            "bottom": null,
            "display": null,
            "flex": null,
            "flex_flow": null,
            "grid_area": null,
            "grid_auto_columns": null,
            "grid_auto_flow": null,
            "grid_auto_rows": null,
            "grid_column": null,
            "grid_gap": null,
            "grid_row": null,
            "grid_template_areas": null,
            "grid_template_columns": null,
            "grid_template_rows": null,
            "height": null,
            "justify_content": null,
            "justify_items": null,
            "left": null,
            "margin": null,
            "max_height": null,
            "max_width": null,
            "min_height": null,
            "min_width": null,
            "object_fit": null,
            "object_position": null,
            "order": null,
            "overflow": null,
            "overflow_x": null,
            "overflow_y": null,
            "padding": null,
            "right": null,
            "top": null,
            "visibility": null,
            "width": null
          }
        },
        "03cca80308944aa28b639878f5f63f79": {
          "model_module": "@jupyter-widgets/controls",
          "model_name": "ProgressStyleModel",
          "model_module_version": "1.5.0",
          "state": {
            "_model_module": "@jupyter-widgets/controls",
            "_model_module_version": "1.5.0",
            "_model_name": "ProgressStyleModel",
            "_view_count": null,
            "_view_module": "@jupyter-widgets/base",
            "_view_module_version": "1.2.0",
            "_view_name": "StyleView",
            "bar_color": null,
            "description_width": ""
          }
        },
        "bde93c001f7d46bc90b1b190ac1e3de8": {
          "model_module": "@jupyter-widgets/base",
          "model_name": "LayoutModel",
          "model_module_version": "1.2.0",
          "state": {
            "_model_module": "@jupyter-widgets/base",
            "_model_module_version": "1.2.0",
            "_model_name": "LayoutModel",
            "_view_count": null,
            "_view_module": "@jupyter-widgets/base",
            "_view_module_version": "1.2.0",
            "_view_name": "LayoutView",
            "align_content": null,
            "align_items": null,
            "align_self": null,
            "border": null,
            "bottom": null,
            "display": null,
            "flex": null,
            "flex_flow": null,
            "grid_area": null,
            "grid_auto_columns": null,
            "grid_auto_flow": null,
            "grid_auto_rows": null,
            "grid_column": null,
            "grid_gap": null,
            "grid_row": null,
            "grid_template_areas": null,
            "grid_template_columns": null,
            "grid_template_rows": null,
            "height": null,
            "justify_content": null,
            "justify_items": null,
            "left": null,
            "margin": null,
            "max_height": null,
            "max_width": null,
            "min_height": null,
            "min_width": null,
            "object_fit": null,
            "object_position": null,
            "order": null,
            "overflow": null,
            "overflow_x": null,
            "overflow_y": null,
            "padding": null,
            "right": null,
            "top": null,
            "visibility": null,
            "width": null
          }
        },
        "4ffeaca1e99a4552a5ab5953da3d2964": {
          "model_module": "@jupyter-widgets/controls",
          "model_name": "DescriptionStyleModel",
          "model_module_version": "1.5.0",
          "state": {
            "_model_module": "@jupyter-widgets/controls",
            "_model_module_version": "1.5.0",
            "_model_name": "DescriptionStyleModel",
            "_view_count": null,
            "_view_module": "@jupyter-widgets/base",
            "_view_module_version": "1.2.0",
            "_view_name": "StyleView",
            "description_width": ""
          }
        },
        "7fd1da03760348f6875337c0287faed7": {
          "model_module": "@jupyter-widgets/controls",
          "model_name": "HBoxModel",
          "model_module_version": "1.5.0",
          "state": {
            "_dom_classes": [],
            "_model_module": "@jupyter-widgets/controls",
            "_model_module_version": "1.5.0",
            "_model_name": "HBoxModel",
            "_view_count": null,
            "_view_module": "@jupyter-widgets/controls",
            "_view_module_version": "1.5.0",
            "_view_name": "HBoxView",
            "box_style": "",
            "children": [
              "IPY_MODEL_02ce6b00a23042ddb200e1ece0844a95",
              "IPY_MODEL_3a20fa27aeed4ee1ab0069fb8f5ba0f1",
              "IPY_MODEL_83a61f4779694d68a8e03ca0b35b89f0"
            ],
            "layout": "IPY_MODEL_e9951bd227f74dff9692cb371d75bf47"
          }
        },
        "02ce6b00a23042ddb200e1ece0844a95": {
          "model_module": "@jupyter-widgets/controls",
          "model_name": "HTMLModel",
          "model_module_version": "1.5.0",
          "state": {
            "_dom_classes": [],
            "_model_module": "@jupyter-widgets/controls",
            "_model_module_version": "1.5.0",
            "_model_name": "HTMLModel",
            "_view_count": null,
            "_view_module": "@jupyter-widgets/controls",
            "_view_module_version": "1.5.0",
            "_view_name": "HTMLView",
            "description": "",
            "description_tooltip": null,
            "layout": "IPY_MODEL_925ad94adf264593b3d73f435b0b84d4",
            "placeholder": "​",
            "style": "IPY_MODEL_541d31f7abc94c1189560a6e3173ec6b",
            "value": "100%"
          }
        },
        "3a20fa27aeed4ee1ab0069fb8f5ba0f1": {
          "model_module": "@jupyter-widgets/controls",
          "model_name": "FloatProgressModel",
          "model_module_version": "1.5.0",
          "state": {
            "_dom_classes": [],
            "_model_module": "@jupyter-widgets/controls",
            "_model_module_version": "1.5.0",
            "_model_name": "FloatProgressModel",
            "_view_count": null,
            "_view_module": "@jupyter-widgets/controls",
            "_view_module_version": "1.5.0",
            "_view_name": "ProgressView",
            "bar_style": "success",
            "description": "",
            "description_tooltip": null,
            "layout": "IPY_MODEL_d45f7ec278044634b20cafc27028b1b5",
            "max": 100,
            "min": 0,
            "orientation": "horizontal",
            "style": "IPY_MODEL_f95a218c80314e4aa8347a8796938f0e",
            "value": 100
          }
        },
        "83a61f4779694d68a8e03ca0b35b89f0": {
          "model_module": "@jupyter-widgets/controls",
          "model_name": "HTMLModel",
          "model_module_version": "1.5.0",
          "state": {
            "_dom_classes": [],
            "_model_module": "@jupyter-widgets/controls",
            "_model_module_version": "1.5.0",
            "_model_name": "HTMLModel",
            "_view_count": null,
            "_view_module": "@jupyter-widgets/controls",
            "_view_module_version": "1.5.0",
            "_view_name": "HTMLView",
            "description": "",
            "description_tooltip": null,
            "layout": "IPY_MODEL_5ab0b389e9b1417eacabb5bbdbd44eed",
            "placeholder": "​",
            "style": "IPY_MODEL_1682e8d2442c4dd3859da3f2c5eb9e70",
            "value": " 100/100 [00:00&lt;00:00, 5050.40it/s]"
          }
        },
        "e9951bd227f74dff9692cb371d75bf47": {
          "model_module": "@jupyter-widgets/base",
          "model_name": "LayoutModel",
          "model_module_version": "1.2.0",
          "state": {
            "_model_module": "@jupyter-widgets/base",
            "_model_module_version": "1.2.0",
            "_model_name": "LayoutModel",
            "_view_count": null,
            "_view_module": "@jupyter-widgets/base",
            "_view_module_version": "1.2.0",
            "_view_name": "LayoutView",
            "align_content": null,
            "align_items": null,
            "align_self": null,
            "border": null,
            "bottom": null,
            "display": null,
            "flex": null,
            "flex_flow": null,
            "grid_area": null,
            "grid_auto_columns": null,
            "grid_auto_flow": null,
            "grid_auto_rows": null,
            "grid_column": null,
            "grid_gap": null,
            "grid_row": null,
            "grid_template_areas": null,
            "grid_template_columns": null,
            "grid_template_rows": null,
            "height": null,
            "justify_content": null,
            "justify_items": null,
            "left": null,
            "margin": null,
            "max_height": null,
            "max_width": null,
            "min_height": null,
            "min_width": null,
            "object_fit": null,
            "object_position": null,
            "order": null,
            "overflow": null,
            "overflow_x": null,
            "overflow_y": null,
            "padding": null,
            "right": null,
            "top": null,
            "visibility": null,
            "width": null
          }
        },
        "925ad94adf264593b3d73f435b0b84d4": {
          "model_module": "@jupyter-widgets/base",
          "model_name": "LayoutModel",
          "model_module_version": "1.2.0",
          "state": {
            "_model_module": "@jupyter-widgets/base",
            "_model_module_version": "1.2.0",
            "_model_name": "LayoutModel",
            "_view_count": null,
            "_view_module": "@jupyter-widgets/base",
            "_view_module_version": "1.2.0",
            "_view_name": "LayoutView",
            "align_content": null,
            "align_items": null,
            "align_self": null,
            "border": null,
            "bottom": null,
            "display": null,
            "flex": null,
            "flex_flow": null,
            "grid_area": null,
            "grid_auto_columns": null,
            "grid_auto_flow": null,
            "grid_auto_rows": null,
            "grid_column": null,
            "grid_gap": null,
            "grid_row": null,
            "grid_template_areas": null,
            "grid_template_columns": null,
            "grid_template_rows": null,
            "height": null,
            "justify_content": null,
            "justify_items": null,
            "left": null,
            "margin": null,
            "max_height": null,
            "max_width": null,
            "min_height": null,
            "min_width": null,
            "object_fit": null,
            "object_position": null,
            "order": null,
            "overflow": null,
            "overflow_x": null,
            "overflow_y": null,
            "padding": null,
            "right": null,
            "top": null,
            "visibility": null,
            "width": null
          }
        },
        "541d31f7abc94c1189560a6e3173ec6b": {
          "model_module": "@jupyter-widgets/controls",
          "model_name": "DescriptionStyleModel",
          "model_module_version": "1.5.0",
          "state": {
            "_model_module": "@jupyter-widgets/controls",
            "_model_module_version": "1.5.0",
            "_model_name": "DescriptionStyleModel",
            "_view_count": null,
            "_view_module": "@jupyter-widgets/base",
            "_view_module_version": "1.2.0",
            "_view_name": "StyleView",
            "description_width": ""
          }
        },
        "d45f7ec278044634b20cafc27028b1b5": {
          "model_module": "@jupyter-widgets/base",
          "model_name": "LayoutModel",
          "model_module_version": "1.2.0",
          "state": {
            "_model_module": "@jupyter-widgets/base",
            "_model_module_version": "1.2.0",
            "_model_name": "LayoutModel",
            "_view_count": null,
            "_view_module": "@jupyter-widgets/base",
            "_view_module_version": "1.2.0",
            "_view_name": "LayoutView",
            "align_content": null,
            "align_items": null,
            "align_self": null,
            "border": null,
            "bottom": null,
            "display": null,
            "flex": null,
            "flex_flow": null,
            "grid_area": null,
            "grid_auto_columns": null,
            "grid_auto_flow": null,
            "grid_auto_rows": null,
            "grid_column": null,
            "grid_gap": null,
            "grid_row": null,
            "grid_template_areas": null,
            "grid_template_columns": null,
            "grid_template_rows": null,
            "height": null,
            "justify_content": null,
            "justify_items": null,
            "left": null,
            "margin": null,
            "max_height": null,
            "max_width": null,
            "min_height": null,
            "min_width": null,
            "object_fit": null,
            "object_position": null,
            "order": null,
            "overflow": null,
            "overflow_x": null,
            "overflow_y": null,
            "padding": null,
            "right": null,
            "top": null,
            "visibility": null,
            "width": null
          }
        },
        "f95a218c80314e4aa8347a8796938f0e": {
          "model_module": "@jupyter-widgets/controls",
          "model_name": "ProgressStyleModel",
          "model_module_version": "1.5.0",
          "state": {
            "_model_module": "@jupyter-widgets/controls",
            "_model_module_version": "1.5.0",
            "_model_name": "ProgressStyleModel",
            "_view_count": null,
            "_view_module": "@jupyter-widgets/base",
            "_view_module_version": "1.2.0",
            "_view_name": "StyleView",
            "bar_color": null,
            "description_width": ""
          }
        },
        "5ab0b389e9b1417eacabb5bbdbd44eed": {
          "model_module": "@jupyter-widgets/base",
          "model_name": "LayoutModel",
          "model_module_version": "1.2.0",
          "state": {
            "_model_module": "@jupyter-widgets/base",
            "_model_module_version": "1.2.0",
            "_model_name": "LayoutModel",
            "_view_count": null,
            "_view_module": "@jupyter-widgets/base",
            "_view_module_version": "1.2.0",
            "_view_name": "LayoutView",
            "align_content": null,
            "align_items": null,
            "align_self": null,
            "border": null,
            "bottom": null,
            "display": null,
            "flex": null,
            "flex_flow": null,
            "grid_area": null,
            "grid_auto_columns": null,
            "grid_auto_flow": null,
            "grid_auto_rows": null,
            "grid_column": null,
            "grid_gap": null,
            "grid_row": null,
            "grid_template_areas": null,
            "grid_template_columns": null,
            "grid_template_rows": null,
            "height": null,
            "justify_content": null,
            "justify_items": null,
            "left": null,
            "margin": null,
            "max_height": null,
            "max_width": null,
            "min_height": null,
            "min_width": null,
            "object_fit": null,
            "object_position": null,
            "order": null,
            "overflow": null,
            "overflow_x": null,
            "overflow_y": null,
            "padding": null,
            "right": null,
            "top": null,
            "visibility": null,
            "width": null
          }
        },
        "1682e8d2442c4dd3859da3f2c5eb9e70": {
          "model_module": "@jupyter-widgets/controls",
          "model_name": "DescriptionStyleModel",
          "model_module_version": "1.5.0",
          "state": {
            "_model_module": "@jupyter-widgets/controls",
            "_model_module_version": "1.5.0",
            "_model_name": "DescriptionStyleModel",
            "_view_count": null,
            "_view_module": "@jupyter-widgets/base",
            "_view_module_version": "1.2.0",
            "_view_name": "StyleView",
            "description_width": ""
          }
        },
        "889cf3bfc7ec4cccb171bf5fef29e8b0": {
          "model_module": "@jupyter-widgets/controls",
          "model_name": "HBoxModel",
          "model_module_version": "1.5.0",
          "state": {
            "_dom_classes": [],
            "_model_module": "@jupyter-widgets/controls",
            "_model_module_version": "1.5.0",
            "_model_name": "HBoxModel",
            "_view_count": null,
            "_view_module": "@jupyter-widgets/controls",
            "_view_module_version": "1.5.0",
            "_view_name": "HBoxView",
            "box_style": "",
            "children": [
              "IPY_MODEL_74a57840b2e443a79814b4e9fc0bc490",
              "IPY_MODEL_584f5163a8dd4e0290eaea0e46f80254",
              "IPY_MODEL_c496f5dc1bb44bd5bfe9cd912737f38e"
            ],
            "layout": "IPY_MODEL_c43dc70d8ada47078784624d5b8217f0"
          }
        },
        "74a57840b2e443a79814b4e9fc0bc490": {
          "model_module": "@jupyter-widgets/controls",
          "model_name": "HTMLModel",
          "model_module_version": "1.5.0",
          "state": {
            "_dom_classes": [],
            "_model_module": "@jupyter-widgets/controls",
            "_model_module_version": "1.5.0",
            "_model_name": "HTMLModel",
            "_view_count": null,
            "_view_module": "@jupyter-widgets/controls",
            "_view_module_version": "1.5.0",
            "_view_name": "HTMLView",
            "description": "",
            "description_tooltip": null,
            "layout": "IPY_MODEL_d4d7488c0d304988bce3b4f41fa34496",
            "placeholder": "​",
            "style": "IPY_MODEL_45986c29ee10469185980e12e083ae9f",
            "value": "100%"
          }
        },
        "584f5163a8dd4e0290eaea0e46f80254": {
          "model_module": "@jupyter-widgets/controls",
          "model_name": "FloatProgressModel",
          "model_module_version": "1.5.0",
          "state": {
            "_dom_classes": [],
            "_model_module": "@jupyter-widgets/controls",
            "_model_module_version": "1.5.0",
            "_model_name": "FloatProgressModel",
            "_view_count": null,
            "_view_module": "@jupyter-widgets/controls",
            "_view_module_version": "1.5.0",
            "_view_name": "ProgressView",
            "bar_style": "success",
            "description": "",
            "description_tooltip": null,
            "layout": "IPY_MODEL_3a158fb1cb634c3782918c5b91d5e017",
            "max": 100,
            "min": 0,
            "orientation": "horizontal",
            "style": "IPY_MODEL_8b20fc378c4e45418ce037a11d32498a",
            "value": 100
          }
        },
        "c496f5dc1bb44bd5bfe9cd912737f38e": {
          "model_module": "@jupyter-widgets/controls",
          "model_name": "HTMLModel",
          "model_module_version": "1.5.0",
          "state": {
            "_dom_classes": [],
            "_model_module": "@jupyter-widgets/controls",
            "_model_module_version": "1.5.0",
            "_model_name": "HTMLModel",
            "_view_count": null,
            "_view_module": "@jupyter-widgets/controls",
            "_view_module_version": "1.5.0",
            "_view_name": "HTMLView",
            "description": "",
            "description_tooltip": null,
            "layout": "IPY_MODEL_72b19953aead4a84989e7af8e91e9e3b",
            "placeholder": "​",
            "style": "IPY_MODEL_aa98cc051c694fcaaac3f04b4b0fefad",
            "value": " 100/100 [00:00&lt;00:00, 4130.33it/s]"
          }
        },
        "c43dc70d8ada47078784624d5b8217f0": {
          "model_module": "@jupyter-widgets/base",
          "model_name": "LayoutModel",
          "model_module_version": "1.2.0",
          "state": {
            "_model_module": "@jupyter-widgets/base",
            "_model_module_version": "1.2.0",
            "_model_name": "LayoutModel",
            "_view_count": null,
            "_view_module": "@jupyter-widgets/base",
            "_view_module_version": "1.2.0",
            "_view_name": "LayoutView",
            "align_content": null,
            "align_items": null,
            "align_self": null,
            "border": null,
            "bottom": null,
            "display": null,
            "flex": null,
            "flex_flow": null,
            "grid_area": null,
            "grid_auto_columns": null,
            "grid_auto_flow": null,
            "grid_auto_rows": null,
            "grid_column": null,
            "grid_gap": null,
            "grid_row": null,
            "grid_template_areas": null,
            "grid_template_columns": null,
            "grid_template_rows": null,
            "height": null,
            "justify_content": null,
            "justify_items": null,
            "left": null,
            "margin": null,
            "max_height": null,
            "max_width": null,
            "min_height": null,
            "min_width": null,
            "object_fit": null,
            "object_position": null,
            "order": null,
            "overflow": null,
            "overflow_x": null,
            "overflow_y": null,
            "padding": null,
            "right": null,
            "top": null,
            "visibility": null,
            "width": null
          }
        },
        "d4d7488c0d304988bce3b4f41fa34496": {
          "model_module": "@jupyter-widgets/base",
          "model_name": "LayoutModel",
          "model_module_version": "1.2.0",
          "state": {
            "_model_module": "@jupyter-widgets/base",
            "_model_module_version": "1.2.0",
            "_model_name": "LayoutModel",
            "_view_count": null,
            "_view_module": "@jupyter-widgets/base",
            "_view_module_version": "1.2.0",
            "_view_name": "LayoutView",
            "align_content": null,
            "align_items": null,
            "align_self": null,
            "border": null,
            "bottom": null,
            "display": null,
            "flex": null,
            "flex_flow": null,
            "grid_area": null,
            "grid_auto_columns": null,
            "grid_auto_flow": null,
            "grid_auto_rows": null,
            "grid_column": null,
            "grid_gap": null,
            "grid_row": null,
            "grid_template_areas": null,
            "grid_template_columns": null,
            "grid_template_rows": null,
            "height": null,
            "justify_content": null,
            "justify_items": null,
            "left": null,
            "margin": null,
            "max_height": null,
            "max_width": null,
            "min_height": null,
            "min_width": null,
            "object_fit": null,
            "object_position": null,
            "order": null,
            "overflow": null,
            "overflow_x": null,
            "overflow_y": null,
            "padding": null,
            "right": null,
            "top": null,
            "visibility": null,
            "width": null
          }
        },
        "45986c29ee10469185980e12e083ae9f": {
          "model_module": "@jupyter-widgets/controls",
          "model_name": "DescriptionStyleModel",
          "model_module_version": "1.5.0",
          "state": {
            "_model_module": "@jupyter-widgets/controls",
            "_model_module_version": "1.5.0",
            "_model_name": "DescriptionStyleModel",
            "_view_count": null,
            "_view_module": "@jupyter-widgets/base",
            "_view_module_version": "1.2.0",
            "_view_name": "StyleView",
            "description_width": ""
          }
        },
        "3a158fb1cb634c3782918c5b91d5e017": {
          "model_module": "@jupyter-widgets/base",
          "model_name": "LayoutModel",
          "model_module_version": "1.2.0",
          "state": {
            "_model_module": "@jupyter-widgets/base",
            "_model_module_version": "1.2.0",
            "_model_name": "LayoutModel",
            "_view_count": null,
            "_view_module": "@jupyter-widgets/base",
            "_view_module_version": "1.2.0",
            "_view_name": "LayoutView",
            "align_content": null,
            "align_items": null,
            "align_self": null,
            "border": null,
            "bottom": null,
            "display": null,
            "flex": null,
            "flex_flow": null,
            "grid_area": null,
            "grid_auto_columns": null,
            "grid_auto_flow": null,
            "grid_auto_rows": null,
            "grid_column": null,
            "grid_gap": null,
            "grid_row": null,
            "grid_template_areas": null,
            "grid_template_columns": null,
            "grid_template_rows": null,
            "height": null,
            "justify_content": null,
            "justify_items": null,
            "left": null,
            "margin": null,
            "max_height": null,
            "max_width": null,
            "min_height": null,
            "min_width": null,
            "object_fit": null,
            "object_position": null,
            "order": null,
            "overflow": null,
            "overflow_x": null,
            "overflow_y": null,
            "padding": null,
            "right": null,
            "top": null,
            "visibility": null,
            "width": null
          }
        },
        "8b20fc378c4e45418ce037a11d32498a": {
          "model_module": "@jupyter-widgets/controls",
          "model_name": "ProgressStyleModel",
          "model_module_version": "1.5.0",
          "state": {
            "_model_module": "@jupyter-widgets/controls",
            "_model_module_version": "1.5.0",
            "_model_name": "ProgressStyleModel",
            "_view_count": null,
            "_view_module": "@jupyter-widgets/base",
            "_view_module_version": "1.2.0",
            "_view_name": "StyleView",
            "bar_color": null,
            "description_width": ""
          }
        },
        "72b19953aead4a84989e7af8e91e9e3b": {
          "model_module": "@jupyter-widgets/base",
          "model_name": "LayoutModel",
          "model_module_version": "1.2.0",
          "state": {
            "_model_module": "@jupyter-widgets/base",
            "_model_module_version": "1.2.0",
            "_model_name": "LayoutModel",
            "_view_count": null,
            "_view_module": "@jupyter-widgets/base",
            "_view_module_version": "1.2.0",
            "_view_name": "LayoutView",
            "align_content": null,
            "align_items": null,
            "align_self": null,
            "border": null,
            "bottom": null,
            "display": null,
            "flex": null,
            "flex_flow": null,
            "grid_area": null,
            "grid_auto_columns": null,
            "grid_auto_flow": null,
            "grid_auto_rows": null,
            "grid_column": null,
            "grid_gap": null,
            "grid_row": null,
            "grid_template_areas": null,
            "grid_template_columns": null,
            "grid_template_rows": null,
            "height": null,
            "justify_content": null,
            "justify_items": null,
            "left": null,
            "margin": null,
            "max_height": null,
            "max_width": null,
            "min_height": null,
            "min_width": null,
            "object_fit": null,
            "object_position": null,
            "order": null,
            "overflow": null,
            "overflow_x": null,
            "overflow_y": null,
            "padding": null,
            "right": null,
            "top": null,
            "visibility": null,
            "width": null
          }
        },
        "aa98cc051c694fcaaac3f04b4b0fefad": {
          "model_module": "@jupyter-widgets/controls",
          "model_name": "DescriptionStyleModel",
          "model_module_version": "1.5.0",
          "state": {
            "_model_module": "@jupyter-widgets/controls",
            "_model_module_version": "1.5.0",
            "_model_name": "DescriptionStyleModel",
            "_view_count": null,
            "_view_module": "@jupyter-widgets/base",
            "_view_module_version": "1.2.0",
            "_view_name": "StyleView",
            "description_width": ""
          }
        },
        "3fc2d96cf2744d118337e2be3283d405": {
          "model_module": "@jupyter-widgets/controls",
          "model_name": "HBoxModel",
          "model_module_version": "1.5.0",
          "state": {
            "_dom_classes": [],
            "_model_module": "@jupyter-widgets/controls",
            "_model_module_version": "1.5.0",
            "_model_name": "HBoxModel",
            "_view_count": null,
            "_view_module": "@jupyter-widgets/controls",
            "_view_module_version": "1.5.0",
            "_view_name": "HBoxView",
            "box_style": "",
            "children": [
              "IPY_MODEL_c7e0baeac2e04531b164205972fd381a",
              "IPY_MODEL_1c8abae353ac4dd38de2d3cf964c3203",
              "IPY_MODEL_85fde0aaa22144728ff5b01dac2b9d41"
            ],
            "layout": "IPY_MODEL_d83990cbde6b43a58d78cefcdee33a7d"
          }
        },
        "c7e0baeac2e04531b164205972fd381a": {
          "model_module": "@jupyter-widgets/controls",
          "model_name": "HTMLModel",
          "model_module_version": "1.5.0",
          "state": {
            "_dom_classes": [],
            "_model_module": "@jupyter-widgets/controls",
            "_model_module_version": "1.5.0",
            "_model_name": "HTMLModel",
            "_view_count": null,
            "_view_module": "@jupyter-widgets/controls",
            "_view_module_version": "1.5.0",
            "_view_name": "HTMLView",
            "description": "",
            "description_tooltip": null,
            "layout": "IPY_MODEL_12a75468a1374b62b0bbc12d99e531bd",
            "placeholder": "​",
            "style": "IPY_MODEL_67d443740ec342a0a869f6314ab3f264",
            "value": "100%"
          }
        },
        "1c8abae353ac4dd38de2d3cf964c3203": {
          "model_module": "@jupyter-widgets/controls",
          "model_name": "FloatProgressModel",
          "model_module_version": "1.5.0",
          "state": {
            "_dom_classes": [],
            "_model_module": "@jupyter-widgets/controls",
            "_model_module_version": "1.5.0",
            "_model_name": "FloatProgressModel",
            "_view_count": null,
            "_view_module": "@jupyter-widgets/controls",
            "_view_module_version": "1.5.0",
            "_view_name": "ProgressView",
            "bar_style": "success",
            "description": "",
            "description_tooltip": null,
            "layout": "IPY_MODEL_02dc485d0e814c4596e5f0d8f5a63178",
            "max": 100,
            "min": 0,
            "orientation": "horizontal",
            "style": "IPY_MODEL_7aee06a7a051447598a012be686659c2",
            "value": 100
          }
        },
        "85fde0aaa22144728ff5b01dac2b9d41": {
          "model_module": "@jupyter-widgets/controls",
          "model_name": "HTMLModel",
          "model_module_version": "1.5.0",
          "state": {
            "_dom_classes": [],
            "_model_module": "@jupyter-widgets/controls",
            "_model_module_version": "1.5.0",
            "_model_name": "HTMLModel",
            "_view_count": null,
            "_view_module": "@jupyter-widgets/controls",
            "_view_module_version": "1.5.0",
            "_view_name": "HTMLView",
            "description": "",
            "description_tooltip": null,
            "layout": "IPY_MODEL_c134c735b9a2405fa9e8befcb02e827d",
            "placeholder": "​",
            "style": "IPY_MODEL_c12bf48b95564700abb5efe18c4226b4",
            "value": " 100/100 [00:00&lt;00:00, 1794.39it/s]"
          }
        },
        "d83990cbde6b43a58d78cefcdee33a7d": {
          "model_module": "@jupyter-widgets/base",
          "model_name": "LayoutModel",
          "model_module_version": "1.2.0",
          "state": {
            "_model_module": "@jupyter-widgets/base",
            "_model_module_version": "1.2.0",
            "_model_name": "LayoutModel",
            "_view_count": null,
            "_view_module": "@jupyter-widgets/base",
            "_view_module_version": "1.2.0",
            "_view_name": "LayoutView",
            "align_content": null,
            "align_items": null,
            "align_self": null,
            "border": null,
            "bottom": null,
            "display": null,
            "flex": null,
            "flex_flow": null,
            "grid_area": null,
            "grid_auto_columns": null,
            "grid_auto_flow": null,
            "grid_auto_rows": null,
            "grid_column": null,
            "grid_gap": null,
            "grid_row": null,
            "grid_template_areas": null,
            "grid_template_columns": null,
            "grid_template_rows": null,
            "height": null,
            "justify_content": null,
            "justify_items": null,
            "left": null,
            "margin": null,
            "max_height": null,
            "max_width": null,
            "min_height": null,
            "min_width": null,
            "object_fit": null,
            "object_position": null,
            "order": null,
            "overflow": null,
            "overflow_x": null,
            "overflow_y": null,
            "padding": null,
            "right": null,
            "top": null,
            "visibility": null,
            "width": null
          }
        },
        "12a75468a1374b62b0bbc12d99e531bd": {
          "model_module": "@jupyter-widgets/base",
          "model_name": "LayoutModel",
          "model_module_version": "1.2.0",
          "state": {
            "_model_module": "@jupyter-widgets/base",
            "_model_module_version": "1.2.0",
            "_model_name": "LayoutModel",
            "_view_count": null,
            "_view_module": "@jupyter-widgets/base",
            "_view_module_version": "1.2.0",
            "_view_name": "LayoutView",
            "align_content": null,
            "align_items": null,
            "align_self": null,
            "border": null,
            "bottom": null,
            "display": null,
            "flex": null,
            "flex_flow": null,
            "grid_area": null,
            "grid_auto_columns": null,
            "grid_auto_flow": null,
            "grid_auto_rows": null,
            "grid_column": null,
            "grid_gap": null,
            "grid_row": null,
            "grid_template_areas": null,
            "grid_template_columns": null,
            "grid_template_rows": null,
            "height": null,
            "justify_content": null,
            "justify_items": null,
            "left": null,
            "margin": null,
            "max_height": null,
            "max_width": null,
            "min_height": null,
            "min_width": null,
            "object_fit": null,
            "object_position": null,
            "order": null,
            "overflow": null,
            "overflow_x": null,
            "overflow_y": null,
            "padding": null,
            "right": null,
            "top": null,
            "visibility": null,
            "width": null
          }
        },
        "67d443740ec342a0a869f6314ab3f264": {
          "model_module": "@jupyter-widgets/controls",
          "model_name": "DescriptionStyleModel",
          "model_module_version": "1.5.0",
          "state": {
            "_model_module": "@jupyter-widgets/controls",
            "_model_module_version": "1.5.0",
            "_model_name": "DescriptionStyleModel",
            "_view_count": null,
            "_view_module": "@jupyter-widgets/base",
            "_view_module_version": "1.2.0",
            "_view_name": "StyleView",
            "description_width": ""
          }
        },
        "02dc485d0e814c4596e5f0d8f5a63178": {
          "model_module": "@jupyter-widgets/base",
          "model_name": "LayoutModel",
          "model_module_version": "1.2.0",
          "state": {
            "_model_module": "@jupyter-widgets/base",
            "_model_module_version": "1.2.0",
            "_model_name": "LayoutModel",
            "_view_count": null,
            "_view_module": "@jupyter-widgets/base",
            "_view_module_version": "1.2.0",
            "_view_name": "LayoutView",
            "align_content": null,
            "align_items": null,
            "align_self": null,
            "border": null,
            "bottom": null,
            "display": null,
            "flex": null,
            "flex_flow": null,
            "grid_area": null,
            "grid_auto_columns": null,
            "grid_auto_flow": null,
            "grid_auto_rows": null,
            "grid_column": null,
            "grid_gap": null,
            "grid_row": null,
            "grid_template_areas": null,
            "grid_template_columns": null,
            "grid_template_rows": null,
            "height": null,
            "justify_content": null,
            "justify_items": null,
            "left": null,
            "margin": null,
            "max_height": null,
            "max_width": null,
            "min_height": null,
            "min_width": null,
            "object_fit": null,
            "object_position": null,
            "order": null,
            "overflow": null,
            "overflow_x": null,
            "overflow_y": null,
            "padding": null,
            "right": null,
            "top": null,
            "visibility": null,
            "width": null
          }
        },
        "7aee06a7a051447598a012be686659c2": {
          "model_module": "@jupyter-widgets/controls",
          "model_name": "ProgressStyleModel",
          "model_module_version": "1.5.0",
          "state": {
            "_model_module": "@jupyter-widgets/controls",
            "_model_module_version": "1.5.0",
            "_model_name": "ProgressStyleModel",
            "_view_count": null,
            "_view_module": "@jupyter-widgets/base",
            "_view_module_version": "1.2.0",
            "_view_name": "StyleView",
            "bar_color": null,
            "description_width": ""
          }
        },
        "c134c735b9a2405fa9e8befcb02e827d": {
          "model_module": "@jupyter-widgets/base",
          "model_name": "LayoutModel",
          "model_module_version": "1.2.0",
          "state": {
            "_model_module": "@jupyter-widgets/base",
            "_model_module_version": "1.2.0",
            "_model_name": "LayoutModel",
            "_view_count": null,
            "_view_module": "@jupyter-widgets/base",
            "_view_module_version": "1.2.0",
            "_view_name": "LayoutView",
            "align_content": null,
            "align_items": null,
            "align_self": null,
            "border": null,
            "bottom": null,
            "display": null,
            "flex": null,
            "flex_flow": null,
            "grid_area": null,
            "grid_auto_columns": null,
            "grid_auto_flow": null,
            "grid_auto_rows": null,
            "grid_column": null,
            "grid_gap": null,
            "grid_row": null,
            "grid_template_areas": null,
            "grid_template_columns": null,
            "grid_template_rows": null,
            "height": null,
            "justify_content": null,
            "justify_items": null,
            "left": null,
            "margin": null,
            "max_height": null,
            "max_width": null,
            "min_height": null,
            "min_width": null,
            "object_fit": null,
            "object_position": null,
            "order": null,
            "overflow": null,
            "overflow_x": null,
            "overflow_y": null,
            "padding": null,
            "right": null,
            "top": null,
            "visibility": null,
            "width": null
          }
        },
        "c12bf48b95564700abb5efe18c4226b4": {
          "model_module": "@jupyter-widgets/controls",
          "model_name": "DescriptionStyleModel",
          "model_module_version": "1.5.0",
          "state": {
            "_model_module": "@jupyter-widgets/controls",
            "_model_module_version": "1.5.0",
            "_model_name": "DescriptionStyleModel",
            "_view_count": null,
            "_view_module": "@jupyter-widgets/base",
            "_view_module_version": "1.2.0",
            "_view_name": "StyleView",
            "description_width": ""
          }
        },
        "c11376b7a39e4bbb926ed835f4e2e7c2": {
          "model_module": "@jupyter-widgets/controls",
          "model_name": "HBoxModel",
          "model_module_version": "1.5.0",
          "state": {
            "_dom_classes": [],
            "_model_module": "@jupyter-widgets/controls",
            "_model_module_version": "1.5.0",
            "_model_name": "HBoxModel",
            "_view_count": null,
            "_view_module": "@jupyter-widgets/controls",
            "_view_module_version": "1.5.0",
            "_view_name": "HBoxView",
            "box_style": "",
            "children": [
              "IPY_MODEL_c48aac9981c44a349fe5536382300935",
              "IPY_MODEL_dee8862c5660420586c59adf75053700",
              "IPY_MODEL_c8e40394edb4481d96404da2f3035169"
            ],
            "layout": "IPY_MODEL_5bfd2977a3ed427c8699ec95a385240d"
          }
        },
        "c48aac9981c44a349fe5536382300935": {
          "model_module": "@jupyter-widgets/controls",
          "model_name": "HTMLModel",
          "model_module_version": "1.5.0",
          "state": {
            "_dom_classes": [],
            "_model_module": "@jupyter-widgets/controls",
            "_model_module_version": "1.5.0",
            "_model_name": "HTMLModel",
            "_view_count": null,
            "_view_module": "@jupyter-widgets/controls",
            "_view_module_version": "1.5.0",
            "_view_name": "HTMLView",
            "description": "",
            "description_tooltip": null,
            "layout": "IPY_MODEL_93b1c1952e2f42a4bf9fe76b6153537d",
            "placeholder": "​",
            "style": "IPY_MODEL_72436b70d4f840ecb8e95b38c8455938",
            "value": "100%"
          }
        },
        "dee8862c5660420586c59adf75053700": {
          "model_module": "@jupyter-widgets/controls",
          "model_name": "FloatProgressModel",
          "model_module_version": "1.5.0",
          "state": {
            "_dom_classes": [],
            "_model_module": "@jupyter-widgets/controls",
            "_model_module_version": "1.5.0",
            "_model_name": "FloatProgressModel",
            "_view_count": null,
            "_view_module": "@jupyter-widgets/controls",
            "_view_module_version": "1.5.0",
            "_view_name": "ProgressView",
            "bar_style": "success",
            "description": "",
            "description_tooltip": null,
            "layout": "IPY_MODEL_6959473b4b5949798d0ce2f6b6c3e0ef",
            "max": 100,
            "min": 0,
            "orientation": "horizontal",
            "style": "IPY_MODEL_5cf069b2412d4f9498b5298748f1fa89",
            "value": 100
          }
        },
        "c8e40394edb4481d96404da2f3035169": {
          "model_module": "@jupyter-widgets/controls",
          "model_name": "HTMLModel",
          "model_module_version": "1.5.0",
          "state": {
            "_dom_classes": [],
            "_model_module": "@jupyter-widgets/controls",
            "_model_module_version": "1.5.0",
            "_model_name": "HTMLModel",
            "_view_count": null,
            "_view_module": "@jupyter-widgets/controls",
            "_view_module_version": "1.5.0",
            "_view_name": "HTMLView",
            "description": "",
            "description_tooltip": null,
            "layout": "IPY_MODEL_c1992c1930fe4c85ab7490b5036b7e88",
            "placeholder": "​",
            "style": "IPY_MODEL_cb2615e676f5434fa1bb88f26fd26da8",
            "value": " 100/100 [00:00&lt;00:00, 5253.26it/s]"
          }
        },
        "5bfd2977a3ed427c8699ec95a385240d": {
          "model_module": "@jupyter-widgets/base",
          "model_name": "LayoutModel",
          "model_module_version": "1.2.0",
          "state": {
            "_model_module": "@jupyter-widgets/base",
            "_model_module_version": "1.2.0",
            "_model_name": "LayoutModel",
            "_view_count": null,
            "_view_module": "@jupyter-widgets/base",
            "_view_module_version": "1.2.0",
            "_view_name": "LayoutView",
            "align_content": null,
            "align_items": null,
            "align_self": null,
            "border": null,
            "bottom": null,
            "display": null,
            "flex": null,
            "flex_flow": null,
            "grid_area": null,
            "grid_auto_columns": null,
            "grid_auto_flow": null,
            "grid_auto_rows": null,
            "grid_column": null,
            "grid_gap": null,
            "grid_row": null,
            "grid_template_areas": null,
            "grid_template_columns": null,
            "grid_template_rows": null,
            "height": null,
            "justify_content": null,
            "justify_items": null,
            "left": null,
            "margin": null,
            "max_height": null,
            "max_width": null,
            "min_height": null,
            "min_width": null,
            "object_fit": null,
            "object_position": null,
            "order": null,
            "overflow": null,
            "overflow_x": null,
            "overflow_y": null,
            "padding": null,
            "right": null,
            "top": null,
            "visibility": null,
            "width": null
          }
        },
        "93b1c1952e2f42a4bf9fe76b6153537d": {
          "model_module": "@jupyter-widgets/base",
          "model_name": "LayoutModel",
          "model_module_version": "1.2.0",
          "state": {
            "_model_module": "@jupyter-widgets/base",
            "_model_module_version": "1.2.0",
            "_model_name": "LayoutModel",
            "_view_count": null,
            "_view_module": "@jupyter-widgets/base",
            "_view_module_version": "1.2.0",
            "_view_name": "LayoutView",
            "align_content": null,
            "align_items": null,
            "align_self": null,
            "border": null,
            "bottom": null,
            "display": null,
            "flex": null,
            "flex_flow": null,
            "grid_area": null,
            "grid_auto_columns": null,
            "grid_auto_flow": null,
            "grid_auto_rows": null,
            "grid_column": null,
            "grid_gap": null,
            "grid_row": null,
            "grid_template_areas": null,
            "grid_template_columns": null,
            "grid_template_rows": null,
            "height": null,
            "justify_content": null,
            "justify_items": null,
            "left": null,
            "margin": null,
            "max_height": null,
            "max_width": null,
            "min_height": null,
            "min_width": null,
            "object_fit": null,
            "object_position": null,
            "order": null,
            "overflow": null,
            "overflow_x": null,
            "overflow_y": null,
            "padding": null,
            "right": null,
            "top": null,
            "visibility": null,
            "width": null
          }
        },
        "72436b70d4f840ecb8e95b38c8455938": {
          "model_module": "@jupyter-widgets/controls",
          "model_name": "DescriptionStyleModel",
          "model_module_version": "1.5.0",
          "state": {
            "_model_module": "@jupyter-widgets/controls",
            "_model_module_version": "1.5.0",
            "_model_name": "DescriptionStyleModel",
            "_view_count": null,
            "_view_module": "@jupyter-widgets/base",
            "_view_module_version": "1.2.0",
            "_view_name": "StyleView",
            "description_width": ""
          }
        },
        "6959473b4b5949798d0ce2f6b6c3e0ef": {
          "model_module": "@jupyter-widgets/base",
          "model_name": "LayoutModel",
          "model_module_version": "1.2.0",
          "state": {
            "_model_module": "@jupyter-widgets/base",
            "_model_module_version": "1.2.0",
            "_model_name": "LayoutModel",
            "_view_count": null,
            "_view_module": "@jupyter-widgets/base",
            "_view_module_version": "1.2.0",
            "_view_name": "LayoutView",
            "align_content": null,
            "align_items": null,
            "align_self": null,
            "border": null,
            "bottom": null,
            "display": null,
            "flex": null,
            "flex_flow": null,
            "grid_area": null,
            "grid_auto_columns": null,
            "grid_auto_flow": null,
            "grid_auto_rows": null,
            "grid_column": null,
            "grid_gap": null,
            "grid_row": null,
            "grid_template_areas": null,
            "grid_template_columns": null,
            "grid_template_rows": null,
            "height": null,
            "justify_content": null,
            "justify_items": null,
            "left": null,
            "margin": null,
            "max_height": null,
            "max_width": null,
            "min_height": null,
            "min_width": null,
            "object_fit": null,
            "object_position": null,
            "order": null,
            "overflow": null,
            "overflow_x": null,
            "overflow_y": null,
            "padding": null,
            "right": null,
            "top": null,
            "visibility": null,
            "width": null
          }
        },
        "5cf069b2412d4f9498b5298748f1fa89": {
          "model_module": "@jupyter-widgets/controls",
          "model_name": "ProgressStyleModel",
          "model_module_version": "1.5.0",
          "state": {
            "_model_module": "@jupyter-widgets/controls",
            "_model_module_version": "1.5.0",
            "_model_name": "ProgressStyleModel",
            "_view_count": null,
            "_view_module": "@jupyter-widgets/base",
            "_view_module_version": "1.2.0",
            "_view_name": "StyleView",
            "bar_color": null,
            "description_width": ""
          }
        },
        "c1992c1930fe4c85ab7490b5036b7e88": {
          "model_module": "@jupyter-widgets/base",
          "model_name": "LayoutModel",
          "model_module_version": "1.2.0",
          "state": {
            "_model_module": "@jupyter-widgets/base",
            "_model_module_version": "1.2.0",
            "_model_name": "LayoutModel",
            "_view_count": null,
            "_view_module": "@jupyter-widgets/base",
            "_view_module_version": "1.2.0",
            "_view_name": "LayoutView",
            "align_content": null,
            "align_items": null,
            "align_self": null,
            "border": null,
            "bottom": null,
            "display": null,
            "flex": null,
            "flex_flow": null,
            "grid_area": null,
            "grid_auto_columns": null,
            "grid_auto_flow": null,
            "grid_auto_rows": null,
            "grid_column": null,
            "grid_gap": null,
            "grid_row": null,
            "grid_template_areas": null,
            "grid_template_columns": null,
            "grid_template_rows": null,
            "height": null,
            "justify_content": null,
            "justify_items": null,
            "left": null,
            "margin": null,
            "max_height": null,
            "max_width": null,
            "min_height": null,
            "min_width": null,
            "object_fit": null,
            "object_position": null,
            "order": null,
            "overflow": null,
            "overflow_x": null,
            "overflow_y": null,
            "padding": null,
            "right": null,
            "top": null,
            "visibility": null,
            "width": null
          }
        },
        "cb2615e676f5434fa1bb88f26fd26da8": {
          "model_module": "@jupyter-widgets/controls",
          "model_name": "DescriptionStyleModel",
          "model_module_version": "1.5.0",
          "state": {
            "_model_module": "@jupyter-widgets/controls",
            "_model_module_version": "1.5.0",
            "_model_name": "DescriptionStyleModel",
            "_view_count": null,
            "_view_module": "@jupyter-widgets/base",
            "_view_module_version": "1.2.0",
            "_view_name": "StyleView",
            "description_width": ""
          }
        }
      }
    },
    "accelerator": "GPU"
  },
  "nbformat": 4,
  "nbformat_minor": 0
}